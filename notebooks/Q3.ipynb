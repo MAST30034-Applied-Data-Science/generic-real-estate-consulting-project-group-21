{
 "cells": [
  {
   "cell_type": "code",
   "execution_count": 80,
   "metadata": {},
   "outputs": [],
   "source": [
    "import pandas as pd\n",
    "\n",
    "df = pd.read_csv('../data/curated/Q3engineered-data.csv')\n"
   ]
  },
  {
   "cell_type": "markdown",
   "metadata": {},
   "source": [
    "Affordability"
   ]
  },
  {
   "cell_type": "code",
   "execution_count": 81,
   "metadata": {},
   "outputs": [],
   "source": [
    "dfaff = df.groupby('suburb').agg({'price':'mean','bedrooms':'mean'}).reset_index()\n",
    "dfaff['Affordability'] = dfaff['price'] / dfaff['bedrooms']\n",
    "dfaff = dfaff.sort_values(by='Affordability')"
   ]
  },
  {
   "cell_type": "code",
   "execution_count": 82,
   "metadata": {},
   "outputs": [
    {
     "data": {
      "text/plain": [
       "178         Mambourin\n",
       "179       Manor Lakes\n",
       "224          Plumpton\n",
       "275    Thornhill Park\n",
       "302      Wyndham Vale\n",
       "Name: suburb, dtype: object"
      ]
     },
     "execution_count": 82,
     "metadata": {},
     "output_type": "execute_result"
    }
   ],
   "source": [
    "dfaff['suburb'][0:5]"
   ]
  },
  {
   "cell_type": "markdown",
   "metadata": {},
   "source": [
    "Liveability"
   ]
  },
  {
   "cell_type": "code",
   "execution_count": 83,
   "metadata": {},
   "outputs": [],
   "source": [
    "df['overall_icsea']=df['min_pri_icsea']+df['min_sec_icsea']"
   ]
  },
  {
   "cell_type": "code",
   "execution_count": 84,
   "metadata": {},
   "outputs": [],
   "source": [
    "icsea_list=[df['overall_icsea'].quantile(0.33),df['overall_icsea'].quantile(0.66)]"
   ]
  },
  {
   "cell_type": "code",
   "execution_count": 85,
   "metadata": {},
   "outputs": [],
   "source": [
    "crime_list=[df['Crime Rate'].quantile(0.33),df['Crime Rate'].quantile(0.66)]"
   ]
  },
  {
   "cell_type": "code",
   "execution_count": 86,
   "metadata": {},
   "outputs": [],
   "source": [
    "def calculate_livability(row):\n",
    "    sum = 0\n",
    "    # park walkability\n",
    "    if row['park_walkability'] == '$<$1.5 km':\n",
    "        sum+=1\n",
    "    elif row['park_walkability'] == '1.5-5km':\n",
    "        sum += 0.5\n",
    "    # School walkbility\n",
    "    if row['is_primary_school_walkable'] == 'Yes': sum += 0.5\n",
    "    if row['is_secondary_school_walkable'] == 'Yes': sum += 0.5\n",
    "    # Public transport walkbility\n",
    "    if row['is_train_station_walkable'] == '$<$1.5 km':\n",
    "        sum+=0.7\n",
    "    elif row['is_train_station_walkable'] == '1.5-5km':\n",
    "        sum += 0.35\n",
    "    if row['is_tram_walkable'] == '$<$1.5 km':\n",
    "        sum+=0.2\n",
    "    elif row['is_tram_walkable'] == '1.5-5km':\n",
    "        sum += 0.1\n",
    "    if row['is_bus_walkable'] == '$<$1.5 km':\n",
    "        sum+=0.1\n",
    "    elif row['is_bus_walkable'] == '1.5-5km':\n",
    "        sum += 0.05\n",
    "    # School rating\n",
    "    if row['overall_icsea'] > icsea_list[1]:\n",
    "        sum+=1\n",
    "    elif row['overall_icsea'] > icsea_list[0]:\n",
    "        sum+=0.5\n",
    "    # Crime number\n",
    "    if row['Crime Rate'] < crime_list[0]:\n",
    "        sum+=1\n",
    "    elif row['Crime Rate'] < crime_list[1]:\n",
    "        sum+=0.5\n",
    "\n",
    "    return sum\n"
   ]
  },
  {
   "cell_type": "code",
   "execution_count": 87,
   "metadata": {},
   "outputs": [],
   "source": [
    "df['livability']=df.apply(calculate_livability, axis=1)"
   ]
  },
  {
   "cell_type": "code",
   "execution_count": 88,
   "metadata": {},
   "outputs": [],
   "source": [
    "dfliv = df.groupby('suburb').agg({'livability':'mean'}).reset_index()\n",
    "dfliv = dfliv.sort_values(by='livability',ascending=False)"
   ]
  },
  {
   "cell_type": "code",
   "execution_count": 90,
   "metadata": {},
   "outputs": [
    {
     "data": {
      "text/plain": [
       "229     Princes Hill\n",
       "4        Albert Park\n",
       "119    Fitzroy North\n",
       "137         Hawthorn\n",
       "57        Canterbury\n",
       "Name: suburb, dtype: object"
      ]
     },
     "execution_count": 90,
     "metadata": {},
     "output_type": "execute_result"
    }
   ],
   "source": [
    "dfliv['suburb'][0:5]"
   ]
  }
 ],
 "metadata": {
  "kernelspec": {
   "display_name": "Python 3.8.10 64-bit",
   "language": "python",
   "name": "python3"
  },
  "language_info": {
   "codemirror_mode": {
    "name": "ipython",
    "version": 3
   },
   "file_extension": ".py",
   "mimetype": "text/x-python",
   "name": "python",
   "nbconvert_exporter": "python",
   "pygments_lexer": "ipython3",
   "version": "3.8.10"
  },
  "orig_nbformat": 4,
  "vscode": {
   "interpreter": {
    "hash": "916dbcbb3f70747c44a77c7bcd40155683ae19c65e1c03b4aa3499c5328201f1"
   }
  }
 },
 "nbformat": 4,
 "nbformat_minor": 2
}
