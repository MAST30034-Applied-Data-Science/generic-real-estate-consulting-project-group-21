{
 "cells": [
  {
   "cell_type": "code",
   "execution_count": null,
   "metadata": {},
   "outputs": [],
   "source": [
    "import requests\n",
    "from os.path import exists\n",
    "import zipfile\n",
    "import folium\n",
    "import pandas as pd\n",
    "import geopandas as gpd\n",
    "import math\n",
    "import numpy as np\n",
    "import matplotlib.pyplot as plt\n",
    "from pathlib import Path\n"
   ]
  },
  {
   "cell_type": "code",
   "execution_count": null,
   "metadata": {},
   "outputs": [],
   "source": [
    "if not exists('../data/raw/sa.zip'):\n",
    "    r = requests.get('https://www.abs.gov.au/statistics/standards/australian-statistical-geography-standard-asgs-edition-3/jul2021-jun2026/access-and-downloads/digital-boundary-files/SA2_2021_AUST_SHP_GDA2020.zip',allow_redirects=True)\n",
    "    open('../data/raw/sa.zip', 'wb').write(r.content)\n",
    "if not exists('../data/raw/SA2_2021_AUST_GDA2020.shp'):\n",
    "    with zipfile.ZipFile(\"../data/raw/sa.zip\",\"r\") as zip_ref:\n",
    "        zip_ref.extractall(path='../data/raw')\n"
   ]
  },
  {
   "cell_type": "code",
   "execution_count": null,
   "metadata": {},
   "outputs": [
    {
     "name": "stderr",
     "output_type": "stream",
     "text": [
      "/tmp/ipykernel_8744/2259639699.py:9: UserWarning:\n",
      "\n",
      "Geometry is in a geographic CRS. Results from 'area' are likely incorrect. Use 'GeoSeries.to_crs()' to re-project geometries to a projected CRS before this operation.\n",
      "\n",
      "\n"
     ]
    }
   ],
   "source": [
    "# Preoprocess SA2 geometry\n",
    "\n",
    "SA2 = gpd.read_file(\"../data/raw/SA2_2021_AUST_GDA2020.shp\")\n",
    "SA2 = SA2[SA2['STE_NAME21'] == 'Victoria'] #select victoria data\n",
    "SA2 = SA2[SA2['geometry'] != None] # two instances are removed\n",
    "SA2 = SA2[['SA2_CODE21','geometry']]\n",
    "SA2 = SA2.rename(columns={'SA2_CODE21':'SA2 code'})\n",
    "SA2['geometry'] = SA2['geometry'].to_crs(\"+proj=longlat +ellps=WGS84 +datum=WGS84 +no_defs\")\n",
    "SA2['SA2area']= SA2['geometry'].area \n",
    "\n",
    "SA2['SA2 code'] = SA2['SA2 code'].astype(int)\n",
    "\n"
   ]
  },
  {
   "cell_type": "code",
   "execution_count": null,
   "metadata": {},
   "outputs": [
    {
     "name": "stderr",
     "output_type": "stream",
     "text": [
      "/tmp/ipykernel_8744/3855079970.py:6: UserWarning:\n",
      "\n",
      "Geometry is in a geographic CRS. Results from 'area' are likely incorrect. Use 'GeoSeries.to_crs()' to re-project geometries to a projected CRS before this operation.\n",
      "\n",
      "\n"
     ]
    }
   ],
   "source": [
    "# Preoprocess suburb geometry\n",
    "\n",
    "gdf = gpd.read_file('../data/raw/gda94_victoriagrid/esrishape/whole_of_dataset/victoria/VMADMIN/POSTCODE_POLYGON.shp')\n",
    "gdf = gdf[['POSTCODE','geometry']]\n",
    "gdf['geometry'] = gdf['geometry'].to_crs(\"+proj=longlat +ellps=WGS84 +datum=WGS84 +no_defs\")\n",
    "gdf['subarea']= gdf['geometry'].area \n",
    "gdf['POSTCODE'] = gdf['POSTCODE'].astype(int)"
   ]
  },
  {
   "cell_type": "code",
   "execution_count": null,
   "metadata": {},
   "outputs": [
    {
     "name": "stderr",
     "output_type": "stream",
     "text": [
      "/tmp/ipykernel_8744/3457130956.py:5: UserWarning:\n",
      "\n",
      "Geometry is in a geographic CRS. Results from 'area' are likely incorrect. Use 'GeoSeries.to_crs()' to re-project geometries to a projected CRS before this operation.\n",
      "\n",
      "\n"
     ]
    }
   ],
   "source": [
    "# Gain intersection of suburb and SA2\n",
    "\n",
    "inter = gpd.overlay(SA2,gdf, how=\"intersection\")\n",
    "inter['geometry'] = inter['geometry'].to_crs(\"+proj=longlat +ellps=WGS84 +datum=WGS84 +no_defs\")\n",
    "inter['intersectionarea'] = inter['geometry'].area\n"
   ]
  },
  {
   "cell_type": "code",
   "execution_count": null,
   "metadata": {},
   "outputs": [],
   "source": [
    "def convert_SA2_to_suburb(file,inter,methodology,name):\n",
    "    # Taking a file that contains info about something according to SA2, and inter, the geometry information of SA2 and suburb, this function converts the file information to suburb and return it\n",
    "    \n",
    "    df = pd.read_csv(file)\n",
    "    intergdf = gpd.GeoDataFrame(\n",
    "        pd.merge(df, inter, on='SA2 code', how='inner')\n",
    "    )\n",
    "    \n",
    "    years = list(set(df.columns)-set(['SA2 code']))\n",
    "    years.sort()\n",
    "\n",
    "    # Percentage of the area of this district compared to its SA2 district\n",
    "    intergdf['ratio'] = intergdf['intersectionarea'] / intergdf[methodology] \n",
    "    \n",
    "    for year in years:\n",
    "        # Calculate number in that district\n",
    "        intergdf[year] = intergdf[year] * intergdf['ratio'] \n",
    " \n",
    "    resultdf = intergdf.groupby(['POSTCODE']).sum()[years].reset_index() #sum the number in one suburb\n",
    "\n",
    "\n",
    "    # Make sure the whole ratio is 1 overall and check for outlier\n",
    "    a = intergdf.groupby(name).sum('ratio').reset_index()\n",
    "    plt.figure(1)\n",
    "    pd.options.plotting.backend = \"plotly\"\n",
    "    v = a.plot(kind='scatter', x=name, y='ratio').show()\n",
    "\n",
    "    plt.figure(2)\n",
    "    barWidth = 0.4\n",
    "    r1 = np.arange(len(resultdf.sum()[years]))\n",
    "    r2 = [x + barWidth for x in r1]\n",
    "\n",
    "    plt.bar(r1, df.sum()[years], color='r', width=barWidth, edgecolor='white', label='original SA2 result')\n",
    "    plt.bar(r2, resultdf.sum()[years], color='b', width=barWidth, edgecolor='white', label='suburb result')\n",
    "    plt.xticks([r + barWidth for r in range(len(resultdf.sum()[years]))], years)\n",
    "    plt.legend()\n",
    "    plt.show()\n",
    "    return resultdf\n",
    "\n",
    "\n",
    "\n"
   ]
  },
  {
   "cell_type": "markdown",
   "metadata": {},
   "source": [
    "There is a simple example on how it is calculated. Population is proportional to SA2 area, for it is reasonable to assumn that people are equally distributed within SA2 districts. Income is proportional to suburb area, as it is not proportional to the SA2 area, hence we sum up the income in each suburb by its percentage area within suburb.\n",
    "\n",
    "<img src=\"../plots/SA2toSub.jpg\" width=800 height=600 />"
   ]
  },
  {
   "cell_type": "code",
   "execution_count": null,
   "metadata": {},
   "outputs": [],
   "source": [
    "# Calculation of intersection area income is based on its percentage on suburb.\n",
    "\n",
    "filepath=Path('../data/curated/subincome.csv')  \n",
    "resultdf=convert_SA2_to_suburb('../data/curated/predictincome.csv',inter,'subarea','POSTCODE')\n",
    "resultdf.to_csv(filepath, index=False)\n",
    "\n",
    "originaldf = pd.read_csv('../data/curated/predictincome.csv')\n",
    "comparedf = gpd.GeoDataFrame(\n",
    "    pd.merge(SA2, originaldf, on='SA2 code', how='inner')\n",
    ")"
   ]
  },
  {
   "cell_type": "code",
   "execution_count": null,
   "metadata": {},
   "outputs": [],
   "source": [
    "comparedf.explore()"
   ]
  },
  {
   "cell_type": "code",
   "execution_count": null,
   "metadata": {},
   "outputs": [],
   "source": [
    "comparedf = gpd.GeoDataFrame(\n",
    "    pd.merge(gdf, resultdf, on='POSTCODE', how='inner')\n",
    ")"
   ]
  },
  {
   "cell_type": "code",
   "execution_count": null,
   "metadata": {},
   "outputs": [],
   "source": [
    "comparedf.explore()"
   ]
  },
  {
   "cell_type": "code",
   "execution_count": null,
   "metadata": {},
   "outputs": [],
   "source": [
    "# Calculation of intersection area population is based on its percentage on SA2 area.\n",
    "\n",
    "filepath=Path('../data/curated/subpopu.csv')  \n",
    "resultdf=convert_SA2_to_suburb('../data/curated/predictpopu.csv',inter,'SA2area','SA2 code')\n",
    "resultdf.to_csv(filepath, index=False)\n",
    "originaldf = pd.read_csv('../data/curated/predictpopu.csv')\n",
    "comparedf = gpd.GeoDataFrame(\n",
    "    pd.merge(SA2, originaldf, on='SA2 code', how='inner')\n",
    ")"
   ]
  },
  {
   "cell_type": "code",
   "execution_count": null,
   "metadata": {},
   "outputs": [],
   "source": [
    "comparedf.explore()"
   ]
  },
  {
   "cell_type": "code",
   "execution_count": null,
   "metadata": {},
   "outputs": [],
   "source": [
    "comparedf = gpd.GeoDataFrame(\n",
    "    pd.merge(gdf, resultdf, on='POSTCODE', how='inner')\n",
    ")"
   ]
  },
  {
   "cell_type": "code",
   "execution_count": null,
   "metadata": {},
   "outputs": [],
   "source": [
    "comparedf.explore()"
   ]
  },
  {
   "cell_type": "markdown",
   "metadata": {},
   "source": [
    "After observaion of both diagnose plots, transformation of population is quiet successful, while income is not that satisfactory. \n",
    "\n",
    "For the ratio, population is almost perfect with only several outliers, while for income, we got less than 10 per cent of dots under 0.8. \n",
    "\n",
    "There might be several reasons that causes the difference. For example, not accurate geometry information, not accurate geopandas area calculation, python numerical operation loses precision. However, the biggest one among them should be inadequate data from income. We got 463 instances from income and 523 instances from population, which means that some SA2 districts dont contain information about income. It can also be observed that in the first explore map, many areas in Victoria are not covered."
   ]
  }
 ],
 "metadata": {
  "kernelspec": {
   "display_name": "Python 3.8.10 64-bit",
   "language": "python",
   "name": "python3"
  },
  "language_info": {
   "codemirror_mode": {
    "name": "ipython",
    "version": 3
   },
   "file_extension": ".py",
   "mimetype": "text/x-python",
   "name": "python",
   "nbconvert_exporter": "python",
   "pygments_lexer": "ipython3",
   "version": "3.8.10"
  },
  "orig_nbformat": 4,
  "vscode": {
   "interpreter": {
    "hash": "916dbcbb3f70747c44a77c7bcd40155683ae19c65e1c03b4aa3499c5328201f1"
   }
  }
 },
 "nbformat": 4,
 "nbformat_minor": 2
}
