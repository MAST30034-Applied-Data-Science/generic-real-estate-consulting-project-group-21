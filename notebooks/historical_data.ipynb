{
 "cells": [
  {
   "cell_type": "code",
   "execution_count": 27,
   "metadata": {},
   "outputs": [],
   "source": [
    "import pandas as pd\n",
    "import numpy as np"
   ]
  },
  {
   "cell_type": "code",
   "execution_count": 28,
   "metadata": {},
   "outputs": [],
   "source": [
    "# read file, sheet_name=None to read multiple sheets\n",
    "dict_df = pd.read_excel(\"../data/raw/Moving annual rent by suburb - March Quarter 2021.xlsx\", sheet_name = None, header = None)\n",
    "# Source of Hisotrical rental data: https://www.dhhs.vic.gov.au/past-rental-reports\n",
    "# Rental Report 2021: Moving annualrents by suburb - March"
   ]
  },
  {
   "cell_type": "code",
   "execution_count": 43,
   "metadata": {},
   "outputs": [],
   "source": [
    "# Define function - gets the year of the last four bits of a string\n",
    "\n",
    "def get_year(s):\n",
    "    \"\"\"\n",
    "    get year\n",
    "    :param s: acquire year in the xlsx\n",
    "    :returns: np.nan\n",
    "    \"\"\"\n",
    "    try:\n",
    "        return int(s[-4:])  # last four digits\n",
    "    except Exception:\n",
    "        return np.nan"
   ]
  },
  {
   "cell_type": "code",
   "execution_count": 44,
   "metadata": {},
   "outputs": [],
   "source": [
    "def get_month(s):\n",
    "    \"\"\"\n",
    "    get month\n",
    "    :param s: acquire month in the xlsx\n",
    "    :returns: np.nan\n",
    "    \"\"\"\n",
    "    try:\n",
    "        return s[:3]\n",
    "    except Exception:\n",
    "        return np.nan"
   ]
  },
  {
   "cell_type": "code",
   "execution_count": 45,
   "metadata": {},
   "outputs": [],
   "source": [
    "is_first = True\n",
    "for sheet in dict_df:\n",
    "    if is_first:\n",
    "        df = dict_df[sheet].iloc[2:4, :].copy()  # header\n",
    "        df = df.fillna(method = \"pad\", axis = 1)  # Fill in the missing values with the previous column\n",
    "        is_first = False\n",
    "    df_sheet = dict_df[sheet].iloc[4:, ].copy()\n",
    "    df_sheet[\"types\"] = sheet  # Adding a 'type' column\n",
    "    df = df.append(df_sheet)  # merge to the main table\n",
    "del df[0]"
   ]
  },
  {
   "cell_type": "code",
   "execution_count": 46,
   "metadata": {},
   "outputs": [],
   "source": [
    "df_T = df.T  # Transpose in numpy, for logical indexing\n",
    "df_T[\"year\"] = df_T.iloc[:, 0].apply(get_year)  # apply (get_year) to obtain column 'year'\n",
    "df_T[\"month\"] = df_T.iloc[:, 0].apply(get_month)  # apply (get_month) to obtain column 'month'\n",
    "df_T = df_T.loc[((df_T[\"year\"] >= 2016) & (df_T[\"year\"] <= 2021)&(df_T[\"month\"] == \"Jun\")) | df_T[\"year\"].isna()]  # Keep rows with year of 2016-2021 and null values\n",
    "df_T = df_T.loc[(df_T[3] == \"Median\") | df_T[3].isna()]  # keep median column\n",
    "del df_T[3], df_T[2]  # remove unnecessary columns\n",
    "del df_T[\"month\"]  # remove month column\n",
    "del df_T[\"year\"]  # remove year column\n",
    "df_all = df_T.T  # transpose\n",
    "df_all.columns = [\"Sub\", 2016, 2017, 2018, 2019, 2020, \"Type\"]  # Set the column name"
   ]
  },
  {
   "cell_type": "code",
   "execution_count": 47,
   "metadata": {},
   "outputs": [],
   "source": [
    "is_first = True\n",
    "for year in range(2016, 2021):\n",
    "    df_year = df_all[[\"Sub\", \"Type\"]].copy()\n",
    "    df_year[\"Year\"] = year\n",
    "    df_year[\"Median_Price\"] = df_all[year].copy()\n",
    "    if is_first:\n",
    "        df_result = df_year.copy()\n",
    "        is_first = False\n",
    "    else:\n",
    "        df_result = df_result.append(df_year)"
   ]
  },
  {
   "cell_type": "code",
   "execution_count": 48,
   "metadata": {},
   "outputs": [
    {
     "data": {
      "text/html": [
       "<div>\n",
       "<style scoped>\n",
       "    .dataframe tbody tr th:only-of-type {\n",
       "        vertical-align: middle;\n",
       "    }\n",
       "\n",
       "    .dataframe tbody tr th {\n",
       "        vertical-align: top;\n",
       "    }\n",
       "\n",
       "    .dataframe thead th {\n",
       "        text-align: right;\n",
       "    }\n",
       "</style>\n",
       "<table border=\"1\" class=\"dataframe\">\n",
       "  <thead>\n",
       "    <tr style=\"text-align: right;\">\n",
       "      <th></th>\n",
       "      <th>Sub</th>\n",
       "      <th>Type</th>\n",
       "      <th>Year</th>\n",
       "      <th>Median_Price</th>\n",
       "    </tr>\n",
       "  </thead>\n",
       "  <tbody>\n",
       "    <tr>\n",
       "      <th>4</th>\n",
       "      <td>Albert Park-Middle Park-West St Kilda</td>\n",
       "      <td>1 bedroom flat</td>\n",
       "      <td>2016</td>\n",
       "      <td>325</td>\n",
       "    </tr>\n",
       "    <tr>\n",
       "      <th>5</th>\n",
       "      <td>Armadale</td>\n",
       "      <td>1 bedroom flat</td>\n",
       "      <td>2016</td>\n",
       "      <td>310</td>\n",
       "    </tr>\n",
       "    <tr>\n",
       "      <th>6</th>\n",
       "      <td>Carlton North</td>\n",
       "      <td>1 bedroom flat</td>\n",
       "      <td>2016</td>\n",
       "      <td>330</td>\n",
       "    </tr>\n",
       "    <tr>\n",
       "      <th>7</th>\n",
       "      <td>Carlton-Parkville</td>\n",
       "      <td>1 bedroom flat</td>\n",
       "      <td>2016</td>\n",
       "      <td>330</td>\n",
       "    </tr>\n",
       "    <tr>\n",
       "      <th>8</th>\n",
       "      <td>CBD-St Kilda Rd</td>\n",
       "      <td>1 bedroom flat</td>\n",
       "      <td>2016</td>\n",
       "      <td>380</td>\n",
       "    </tr>\n",
       "    <tr>\n",
       "      <th>...</th>\n",
       "      <td>...</td>\n",
       "      <td>...</td>\n",
       "      <td>...</td>\n",
       "      <td>...</td>\n",
       "    </tr>\n",
       "    <tr>\n",
       "      <th>158</th>\n",
       "      <td>Wanagaratta</td>\n",
       "      <td>All properties</td>\n",
       "      <td>2020</td>\n",
       "      <td>300</td>\n",
       "    </tr>\n",
       "    <tr>\n",
       "      <th>159</th>\n",
       "      <td>Warragul</td>\n",
       "      <td>All properties</td>\n",
       "      <td>2020</td>\n",
       "      <td>350</td>\n",
       "    </tr>\n",
       "    <tr>\n",
       "      <th>160</th>\n",
       "      <td>Warrnambool</td>\n",
       "      <td>All properties</td>\n",
       "      <td>2020</td>\n",
       "      <td>340</td>\n",
       "    </tr>\n",
       "    <tr>\n",
       "      <th>161</th>\n",
       "      <td>Wodonga</td>\n",
       "      <td>All properties</td>\n",
       "      <td>2020</td>\n",
       "      <td>330</td>\n",
       "    </tr>\n",
       "    <tr>\n",
       "      <th>162</th>\n",
       "      <td>Group Total</td>\n",
       "      <td>All properties</td>\n",
       "      <td>2020</td>\n",
       "      <td>310</td>\n",
       "    </tr>\n",
       "  </tbody>\n",
       "</table>\n",
       "<p>5565 rows × 4 columns</p>\n",
       "</div>"
      ],
      "text/plain": [
       "                                       Sub            Type  Year Median_Price\n",
       "4    Albert Park-Middle Park-West St Kilda  1 bedroom flat  2016          325\n",
       "5                                 Armadale  1 bedroom flat  2016          310\n",
       "6                            Carlton North  1 bedroom flat  2016          330\n",
       "7                        Carlton-Parkville  1 bedroom flat  2016          330\n",
       "8                          CBD-St Kilda Rd  1 bedroom flat  2016          380\n",
       "..                                     ...             ...   ...          ...\n",
       "158                            Wanagaratta  All properties  2020          300\n",
       "159                               Warragul  All properties  2020          350\n",
       "160                            Warrnambool  All properties  2020          340\n",
       "161                                Wodonga  All properties  2020          330\n",
       "162                            Group Total  All properties  2020          310\n",
       "\n",
       "[5565 rows x 4 columns]"
      ]
     },
     "execution_count": 48,
     "metadata": {},
     "output_type": "execute_result"
    }
   ],
   "source": [
    "df_result"
   ]
  },
  {
   "cell_type": "code",
   "execution_count": 49,
   "metadata": {},
   "outputs": [],
   "source": [
    "# output to csv\n",
    "df_result.to_csv(\"../data/curated/historical_data.csv\", index = False)"
   ]
  }
 ],
 "metadata": {
  "kernelspec": {
   "display_name": "Python 3 (ipykernel)",
   "language": "python",
   "name": "python3"
  },
  "language_info": {
   "codemirror_mode": {
    "name": "ipython",
    "version": 3
   },
   "file_extension": ".py",
   "mimetype": "text/x-python",
   "name": "python",
   "nbconvert_exporter": "python",
   "pygments_lexer": "ipython3",
   "version": "3.9.7"
  },
  "toc": {
   "base_numbering": 1,
   "nav_menu": {},
   "number_sections": true,
   "sideBar": true,
   "skip_h1_title": false,
   "title_cell": "Table of Contents",
   "title_sidebar": "Contents",
   "toc_cell": false,
   "toc_position": {},
   "toc_section_display": true,
   "toc_window_display": false
  }
 },
 "nbformat": 4,
 "nbformat_minor": 4
}
