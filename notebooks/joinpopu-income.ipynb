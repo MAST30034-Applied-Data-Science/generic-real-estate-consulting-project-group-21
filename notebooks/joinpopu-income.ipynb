{
 "cells": [
  {
   "cell_type": "code",
   "execution_count": 30,
   "metadata": {},
   "outputs": [],
   "source": [
    "import pandas as pd\n",
    "from pathlib import Path"
   ]
  },
  {
   "cell_type": "code",
   "execution_count": 31,
   "metadata": {},
   "outputs": [],
   "source": [
    "ddf = pd.read_csv('../data/curated/historical_data.csv')\n",
    "popudf = pd.read_csv('../data/curated/subpopu.csv')\n",
    "popudf = popudf[['POSTCODE', '2016', '2017', '2018', '2019', '2020']]\n",
    "\n",
    "ddf = ddf.rename(columns={'Sub': 'suburb'})\n",
    "incomedf = pd.read_csv('../data/curated/subincome.csv')\n",
    "incomedf = incomedf[['POSTCODE', '2016', '2017', '2018', '2019', '2020']]"
   ]
  },
  {
   "cell_type": "code",
   "execution_count": 32,
   "metadata": {},
   "outputs": [],
   "source": [
    "years = ['2016', '2017', '2018', '2019', '2020']\n",
    "\n",
    "new_popudf = pd.DataFrame(columns=['POSTCODE', 'Year', 'population'])\n",
    "for year in years:\n",
    "    df = popudf[['POSTCODE', year]]\n",
    "    df = df.rename(columns={year: 'population'})\n",
    "    df['Year'] = year\n",
    "    new_popudf = pd.concat([new_popudf, df], axis=0)"
   ]
  },
  {
   "cell_type": "code",
   "execution_count": 33,
   "metadata": {},
   "outputs": [],
   "source": [
    "new_incomedf = pd.DataFrame(columns=['POSTCODE', 'Year', 'income'])\n",
    "for year in years:\n",
    "    df = incomedf[['POSTCODE', year]]\n",
    "    df = df.rename(columns={year: 'income'})\n",
    "    df['Year'] = year\n",
    "    new_incomedf = pd.concat([new_incomedf, df], axis=0)"
   ]
  },
  {
   "cell_type": "code",
   "execution_count": 34,
   "metadata": {},
   "outputs": [],
   "source": [
    "df_merged = pd.merge(new_incomedf, new_popudf, on=['POSTCODE', 'Year'], how='inner')"
   ]
  },
  {
   "cell_type": "code",
   "execution_count": 35,
   "metadata": {},
   "outputs": [],
   "source": [
    "sub_postcodeinfo = pd.read_csv('../data/raw/realestate.csv')\n",
    "sub_postcodeinfo = sub_postcodeinfo[['suburb', 'postcode']]\n",
    "sub_postcode = sub_postcodeinfo.groupby(['suburb', 'postcode']).count().reset_index()\n",
    "sub_postcode = sub_postcode.rename(columns={'postcode': 'POSTCODE'})"
   ]
  },
  {
   "cell_type": "code",
   "execution_count": 36,
   "metadata": {},
   "outputs": [],
   "source": [
    "df_merged = pd.merge(df_merged, sub_postcode, on='POSTCODE', how='inner')\n",
    "df_merged = df_merged[['suburb', 'Year', 'population', 'income']]\n",
    "df_merged=df_merged.groupby(['suburb', 'Year']).agg({'population': 'sum',\n",
    "                                                     'income': 'mean'}).reset_index()\n"
   ]
  },
  {
   "cell_type": "code",
   "execution_count": 37,
   "metadata": {},
   "outputs": [],
   "source": [
    "df_merged['Year'] = df_merged['Year'].astype(int)\n",
    "df_merged = pd.merge(df_merged, ddf, on=['Year', 'suburb'], how='inner')"
   ]
  },
  {
   "cell_type": "code",
   "execution_count": 38,
   "metadata": {},
   "outputs": [],
   "source": [
    "filepath = Path('../data/curated/ques2data.csv')\n",
    "df_merged.to_csv(filepath, index=False)"
   ]
  }
 ],
 "metadata": {
  "kernelspec": {
   "display_name": "Python 3.8.10 64-bit",
   "language": "python",
   "name": "python3"
  },
  "language_info": {
   "codemirror_mode": {
    "name": "ipython",
    "version": 3
   },
   "file_extension": ".py",
   "mimetype": "text/x-python",
   "name": "python",
   "nbconvert_exporter": "python",
   "pygments_lexer": "ipython3",
   "version": "3.8.10"
  },
  "orig_nbformat": 4,
  "vscode": {
   "interpreter": {
    "hash": "916dbcbb3f70747c44a77c7bcd40155683ae19c65e1c03b4aa3499c5328201f1"
   }
  }
 },
 "nbformat": 4,
 "nbformat_minor": 2
}
