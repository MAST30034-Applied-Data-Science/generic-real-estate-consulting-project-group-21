{
 "cells": [
  {
   "cell_type": "code",
   "execution_count": 1,
   "metadata": {},
   "outputs": [],
   "source": [
    "import pandas as pd\n",
    "from pathlib import Path"
   ]
  },
  {
   "cell_type": "code",
   "execution_count": 2,
   "metadata": {},
   "outputs": [],
   "source": [
    "ddf = pd.read_csv('../data/curated/historical_data.csv')\n",
    "ddf = ddf.rename(columns={'Sub': 'suburb'})\n",
    "\n",
    "popudf = pd.read_csv('../data/curated/subpopu.csv')\n",
    "popudf = popudf[['POSTCODE', '2016', '2017', '2018', '2019',\n",
    "                 '2020', '2021', '2022', '2023', '2024', '2025']]\n",
    "\n",
    "incomedf = pd.read_csv('../data/curated/subincome.csv')\n",
    "incomedf = incomedf[['POSTCODE', '2016', '2017', '2018', '2019',\n",
    "                     '2020', '2021', '2022', '2023', '2024', '2025']]"
   ]
  },
  {
   "cell_type": "code",
   "execution_count": 3,
   "metadata": {},
   "outputs": [],
   "source": [
    "# convert year to a feature column\n",
    "years = ['2016', '2017', '2018', '2019',\n",
    "         '2020', '2021', '2022', '2023', '2024', '2025']\n",
    "\n",
    "new_popudf = pd.DataFrame(columns=['POSTCODE', 'Year', 'population'])\n",
    "for year in years:\n",
    "    df = popudf[['POSTCODE', year]]\n",
    "    df = df.rename(columns={year: 'population'})\n",
    "    df['Year'] = year\n",
    "    new_popudf = pd.concat([new_popudf, df], axis=0)"
   ]
  },
  {
   "cell_type": "code",
   "execution_count": 4,
   "metadata": {},
   "outputs": [],
   "source": [
    "# convert year to a feature column\n",
    "new_incomedf = pd.DataFrame(columns=['POSTCODE', 'Year', 'income'])\n",
    "for year in years:\n",
    "    df = incomedf[['POSTCODE', year]]\n",
    "    df = df.rename(columns={year: 'income'})\n",
    "    df['Year'] = year\n",
    "    new_incomedf = pd.concat([new_incomedf, df], axis=0)"
   ]
  },
  {
   "cell_type": "code",
   "execution_count": 5,
   "metadata": {},
   "outputs": [],
   "source": [
    "df_merged = pd.merge(new_incomedf, new_popudf, on=['POSTCODE', 'Year'], how='inner')"
   ]
  },
  {
   "cell_type": "code",
   "execution_count": 6,
   "metadata": {},
   "outputs": [],
   "source": [
    "sub_postcodeinfo = pd.read_csv('../data/raw/realestate.csv')\n",
    "sub_postcodeinfo = sub_postcodeinfo[['suburb', 'postcode']]\n",
    "sub_postcode = sub_postcodeinfo.groupby(['suburb', 'postcode']).count().reset_index()\n",
    "sub_postcode = sub_postcode.rename(columns={'postcode': 'POSTCODE'})"
   ]
  },
  {
   "cell_type": "code",
   "execution_count": 7,
   "metadata": {},
   "outputs": [],
   "source": [
    "# convert postcode to suburb\n",
    "df_merged = pd.merge(df_merged, sub_postcode, on='POSTCODE', how='inner')\n",
    "df_merged = df_merged[['suburb', 'Year', 'population', 'income']]\n",
    "df_merged = df_merged.groupby(['suburb', 'Year']).agg({'population': 'sum',\n",
    "                                                       'income': 'mean'}).reset_index()"
   ]
  },
  {
   "cell_type": "code",
   "execution_count": 8,
   "metadata": {},
   "outputs": [],
   "source": [
    "df_merged['Year'] = df_merged['Year'].astype(int)\n",
    "df_model = df_merged[df_merged['Year'] <= 2020]\n",
    "df_predict = df_merged[df_merged['Year'] > 2020]"
   ]
  },
  {
   "cell_type": "code",
   "execution_count": 9,
   "metadata": {},
   "outputs": [],
   "source": [
    "subdf = ddf.groupby('suburb').count().reset_index()\n",
    "subdf = subdf['suburb']"
   ]
  },
  {
   "cell_type": "code",
   "execution_count": 10,
   "metadata": {},
   "outputs": [],
   "source": [
    "\n",
    "df_predict = pd.merge(df_predict, subdf, on=['suburb'], how='inner')"
   ]
  },
  {
   "cell_type": "code",
   "execution_count": 11,
   "metadata": {},
   "outputs": [],
   "source": [
    "typelist = ddf.groupby('Type').count().reset_index()\n",
    "typelist = typelist['Type'].tolist()"
   ]
  },
  {
   "cell_type": "code",
   "execution_count": 12,
   "metadata": {},
   "outputs": [],
   "source": [
    "newdf_all = pd.DataFrame(columns=['suburb', 'Year', 'population', 'income', 'Type'])\n",
    "for type in typelist:\n",
    "    newdf = df_predict.copy()\n",
    "    newdf['Type'] = type\n",
    "    newdf_all = pd.concat([newdf_all, newdf], axis=0)"
   ]
  },
  {
   "cell_type": "code",
   "execution_count": 13,
   "metadata": {},
   "outputs": [],
   "source": [
    "filepath = Path('../data/curated/ques2predictdata.csv')\n",
    "newdf_all.to_csv(filepath, index=False)"
   ]
  },
  {
   "cell_type": "code",
   "execution_count": 14,
   "metadata": {},
   "outputs": [],
   "source": [
    "df_model = pd.merge(df_model, ddf, on=['Year', 'suburb'], how='inner')\n",
    "filepath = Path('../data/curated/ques2data.csv')\n",
    "df_model.to_csv(filepath, index=False)"
   ]
  }
 ],
 "metadata": {
  "kernelspec": {
   "display_name": "Python 3.8.10 64-bit",
   "language": "python",
   "name": "python3"
  },
  "language_info": {
   "codemirror_mode": {
    "name": "ipython",
    "version": 3
   },
   "file_extension": ".py",
   "mimetype": "text/x-python",
   "name": "python",
   "nbconvert_exporter": "python",
   "pygments_lexer": "ipython3",
   "version": "3.8.10"
  },
  "orig_nbformat": 4,
  "vscode": {
   "interpreter": {
    "hash": "916dbcbb3f70747c44a77c7bcd40155683ae19c65e1c03b4aa3499c5328201f1"
   }
  }
 },
 "nbformat": 4,
 "nbformat_minor": 2
}
