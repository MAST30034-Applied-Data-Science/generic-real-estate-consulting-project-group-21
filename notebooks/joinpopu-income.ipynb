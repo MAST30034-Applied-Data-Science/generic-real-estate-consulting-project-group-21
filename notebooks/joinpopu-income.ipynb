{
 "cells": [
  {
   "cell_type": "code",
   "execution_count": 121,
   "metadata": {},
   "outputs": [],
   "source": [
    "import pandas as pd\n",
    "from pathlib import Path"
   ]
  },
  {
   "cell_type": "code",
   "execution_count": 122,
   "metadata": {},
   "outputs": [],
   "source": [
    "ddf = pd.read_csv('../data/curated/historical_data.csv')\n",
    "ddf = ddf.rename(columns={'Sub': 'suburb'})\n",
    "\n",
    "popudf = pd.read_csv('../data/curated/subpopu.csv')\n",
    "popudf = popudf[['POSTCODE', '2016', '2017', '2018', '2019',\n",
    "                 '2020', '2021', '2022', '2023', '2024', '2025']]\n",
    "\n",
    "incomedf = pd.read_csv('../data/curated/subincome.csv')\n",
    "incomedf = incomedf[['POSTCODE', '2016', '2017', '2018', '2019',\n",
    "                     '2020', '2021', '2022', '2023', '2024', '2025']]"
   ]
  },
  {
   "cell_type": "code",
   "execution_count": 123,
   "metadata": {},
   "outputs": [],
   "source": [
    "years = ['2016', '2017', '2018', '2019', \n",
    "         '2020', '2021', '2022', '2023', '2024', '2025']\n",
    "\n",
    "new_popudf = pd.DataFrame(columns=['POSTCODE', 'Year', 'population'])\n",
    "for year in years:\n",
    "    df = popudf[['POSTCODE', year]]\n",
    "    df = df.rename(columns={year: 'population'})\n",
    "    df['Year'] = year\n",
    "    new_popudf = pd.concat([new_popudf, df], axis=0)"
   ]
  },
  {
   "cell_type": "code",
   "execution_count": 124,
   "metadata": {},
   "outputs": [],
   "source": [
    "new_incomedf = pd.DataFrame(columns=['POSTCODE', 'Year', 'income'])\n",
    "for year in years:\n",
    "    df = incomedf[['POSTCODE', year]]\n",
    "    df = df.rename(columns={year: 'income'})\n",
    "    df['Year'] = year\n",
    "    new_incomedf = pd.concat([new_incomedf, df], axis=0)"
   ]
  },
  {
   "cell_type": "code",
   "execution_count": 125,
   "metadata": {},
   "outputs": [],
   "source": [
    "df_merged = pd.merge(new_incomedf, new_popudf, on=['POSTCODE', 'Year'], how='inner')"
   ]
  },
  {
   "cell_type": "code",
   "execution_count": 126,
   "metadata": {},
   "outputs": [
    {
     "data": {
      "text/html": [
       "<div>\n",
       "<style scoped>\n",
       "    .dataframe tbody tr th:only-of-type {\n",
       "        vertical-align: middle;\n",
       "    }\n",
       "\n",
       "    .dataframe tbody tr th {\n",
       "        vertical-align: top;\n",
       "    }\n",
       "\n",
       "    .dataframe thead th {\n",
       "        text-align: right;\n",
       "    }\n",
       "</style>\n",
       "<table border=\"1\" class=\"dataframe\">\n",
       "  <thead>\n",
       "    <tr style=\"text-align: right;\">\n",
       "      <th></th>\n",
       "      <th>POSTCODE</th>\n",
       "      <th>Year</th>\n",
       "      <th>income</th>\n",
       "      <th>population</th>\n",
       "    </tr>\n",
       "  </thead>\n",
       "  <tbody>\n",
       "    <tr>\n",
       "      <th>0</th>\n",
       "      <td>3000</td>\n",
       "      <td>2016</td>\n",
       "      <td>57070.694268</td>\n",
       "      <td>41683.457670</td>\n",
       "    </tr>\n",
       "    <tr>\n",
       "      <th>1</th>\n",
       "      <td>3002</td>\n",
       "      <td>2016</td>\n",
       "      <td>124053.718371</td>\n",
       "      <td>3504.936595</td>\n",
       "    </tr>\n",
       "    <tr>\n",
       "      <th>2</th>\n",
       "      <td>3003</td>\n",
       "      <td>2016</td>\n",
       "      <td>101795.473902</td>\n",
       "      <td>6036.425502</td>\n",
       "    </tr>\n",
       "    <tr>\n",
       "      <th>3</th>\n",
       "      <td>3004</td>\n",
       "      <td>2016</td>\n",
       "      <td>101932.807511</td>\n",
       "      <td>8278.999222</td>\n",
       "    </tr>\n",
       "    <tr>\n",
       "      <th>4</th>\n",
       "      <td>3006</td>\n",
       "      <td>2016</td>\n",
       "      <td>75651.415597</td>\n",
       "      <td>20030.152420</td>\n",
       "    </tr>\n",
       "    <tr>\n",
       "      <th>...</th>\n",
       "      <td>...</td>\n",
       "      <td>...</td>\n",
       "      <td>...</td>\n",
       "      <td>...</td>\n",
       "    </tr>\n",
       "    <tr>\n",
       "      <th>6935</th>\n",
       "      <td>3990</td>\n",
       "      <td>2025</td>\n",
       "      <td>62340.958316</td>\n",
       "      <td>1060.507244</td>\n",
       "    </tr>\n",
       "    <tr>\n",
       "      <th>6936</th>\n",
       "      <td>3991</td>\n",
       "      <td>2025</td>\n",
       "      <td>62313.065693</td>\n",
       "      <td>1985.820064</td>\n",
       "    </tr>\n",
       "    <tr>\n",
       "      <th>6937</th>\n",
       "      <td>3992</td>\n",
       "      <td>2025</td>\n",
       "      <td>62337.260110</td>\n",
       "      <td>3952.866861</td>\n",
       "    </tr>\n",
       "    <tr>\n",
       "      <th>6938</th>\n",
       "      <td>3995</td>\n",
       "      <td>2025</td>\n",
       "      <td>62165.586604</td>\n",
       "      <td>8241.683396</td>\n",
       "    </tr>\n",
       "    <tr>\n",
       "      <th>6939</th>\n",
       "      <td>3996</td>\n",
       "      <td>2025</td>\n",
       "      <td>61097.981041</td>\n",
       "      <td>5041.577835</td>\n",
       "    </tr>\n",
       "  </tbody>\n",
       "</table>\n",
       "<p>6940 rows × 4 columns</p>\n",
       "</div>"
      ],
      "text/plain": [
       "     POSTCODE  Year         income    population\n",
       "0        3000  2016   57070.694268  41683.457670\n",
       "1        3002  2016  124053.718371   3504.936595\n",
       "2        3003  2016  101795.473902   6036.425502\n",
       "3        3004  2016  101932.807511   8278.999222\n",
       "4        3006  2016   75651.415597  20030.152420\n",
       "...       ...   ...            ...           ...\n",
       "6935     3990  2025   62340.958316   1060.507244\n",
       "6936     3991  2025   62313.065693   1985.820064\n",
       "6937     3992  2025   62337.260110   3952.866861\n",
       "6938     3995  2025   62165.586604   8241.683396\n",
       "6939     3996  2025   61097.981041   5041.577835\n",
       "\n",
       "[6940 rows x 4 columns]"
      ]
     },
     "execution_count": 126,
     "metadata": {},
     "output_type": "execute_result"
    }
   ],
   "source": [
    "df_merged"
   ]
  },
  {
   "cell_type": "code",
   "execution_count": 127,
   "metadata": {},
   "outputs": [],
   "source": [
    "sub_postcodeinfo = pd.read_csv('../data/raw/realestate.csv')\n",
    "sub_postcodeinfo = sub_postcodeinfo[['suburb', 'postcode']]\n",
    "sub_postcode = sub_postcodeinfo.groupby(['suburb', 'postcode']).count().reset_index()\n",
    "sub_postcode = sub_postcode.rename(columns={'postcode': 'POSTCODE'})"
   ]
  },
  {
   "cell_type": "code",
   "execution_count": 128,
   "metadata": {},
   "outputs": [
    {
     "data": {
      "text/html": [
       "<div>\n",
       "<style scoped>\n",
       "    .dataframe tbody tr th:only-of-type {\n",
       "        vertical-align: middle;\n",
       "    }\n",
       "\n",
       "    .dataframe tbody tr th {\n",
       "        vertical-align: top;\n",
       "    }\n",
       "\n",
       "    .dataframe thead th {\n",
       "        text-align: right;\n",
       "    }\n",
       "</style>\n",
       "<table border=\"1\" class=\"dataframe\">\n",
       "  <thead>\n",
       "    <tr style=\"text-align: right;\">\n",
       "      <th></th>\n",
       "      <th>suburb</th>\n",
       "      <th>POSTCODE</th>\n",
       "    </tr>\n",
       "  </thead>\n",
       "  <tbody>\n",
       "    <tr>\n",
       "      <th>0</th>\n",
       "      <td>Abbotsford</td>\n",
       "      <td>3067</td>\n",
       "    </tr>\n",
       "    <tr>\n",
       "      <th>1</th>\n",
       "      <td>Aberfeldie</td>\n",
       "      <td>3040</td>\n",
       "    </tr>\n",
       "    <tr>\n",
       "      <th>2</th>\n",
       "      <td>Adelaide</td>\n",
       "      <td>5000</td>\n",
       "    </tr>\n",
       "    <tr>\n",
       "      <th>3</th>\n",
       "      <td>Airport West</td>\n",
       "      <td>3042</td>\n",
       "    </tr>\n",
       "    <tr>\n",
       "      <th>4</th>\n",
       "      <td>Albanvale</td>\n",
       "      <td>3021</td>\n",
       "    </tr>\n",
       "    <tr>\n",
       "      <th>...</th>\n",
       "      <td>...</td>\n",
       "      <td>...</td>\n",
       "    </tr>\n",
       "    <tr>\n",
       "      <th>309</th>\n",
       "      <td>Windsor</td>\n",
       "      <td>3181</td>\n",
       "    </tr>\n",
       "    <tr>\n",
       "      <th>310</th>\n",
       "      <td>Wonga Park</td>\n",
       "      <td>3115</td>\n",
       "    </tr>\n",
       "    <tr>\n",
       "      <th>311</th>\n",
       "      <td>Woori Yallock</td>\n",
       "      <td>3139</td>\n",
       "    </tr>\n",
       "    <tr>\n",
       "      <th>312</th>\n",
       "      <td>Wyndham Vale</td>\n",
       "      <td>3024</td>\n",
       "    </tr>\n",
       "    <tr>\n",
       "      <th>313</th>\n",
       "      <td>Yarraville</td>\n",
       "      <td>3013</td>\n",
       "    </tr>\n",
       "  </tbody>\n",
       "</table>\n",
       "<p>314 rows × 2 columns</p>\n",
       "</div>"
      ],
      "text/plain": [
       "            suburb  POSTCODE\n",
       "0       Abbotsford      3067\n",
       "1       Aberfeldie      3040\n",
       "2         Adelaide      5000\n",
       "3     Airport West      3042\n",
       "4        Albanvale      3021\n",
       "..             ...       ...\n",
       "309        Windsor      3181\n",
       "310     Wonga Park      3115\n",
       "311  Woori Yallock      3139\n",
       "312   Wyndham Vale      3024\n",
       "313     Yarraville      3013\n",
       "\n",
       "[314 rows x 2 columns]"
      ]
     },
     "execution_count": 128,
     "metadata": {},
     "output_type": "execute_result"
    }
   ],
   "source": [
    "sub_postcode"
   ]
  },
  {
   "cell_type": "code",
   "execution_count": 129,
   "metadata": {},
   "outputs": [],
   "source": [
    "df_merged = pd.merge(df_merged, sub_postcode, on='POSTCODE', how='inner')\n",
    "df_merged = df_merged[['suburb', 'Year', 'population', 'income']]\n",
    "df_merged = df_merged.groupby(['suburb', 'Year']).agg({'population': 'sum',\n",
    "                                                     'income': 'mean'}).reset_index()\n"
   ]
  },
  {
   "cell_type": "code",
   "execution_count": 130,
   "metadata": {},
   "outputs": [
    {
     "data": {
      "text/html": [
       "<div>\n",
       "<style scoped>\n",
       "    .dataframe tbody tr th:only-of-type {\n",
       "        vertical-align: middle;\n",
       "    }\n",
       "\n",
       "    .dataframe tbody tr th {\n",
       "        vertical-align: top;\n",
       "    }\n",
       "\n",
       "    .dataframe thead th {\n",
       "        text-align: right;\n",
       "    }\n",
       "</style>\n",
       "<table border=\"1\" class=\"dataframe\">\n",
       "  <thead>\n",
       "    <tr style=\"text-align: right;\">\n",
       "      <th></th>\n",
       "      <th>suburb</th>\n",
       "      <th>Year</th>\n",
       "      <th>population</th>\n",
       "      <th>income</th>\n",
       "    </tr>\n",
       "  </thead>\n",
       "  <tbody>\n",
       "    <tr>\n",
       "      <th>0</th>\n",
       "      <td>Abbotsford</td>\n",
       "      <td>2016</td>\n",
       "      <td>8843.391594</td>\n",
       "      <td>72463.341789</td>\n",
       "    </tr>\n",
       "    <tr>\n",
       "      <th>1</th>\n",
       "      <td>Abbotsford</td>\n",
       "      <td>2017</td>\n",
       "      <td>9360.969572</td>\n",
       "      <td>75929.483052</td>\n",
       "    </tr>\n",
       "    <tr>\n",
       "      <th>2</th>\n",
       "      <td>Abbotsford</td>\n",
       "      <td>2018</td>\n",
       "      <td>9595.265665</td>\n",
       "      <td>78784.652725</td>\n",
       "    </tr>\n",
       "    <tr>\n",
       "      <th>3</th>\n",
       "      <td>Abbotsford</td>\n",
       "      <td>2019</td>\n",
       "      <td>9661.113233</td>\n",
       "      <td>81883.887314</td>\n",
       "    </tr>\n",
       "    <tr>\n",
       "      <th>4</th>\n",
       "      <td>Abbotsford</td>\n",
       "      <td>2020</td>\n",
       "      <td>9738.337037</td>\n",
       "      <td>86715.715407</td>\n",
       "    </tr>\n",
       "    <tr>\n",
       "      <th>...</th>\n",
       "      <td>...</td>\n",
       "      <td>...</td>\n",
       "      <td>...</td>\n",
       "      <td>...</td>\n",
       "    </tr>\n",
       "    <tr>\n",
       "      <th>3115</th>\n",
       "      <td>Yarraville</td>\n",
       "      <td>2021</td>\n",
       "      <td>15910.505666</td>\n",
       "      <td>91911.558135</td>\n",
       "    </tr>\n",
       "    <tr>\n",
       "      <th>3116</th>\n",
       "      <td>Yarraville</td>\n",
       "      <td>2022</td>\n",
       "      <td>15908.663387</td>\n",
       "      <td>96980.309295</td>\n",
       "    </tr>\n",
       "    <tr>\n",
       "      <th>3117</th>\n",
       "      <td>Yarraville</td>\n",
       "      <td>2023</td>\n",
       "      <td>15907.936920</td>\n",
       "      <td>102997.167982</td>\n",
       "    </tr>\n",
       "    <tr>\n",
       "      <th>3118</th>\n",
       "      <td>Yarraville</td>\n",
       "      <td>2024</td>\n",
       "      <td>15906.499919</td>\n",
       "      <td>110186.147542</td>\n",
       "    </tr>\n",
       "    <tr>\n",
       "      <th>3119</th>\n",
       "      <td>Yarraville</td>\n",
       "      <td>2025</td>\n",
       "      <td>15905.192434</td>\n",
       "      <td>118838.317169</td>\n",
       "    </tr>\n",
       "  </tbody>\n",
       "</table>\n",
       "<p>3120 rows × 4 columns</p>\n",
       "</div>"
      ],
      "text/plain": [
       "          suburb  Year    population         income\n",
       "0     Abbotsford  2016   8843.391594   72463.341789\n",
       "1     Abbotsford  2017   9360.969572   75929.483052\n",
       "2     Abbotsford  2018   9595.265665   78784.652725\n",
       "3     Abbotsford  2019   9661.113233   81883.887314\n",
       "4     Abbotsford  2020   9738.337037   86715.715407\n",
       "...          ...   ...           ...            ...\n",
       "3115  Yarraville  2021  15910.505666   91911.558135\n",
       "3116  Yarraville  2022  15908.663387   96980.309295\n",
       "3117  Yarraville  2023  15907.936920  102997.167982\n",
       "3118  Yarraville  2024  15906.499919  110186.147542\n",
       "3119  Yarraville  2025  15905.192434  118838.317169\n",
       "\n",
       "[3120 rows x 4 columns]"
      ]
     },
     "execution_count": 130,
     "metadata": {},
     "output_type": "execute_result"
    }
   ],
   "source": [
    "\n",
    "df_merged['Year'] = df_merged['Year'].astype(int)\n",
    "df_merged"
   ]
  },
  {
   "cell_type": "code",
   "execution_count": 131,
   "metadata": {},
   "outputs": [],
   "source": [
    "df_model = df_merged[df_merged['Year'] <= 2020]\n",
    "df_predict = df_merged[df_merged['Year'] > 2020]"
   ]
  },
  {
   "cell_type": "code",
   "execution_count": 132,
   "metadata": {},
   "outputs": [
    {
     "data": {
      "text/plain": [
       "0        Abbotsford\n",
       "1       Albert Park\n",
       "2         Alfredton\n",
       "3        Alphington\n",
       "4            Altona\n",
       "           ...     \n",
       "211    Williamstown\n",
       "212         Windsor\n",
       "213         Wodonga\n",
       "214    Yarra Ranges\n",
       "215      Yarraville\n",
       "Name: suburb, Length: 216, dtype: object"
      ]
     },
     "execution_count": 132,
     "metadata": {},
     "output_type": "execute_result"
    }
   ],
   "source": [
    "subdf = ddf.groupby('suburb').count().reset_index()\n",
    "subdf = subdf['suburb']\n",
    "subdf"
   ]
  },
  {
   "cell_type": "code",
   "execution_count": 133,
   "metadata": {},
   "outputs": [],
   "source": [
    "\n",
    "df_predict = pd.merge(df_predict, subdf, on=['suburb'], how='inner')"
   ]
  },
  {
   "cell_type": "code",
   "execution_count": 134,
   "metadata": {},
   "outputs": [
    {
     "data": {
      "text/plain": [
       "['1 bedroom flat',\n",
       " '2 bedroom flat',\n",
       " '2 bedroom house',\n",
       " '3 bedroom flat',\n",
       " '3 bedroom house',\n",
       " '4 bedroom house',\n",
       " 'All properties']"
      ]
     },
     "execution_count": 134,
     "metadata": {},
     "output_type": "execute_result"
    }
   ],
   "source": [
    "typelist = ddf.groupby('Type').count().reset_index()\n",
    "typelist = typelist['Type'].tolist()\n",
    "typelist"
   ]
  },
  {
   "cell_type": "code",
   "execution_count": 135,
   "metadata": {},
   "outputs": [],
   "source": [
    "newdf_all = pd.DataFrame(columns=['suburb', 'Year', 'population', 'income', 'Type'])\n",
    "for type in typelist:\n",
    "    newdf = df_predict.copy()\n",
    "    newdf['Type'] = type\n",
    "    newdf_all = pd.concat([newdf_all, newdf], axis=0)\n"
   ]
  },
  {
   "cell_type": "code",
   "execution_count": 136,
   "metadata": {},
   "outputs": [
    {
     "data": {
      "text/plain": [
       "5040"
      ]
     },
     "execution_count": 136,
     "metadata": {},
     "output_type": "execute_result"
    }
   ],
   "source": [
    "filepath = Path('../data/curated/ques2predictdata.csv')\n",
    "newdf_all.to_csv(filepath, index=False)\n",
    "len(newdf_all)"
   ]
  },
  {
   "cell_type": "code",
   "execution_count": 137,
   "metadata": {},
   "outputs": [],
   "source": [
    "\n",
    "df_model = pd.merge(df_model, ddf, on=['Year', 'suburb'], how='inner')"
   ]
  },
  {
   "cell_type": "code",
   "execution_count": 138,
   "metadata": {},
   "outputs": [
    {
     "data": {
      "text/plain": [
       "5040"
      ]
     },
     "execution_count": 138,
     "metadata": {},
     "output_type": "execute_result"
    }
   ],
   "source": [
    "filepath = Path('../data/curated/ques2data.csv')\n",
    "df_model.to_csv(filepath, index=False)\n",
    "len(df_model)"
   ]
  }
 ],
 "metadata": {
  "kernelspec": {
   "display_name": "Python 3.8.10 64-bit",
   "language": "python",
   "name": "python3"
  },
  "language_info": {
   "codemirror_mode": {
    "name": "ipython",
    "version": 3
   },
   "file_extension": ".py",
   "mimetype": "text/x-python",
   "name": "python",
   "nbconvert_exporter": "python",
   "pygments_lexer": "ipython3",
   "version": "3.8.10"
  },
  "orig_nbformat": 4,
  "vscode": {
   "interpreter": {
    "hash": "916dbcbb3f70747c44a77c7bcd40155683ae19c65e1c03b4aa3499c5328201f1"
   }
  }
 },
 "nbformat": 4,
 "nbformat_minor": 2
}
