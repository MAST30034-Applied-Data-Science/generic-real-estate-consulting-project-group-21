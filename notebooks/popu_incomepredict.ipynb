{
 "cells": [
  {
   "cell_type": "code",
   "execution_count": 1,
   "metadata": {},
   "outputs": [
    {
     "name": "stderr",
     "output_type": "stream",
     "text": [
      "/usr/lib/python3/dist-packages/requests/__init__.py:89: RequestsDependencyWarning: urllib3 (1.26.11) or chardet (3.0.4) doesn't match a supported version!\n",
      "  warnings.warn(\"urllib3 ({}) or chardet ({}) doesn't match a supported \"\n"
     ]
    }
   ],
   "source": [
    "# download and preprocess data \n",
    "import requests\n",
    "import pandas as pd\n",
    "import csv\n",
    "from pathlib import Path  \n",
    "\n",
    "# population data\n",
    "r = requests.get('https://www.abs.gov.au/statistics/people/population/regional-population/2021/32180DS0001_2001-21.xlsx',allow_redirects=True)\n",
    "open('../data/raw/population16-21.xlsx', 'wb').write(r.content)\n",
    "df = pd.read_excel('../data/raw/popu.xlsx', sheet_name='Table 1',header=7)  \n",
    "# select Victoria data and modify column name\n",
    "df = df.loc[df['S/T name'] == 'Victoria'][['SA2 code','no..15','no..16','no..17','no..18','no..19','no..20']]\n",
    "df = df.rename(columns={'no..15': 2016, 'no..16': 2017,'no..17': 2018,'no..18': 2019,'no..19': 2020,'no..20': 2021})\n",
    "# income data\n",
    "r = requests.get('https://www.abs.gov.au/statistics/labour/earnings-and-working-conditions/personal-income-australia/2014-15-2018-19/6524055002_DO001.xlsx',allow_redirects=True)\n",
    "open('../data/raw/income14-19.xlsx', 'wb').write(r.content)\n",
    "dff = pd.read_excel('../data/raw/income.xlsx', sheet_name='Table 1.4',header=6)  \n",
    "# select Victoria data and modify column name\n",
    "dff = dff.iloc[579:1041][['SA2','2014-15.4','2015-16.4','2016-17.4','2017-18.4','2018-19.4']]\n",
    "dff = dff.rename(columns={'2014-15.4':'2014-15', '2015-16.4': '2015-16','2016-17.4': '2016-17','2017-18.4': '2017-18','2018-19.4': '2018-19'})\n",
    "\n"
   ]
  },
  {
   "cell_type": "code",
   "execution_count": 2,
   "metadata": {},
   "outputs": [],
   "source": [
    "\n",
    "\n",
    "# natural growth rate without migration in Australia\n",
    "mor_fer_rate = 1.0072\n",
    "\n",
    "def predict22(row):  \n",
    "    if row[2016] * mor_fer_rate * mor_fer_rate < row[2018] and row[2019] * mor_fer_rate * mor_fer_rate > row[2021]:\n",
    "        # have a high prob that this district is influenced by Covid\n",
    "        return max(row[2021] * mor_fer_rate, 0)\n",
    "    else:\n",
    "        # have a high prob that this district is not very influenced by Covid\n",
    "        return max((row[2021] - row[2016]) / 5 + row[2021], 0)\n",
    "\n",
    "def predict23(row):  \n",
    "    if row[2016] * mor_fer_rate * mor_fer_rate < row[2018] and row[2019] * mor_fer_rate * mor_fer_rate > row[2021]:\n",
    "        return max(row[2020] * mor_fer_rate * mor_fer_rate, 0)\n",
    "    else:\n",
    "        return max((row[2021] - row[2016]) / 5 * 2 + row[2021], 0)\n",
    "\n",
    "df[2022] = df.apply(predict22, axis=1)\n",
    "df[2023] = df.apply(predict23, axis=1)\n",
    "df = df.astype({'SA2 code': 'int'})\n",
    "\n",
    "filepath = Path('../data/curated/predictpopu.csv')  \n",
    "df[['SA2 code',2022,2023]].to_csv(filepath, index=False)  \n",
    "\n",
    "\n",
    "\n"
   ]
  },
  {
   "cell_type": "code",
   "execution_count": 3,
   "metadata": {},
   "outputs": [],
   "source": [
    "def rate(row): \n",
    "    if not isinstance(row['2018-19'], int):\n",
    "        # entry is np, no income in this district\n",
    "        return 0\n",
    "    else:\n",
    "        if isinstance(row['2014-15'], int):\n",
    "            # calculate growth rate over the past 5 years\n",
    "            return (row['2018-19'] - row['2014-15']) / 5 / row['2018-19']\n",
    "        else:\n",
    "            # 2014 entry is np, so use 2016 instead\n",
    "            return (row ['2018-19'] - row ['2016-17']) / 5 / row['2018-19']\n",
    "\n",
    "def predict2019(row):\n",
    "    if not isinstance(row['2018-19'], int):\n",
    "        # entry is np\n",
    "        return 0.0\n",
    "    return max(float(row['2018-19']) * (1 + 1 * row['growthrate']),0)\n",
    "def predict2020(row):\n",
    "    return max(row['2019']* (1 + 2 * row['growthrate']),0)\n",
    "def predict2021(row):\n",
    "    return max(row['2020']* (1 + 0.3 * row['growthrate']),0)\n",
    "def predict2022(row):\n",
    "    return max(row['2021']* (1 + 2 * row['growthrate']),0)\n",
    "def predict2023(row):\n",
    "    return max(row['2022']* (1 + 2 * row['growthrate']),0)\n",
    "\n",
    "dff['growthrate'] = dff.apply(rate, axis=1)\n",
    "dff['2019'] = dff.apply(predict2019, axis=1)\n",
    "dff['2020'] = dff.apply(predict2020, axis=1)\n",
    "dff['2021'] = dff.apply(predict2021, axis=1)\n",
    "dff['2022'] = dff.apply(predict2022, axis=1)\n",
    "dff['2023'] = dff.apply(predict2023, axis=1)\n",
    "\n",
    "filepath = Path('../data/curated/predictincome.csv')  \n",
    "dff[['SA2','2019','2020','2021','2022','2023']].to_csv(filepath, index=False)  \n",
    "\n"
   ]
  }
 ],
 "metadata": {
  "kernelspec": {
   "display_name": "Python 3.8.10 64-bit",
   "language": "python",
   "name": "python3"
  },
  "language_info": {
   "codemirror_mode": {
    "name": "ipython",
    "version": 3
   },
   "file_extension": ".py",
   "mimetype": "text/x-python",
   "name": "python",
   "nbconvert_exporter": "python",
   "pygments_lexer": "ipython3",
   "version": "3.8.10"
  },
  "orig_nbformat": 4,
  "vscode": {
   "interpreter": {
    "hash": "916dbcbb3f70747c44a77c7bcd40155683ae19c65e1c03b4aa3499c5328201f1"
   }
  }
 },
 "nbformat": 4,
 "nbformat_minor": 2
}
