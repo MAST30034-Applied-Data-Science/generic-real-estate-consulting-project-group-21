{
 "cells": [
  {
   "cell_type": "code",
   "execution_count": 1,
   "metadata": {},
   "outputs": [],
   "source": [
    "import pandas as pd\n",
    "import csv\n",
    "from pathlib import Path  \n",
    "\n",
    "mor_fer_rate = 1.0072\n",
    "df = pd.read_excel('../data/raw/VICpopu16-21.xlsx')\n",
    "\n",
    "def categorise22(row):  \n",
    "    if row[2016] * mor_fer_rate * mor_fer_rate < row[2018] and row[2019] * mor_fer_rate * mor_fer_rate > row[2021]:\n",
    "        # have a high prob that this district is influenced by Covid\n",
    "        return max(row[2021] * mor_fer_rate, 0)\n",
    "    else:\n",
    "        return max((row[2021] - row[2016]) / 5 + row[2021], 0)\n",
    "\n",
    "def categorise23(row):  \n",
    "    if row[2016] * mor_fer_rate * mor_fer_rate < row[2018] and row[2019] * mor_fer_rate * mor_fer_rate > row[2021]:\n",
    "        return max(row[2020] * mor_fer_rate * mor_fer_rate, 0)\n",
    "    else:\n",
    "        return max((row[2021] - row[2016]) / 5 * 2 + row[2021], 0)\n",
    "\n",
    "df[2022] = df.apply(categorise22, axis=1)\n",
    "df[2023] = df.apply(categorise23, axis=1)\n",
    "\n",
    "filepath = Path('../data/curated/predictpopu.csv')  \n",
    "df[['SA2 code',2022,2023]].to_csv(filepath, index=False)  \n",
    "\n",
    "\n"
   ]
  },
  {
   "cell_type": "code",
   "execution_count": 43,
   "metadata": {},
   "outputs": [],
   "source": [
    "import pandas as pd\n",
    "import csv\n",
    "from pathlib import Path  \n",
    "\n",
    "dff = pd.read_excel('../data/raw/VICincome.xlsx')\n",
    "def rate(row): \n",
    "    if not isinstance(row['2018-19'], int):\n",
    "        # entry is np, no income in this district\n",
    "        return 0\n",
    "    else:\n",
    "        if isinstance(row['2014-15'], int):\n",
    "            # calculate growth rate over the past 5 years\n",
    "            return (row['2018-19'] - row['2014-15']) / 5 / row['2018-19']\n",
    "        else:\n",
    "            # 2014 entry is np, so use 2016 instead\n",
    "            return (row ['2018-19'] - row ['2016-17']) / 5 / row['2018-19']\n",
    "\n",
    "def predict2019(row):\n",
    "    if not isinstance(row['2018-19'], int):\n",
    "        # entry is np\n",
    "        return 0.0\n",
    "    return max(float(row['2018-19']) * (1 + 1 * row['growthrate']),0)\n",
    "def predict2020(row):\n",
    "    return max(row['2019']* (1 + 2 * row['growthrate']),0)\n",
    "def predict2021(row):\n",
    "    return max(row['2020']* (1 + 0.3 * row['growthrate']),0)\n",
    "def predict2022(row):\n",
    "    return max(row['2021']* (1 + 2 * row['growthrate']),0)\n",
    "def predict2023(row):\n",
    "    return max(row['2022']* (1 + 2 * row['growthrate']),0)\n",
    "\n",
    "dff['growthrate'] = dff.apply(rate, axis=1)\n",
    "dff['2019'] = dff.apply(predict2019, axis=1)\n",
    "dff['2020'] = dff.apply(predict2020, axis=1)\n",
    "dff['2021'] = dff.apply(predict2021, axis=1)\n",
    "dff['2022'] = dff.apply(predict2022, axis=1)\n",
    "dff['2023'] = dff.apply(predict2023, axis=1)\n",
    "\n",
    "filepath = Path('../data/curated/predictincome.csv')  \n",
    "dff[['SA2','2019','2020','2021','2022','2023']].to_csv(filepath, index=False)  \n",
    "\n"
   ]
  },
  {
   "cell_type": "code",
   "execution_count": null,
   "metadata": {},
   "outputs": [],
   "source": []
  }
 ],
 "metadata": {
  "kernelspec": {
   "display_name": "Python 3.8.10 64-bit",
   "language": "python",
   "name": "python3"
  },
  "language_info": {
   "codemirror_mode": {
    "name": "ipython",
    "version": 3
   },
   "file_extension": ".py",
   "mimetype": "text/x-python",
   "name": "python",
   "nbconvert_exporter": "python",
   "pygments_lexer": "ipython3",
   "version": "3.8.10"
  },
  "orig_nbformat": 4,
  "vscode": {
   "interpreter": {
    "hash": "916dbcbb3f70747c44a77c7bcd40155683ae19c65e1c03b4aa3499c5328201f1"
   }
  }
 },
 "nbformat": 4,
 "nbformat_minor": 2
}
