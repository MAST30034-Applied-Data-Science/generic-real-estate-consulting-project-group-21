{
 "cells": [
  {
   "cell_type": "code",
   "execution_count": 1,
   "metadata": {},
   "outputs": [
    {
     "name": "stderr",
     "output_type": "stream",
     "text": [
      "/usr/lib/python3/dist-packages/requests/__init__.py:89: RequestsDependencyWarning: urllib3 (1.26.11) or chardet (3.0.4) doesn't match a supported version!\n",
      "  warnings.warn(\"urllib3 ({}) or chardet ({}) doesn't match a supported \"\n"
     ]
    }
   ],
   "source": [
    "import requests\n",
    "import pandas as pd\n",
    "import numpy as np\n",
    "import csv\n",
    "from pathlib import Path"
   ]
  },
  {
   "cell_type": "code",
   "execution_count": 2,
   "metadata": {},
   "outputs": [],
   "source": [
    "from os.path import exists\n",
    "\n",
    "if not exists('../data/raw/popu.xlsx'):\n",
    "    r = requests.get('https://www.abs.gov.au/statistics/people/population/regional-population/2021/32180DS0001_2001-21.xlsx',allow_redirects=True)\n",
    "    open('../data/raw/population16-21.xlsx', 'wb').write(r.content)\n",
    "\n",
    "if not exists('../data/raw/income14-19.xlsx'):\n",
    "    r = requests.get('https://www.abs.gov.au/statistics/labour/earnings-and-working-conditions/personal-income-australia/2014-15-2018-19/6524055002_DO001.xlsx',allow_redirects=True)\n",
    "    open('../data/raw/income14-19.xlsx', 'wb').write(r.content)\n",
    "\n",
    "\n",
    "df = pd.read_excel('../data/raw/population16-21.xlsx', sheet_name='Table 1',header=7)  \n",
    "# select Victoria data and modify column name\n",
    "df = df.loc[df['S/T name'] == 'Victoria'][['SA2 code','no..15','no..16','no..17','no..18','no..19','no..20']]\n",
    "df = df.rename(columns={'no..15': 2016, 'no..16': 2017,'no..17': 2018,'no..18': 2019,'no..19': 2020,'no..20': 2021})\n",
    "\n",
    "dff = pd.read_excel('../data/raw/income14-19.xlsx', sheet_name='Table 1.4',header=6) \n",
    "\n",
    "# select Victoria data and modify column name\n",
    "\n",
    "dff = dff.iloc[579:1041][['SA2','2014-15.4','2015-16.4','2016-17.4','2017-18.4','2018-19.4']]\n",
    "dff = dff.rename(columns={'2014-15.4':'2014-15', '2015-16.4': '2015-16','2016-17.4': '2016-17','2017-18.4': '2017-18','2018-19.4': '2018-19'})\n",
    "\n",
    "dff = dff.apply(pd.to_numeric, errors='coerce')\n"
   ]
  },
  {
   "cell_type": "markdown",
   "metadata": {},
   "source": [
    "The population data from 2016 to 2021 is utilized to predict 2022 to 2025\n",
    "\n",
    "There are three main factors that influence Australia population: fertility, mortality and migration. In the recent years, the most significant event is Covid-19, which the Australia population growth rate declines to 0.1 per cent from about 2 per cent from 2020 to 2021.\n",
    "\n",
    "For fertility and mortality, before Covid, they contribute approximately 36 per cent of the population growth, which is 0.72 per cent. However, there is inconclusive evidence of excess mortality or changed fertility, so they are assumned to remain unchanged.\n",
    "\n",
    "For migration, its number is greatly impacted by Covid. From the net overseas migration (NOM) forecast on the left graph, there are three lines of prediction, and we take the middle line: Seies B as our prediction baseline. We can see that until 2021, the annual NOM is about - 70,000, 0 until 2022, 70,000 until 2023, 130,000 until 2024 and 170,000 until 2025. Based on this, an approximate population trend on NOM is created on the right graph. \n",
    "\n",
    "\n",
    "<img src=\"../plots/NOMforecast.jpg\" width=600 height=600 />\n",
    "\n",
    "<img src=\"../plots/poputrend.png\" width=800 height=600 />\n",
    "\n",
    "link: https://mccrindle.com.au/article/topic/demographics/how-covid-19-is-likely-to-affect-australias-population-forecast/\n",
    "\n",
    "However, the above model will only be applied to SA2 districts that are influenced by Covid. The criteria is, if population was increasing naturally before the Covid, the it declined after 2020, there is a high probability that the population loss is caused by Covid. Otherwise, the annual population increase will be the average of population increase over 2016 to 2021.\n",
    "\n",
    "\n",
    "\n"
   ]
  },
  {
   "cell_type": "code",
   "execution_count": 3,
   "metadata": {},
   "outputs": [],
   "source": [
    "\n",
    "\n",
    "# natural growth rate without migration in Australia\n",
    "mor_fer_rate = 1.0072\n",
    "\n",
    "def predict22(row):  \n",
    "    if row[2016] * mor_fer_rate * mor_fer_rate * mor_fer_rate * mor_fer_rate < row[2020] and row[2020] * mor_fer_rate > row[2021]:\n",
    "        # have a high prob that this district is influenced by Covid\n",
    "        return max(row[2021] * mor_fer_rate, 0) # NOM is 0, hence only count the mortality and fertility\n",
    "    else:\n",
    "        # have a high prob that this district is not very influenced by Covid\n",
    "        return max((row[2021] - row[2016]) / 5 + row[2021], 0)\n",
    "\n",
    "def predict23(row):  \n",
    "    if row[2016] * mor_fer_rate * mor_fer_rate * mor_fer_rate * mor_fer_rate < row[2020] and row[2020] * mor_fer_rate > row[2021]:\n",
    "        return max(row[2020] * mor_fer_rate * mor_fer_rate, 0) # annual increase of migrants until 2023 is offseted by the loss in 2021\n",
    "    else:\n",
    "        return max((row[2021] - row[2016]) / 5  + row[2022], 0)\n",
    "\n",
    "\n",
    "def predict24(row):  \n",
    "    if row[2016] * mor_fer_rate * mor_fer_rate * mor_fer_rate * mor_fer_rate < row[2020] and row[2020] * mor_fer_rate > row[2021]:\n",
    "        return max(row[2023] * 1.0146, 0) # NOM is halfed compare to pre-Covid level in 2020, so growth rate in 2024 is 2% * 0.36 + 2% * 0.64 * 0.5 = 1.46%\n",
    "    else:\n",
    "        return max((row[2021] - row[2016]) / 5  + row[2023], 0)\n",
    "\n",
    "def predict25(row):  \n",
    "    if row[2016] * mor_fer_rate * mor_fer_rate * mor_fer_rate * mor_fer_rate < row[2020] and row[2020] * mor_fer_rate > row[2021]:\n",
    "        return max(row[2024] * 1.0168, 0) # NOM is 3/4 compare to pre-Covid level in 2020, so growth rate in 2025 is 2% * 0.36 + 2% * 0.64 * 0.75 = 1.68%\n",
    "    else:\n",
    "        return max((row[2021] - row[2016]) / 5  + row[2024], 0)\n",
    "\n",
    "\n",
    "\n",
    "\n",
    "df[2022] = df.apply(predict22, axis=1)\n",
    "df[2023] = df.apply(predict23, axis=1)\n",
    "df[2024] = df.apply(predict24, axis=1)\n",
    "df[2025] = df.apply(predict25, axis=1)\n",
    "df = df.astype({'SA2 code': 'int'})\n",
    "\n",
    "filepath = Path('../data/curated/predictpopu.csv')  \n",
    "df[['SA2 code',2022,2023,2024,2025]].to_csv(filepath, index=False)  \n",
    "\n",
    "\n",
    "\n"
   ]
  },
  {
   "cell_type": "markdown",
   "metadata": {},
   "source": [
    "Income from 2014 to 2018 is utilized to predict 2019 to 2025\n",
    "\n",
    "The approximate growth rate of wages until 2022 can be obtained from the graph below. The red dot points are the average weekly wages across the year. Weekly wages have the same trend with annual income, so it is safe to use this data.\n",
    "\n",
    "<img src=\"../plots/weeklywage.jpg\" width=800 height=600 />\n",
    "\n",
    "link: https://tradingeconomics.com/australia/wages\n",
    "\n",
    "It can be seem that before 2019, the enhancement was steady. There was a large increase of wages from 2019 to 2020, then in 2020, the speed of growth was even slower than 2013. From 2021 to 2022, the growth rate reached the peak over the past 10 years. \n",
    "\n",
    "From 2023 to 2025, according to Treasury forecast, growth rate is 2.4 per cent in 2022, and are forecasted to grow at this rate over the next few years, before slowing to 3.5 per cent in 2025-26. It can be estimated that the growth rate will be 2.8, 3.2, 3.6 for 2023, 2024 and 2025, which the average annual growth rate increases about 12.5 per cent. (0.4 / 3.2 = 0.125)\n",
    "\n",
    "link: https://www.afr.com/policy/economy/real-wages-to-hit-12-year-low-as-inflation-predicted-to-surge-20220728-p5b5em#:~:text=Treasury%20forecasts%20nominal%20wages%20growth,instant%2C%E2%80%9D%20Dr%20Chalmers%20said.\n",
    "\n",
    "All the SA2 districts will follow this model. Although some assumptions are comed up that districts with some specific features might have different income growth rate caused by Covid, such as empolyeement structure, tourist attractions, while as there is no official data about income according to SA2 after Covid-19 outbreaking, there is no way to prove the relationship between Covid and these features.\n",
    "\n"
   ]
  },
  {
   "cell_type": "code",
   "execution_count": 4,
   "metadata": {},
   "outputs": [],
   "source": [
    "def rate(row): \n",
    "    if np.isnan(row['2018-19']):\n",
    "        # entry is nan, no income in this district\n",
    "        return 0\n",
    "    else:\n",
    "        if not np.isnan(row['2014-15']):\n",
    "            # calculate growth rate over the past 4 years\n",
    "            return (row['2018-19'] - row['2014-15']) / 4 / row['2018-19']\n",
    "        else:\n",
    "            # 2014 entry is nan, so use 2016 instead\n",
    "            return (row ['2018-19'] - row ['2016-17']) / 2 / row['2018-19']\n",
    "\n",
    "def predict2019(row):\n",
    "    if np.isnan(row['2018-19']):\n",
    "        # entry is nan\n",
    "        return 0.0\n",
    "    return max(float(row['2018-19']) * (1 + 1 * row['growthrate']),0) # steady growth\n",
    "\n",
    "# is this two times the growth rate?\n",
    "# also, do we need max(..., 0)?\n",
    "def predict2020(row):\n",
    "    return max(row['2019']* (1 + 2 * row['growthrate']),0) # fast growth\n",
    "def predict2021(row):\n",
    "    return max(row['2020']* (1 + 0.3 * row['growthrate']),0) # slow growth\n",
    "def predict2022(row):\n",
    "    return max(row['2021']* (1 + 2 * row['growthrate']),0) # fast growth\n",
    "def predict2023(row):\n",
    "    return max(row['2022']* (1 + (2 * row['growthrate']) * 1.125),0) # forecasted growth\n",
    "def predict2024(row):\n",
    "    return max(row['2023']* (1 + (2 * row['growthrate']) * 1.125 * 1.125),0) # forecasted growth\n",
    "def predict2025(row):\n",
    "    return max(row['2024']* (1 + (2 * row['growthrate']) * 1.125 * 1.125 * 1.125),0) # forecasted growth\n",
    "\n",
    "\n",
    "dff['growthrate'] = dff.apply(rate, axis=1)\n",
    "dff['2019'] = dff.apply(predict2019, axis=1)\n",
    "dff['2020'] = dff.apply(predict2020, axis=1)\n",
    "dff['2021'] = dff.apply(predict2021, axis=1)\n",
    "dff['2022'] = dff.apply(predict2022, axis=1)\n",
    "dff['2023'] = dff.apply(predict2023, axis=1)\n",
    "dff['2024'] = dff.apply(predict2024, axis=1)\n",
    "dff['2025'] = dff.apply(predict2025, axis=1)\n",
    "filepath = Path('../data/curated/predictincome.csv')  \n",
    "dff[['SA2','2019','2020','2021','2022','2023','2024','2025']].to_csv(filepath, index=False)"
   ]
  },
  {
   "cell_type": "code",
   "execution_count": 5,
   "metadata": {},
   "outputs": [
    {
     "data": {
      "text/plain": [
       "<BarContainer object of 12 artists>"
      ]
     },
     "execution_count": 5,
     "metadata": {},
     "output_type": "execute_result"
    },
    {
     "data": {
      "image/png": "[encoded data removed]",
      "text/plain": [
       "<Figure size 1280x960 with 1 Axes>"
      ]
     },
     "metadata": {},
     "output_type": "display_data"
    }
   ],
   "source": [
    "# I want to check to see if the predictions are reasonable\n",
    "\n",
    "import matplotlib.pyplot as plt\n",
    "\n",
    "years = list(set(dff.columns)-set(['SA2', 'growthrate']))\n",
    "years.sort()\n",
    "\n",
    "plt.rc('figure', dpi=200)\n",
    "\n",
    "plt.bar(years, dff.mean()[years])"
   ]
  },
  {
   "cell_type": "code",
   "execution_count": 6,
   "metadata": {},
   "outputs": [
    {
     "data": {
      "text/plain": [
       "(array([ 1.,  1.,  0.,  1.,  1.,  0.,  0.,  2.,  5., 18., 33., 55., 68.,\n",
       "        59., 65., 43., 20., 20., 14., 13., 12.,  7.,  2.,  8.,  3.,  3.,\n",
       "         1.,  1.,  0.,  1.,  2.,  1.,  0.,  0.,  0.,  0.,  0.,  0.,  0.,\n",
       "         0.,  0.,  0.,  0.,  0.,  0.,  1.,  0.,  0.,  0.,  0.,  0.,  0.,\n",
       "         0.,  0.,  0.,  0.,  0.,  0.,  0.,  0.,  0.,  0.,  0.,  0.,  0.,\n",
       "         0.,  0.,  0.,  0.,  0.,  0.,  0.,  0.,  0.,  0.,  0.,  0.,  0.,\n",
       "         0.,  0.,  0.,  0.,  0.,  0.,  0.,  0.,  0.,  0.,  0.,  0.,  0.,\n",
       "         0.,  0.,  0.,  0.,  0.,  0.,  0.,  0.,  1.]),\n",
       " array([     0.        ,   5277.298915  ,  10554.59783   ,  15831.89674499,\n",
       "         21109.19565999,  26386.49457499,  31663.79348999,  36941.09240499,\n",
       "         42218.39131998,  47495.69023498,  52772.98914998,  58050.28806498,\n",
       "         63327.58697997,  68604.88589497,  73882.18480997,  79159.48372497,\n",
       "         84436.78263997,  89714.08155496,  94991.38046996, 100268.67938496,\n",
       "        105545.97829996, 110823.27721496, 116100.57612995, 121377.87504495,\n",
       "        126655.17395995, 131932.47287495, 137209.77178994, 142487.07070494,\n",
       "        147764.36961994, 153041.66853494, 158318.96744994, 163596.26636493,\n",
       "        168873.56527993, 174150.86419493, 179428.16310993, 184705.46202493,\n",
       "        189982.76093992, 195260.05985492, 200537.35876992, 205814.65768492,\n",
       "        211091.95659991, 216369.25551491, 221646.55442991, 226923.85334491,\n",
       "        232201.15225991, 237478.4511749 , 242755.7500899 , 248033.0490049 ,\n",
       "        253310.3479199 , 258587.6468349 , 263864.94574989, 269142.24466489,\n",
       "        274419.54357989, 279696.84249489, 284974.14140988, 290251.44032488,\n",
       "        295528.73923988, 300806.03815488, 306083.33706988, 311360.63598487,\n",
       "        316637.93489987, 321915.23381487, 327192.53272987, 332469.83164487,\n",
       "        337747.13055986, 343024.42947486, 348301.72838986, 353579.02730486,\n",
       "        358856.32621985, 364133.62513485, 369410.92404985, 374688.22296485,\n",
       "        379965.52187985, 385242.82079484, 390520.11970984, 395797.41862484,\n",
       "        401074.71753984, 406352.01645484, 411629.31536983, 416906.61428483,\n",
       "        422183.91319983, 427461.21211483, 432738.51102982, 438015.80994482,\n",
       "        443293.10885982, 448570.40777482, 453847.70668982, 459125.00560481,\n",
       "        464402.30451981, 469679.60343481, 474956.90234981, 480234.20126481,\n",
       "        485511.5001798 , 490788.7990948 , 496066.0980098 , 501343.3969248 ,\n",
       "        506620.69583979, 511897.99475479, 517175.29366979, 522452.59258479,\n",
       "        527729.89149979]),\n",
       " <BarContainer object of 100 artists>)"
      ]
     },
     "execution_count": 6,
     "metadata": {},
     "output_type": "execute_result"
    },
    {
     "data": {
      "image/png": "[encoded data removed]",
      "text/plain": [
       "<Figure size 1280x960 with 1 Axes>"
      ]
     },
     "metadata": {},
     "output_type": "display_data"
    }
   ],
   "source": [
    "plt.hist(dff['2023'], bins=100)"
   ]
  },
  {
   "cell_type": "code",
   "execution_count": 7,
   "metadata": {},
   "outputs": [
    {
     "data": {
      "text/html": [
       "<div>\n",
       "<style scoped>\n",
       "    .dataframe tbody tr th:only-of-type {\n",
       "        vertical-align: middle;\n",
       "    }\n",
       "\n",
       "    .dataframe tbody tr th {\n",
       "        vertical-align: top;\n",
       "    }\n",
       "\n",
       "    .dataframe thead th {\n",
       "        text-align: right;\n",
       "    }\n",
       "</style>\n",
       "<table border=\"1\" class=\"dataframe\">\n",
       "  <thead>\n",
       "    <tr style=\"text-align: right;\">\n",
       "      <th></th>\n",
       "      <th>SA2</th>\n",
       "      <th>2014-15</th>\n",
       "      <th>2015-16</th>\n",
       "      <th>2016-17</th>\n",
       "      <th>2017-18</th>\n",
       "      <th>2018-19</th>\n",
       "      <th>growthrate</th>\n",
       "      <th>2019</th>\n",
       "      <th>2020</th>\n",
       "      <th>2021</th>\n",
       "      <th>2022</th>\n",
       "      <th>2023</th>\n",
       "      <th>2024</th>\n",
       "      <th>2025</th>\n",
       "    </tr>\n",
       "  </thead>\n",
       "  <tbody>\n",
       "    <tr>\n",
       "      <th>658</th>\n",
       "      <td>205021080</td>\n",
       "      <td>NaN</td>\n",
       "      <td>NaN</td>\n",
       "      <td>23098.0</td>\n",
       "      <td>22659.0</td>\n",
       "      <td>23162.0</td>\n",
       "      <td>0.001382</td>\n",
       "      <td>23194.0</td>\n",
       "      <td>23258.088421</td>\n",
       "      <td>23267.728247</td>\n",
       "      <td>23332.020389</td>\n",
       "      <td>23404.548904</td>\n",
       "      <td>23486.397124</td>\n",
       "      <td>23578.798382</td>\n",
       "    </tr>\n",
       "    <tr>\n",
       "      <th>661</th>\n",
       "      <td>205021083</td>\n",
       "      <td>NaN</td>\n",
       "      <td>NaN</td>\n",
       "      <td>NaN</td>\n",
       "      <td>NaN</td>\n",
       "      <td>NaN</td>\n",
       "      <td>0.000000</td>\n",
       "      <td>0.0</td>\n",
       "      <td>0.000000</td>\n",
       "      <td>0.000000</td>\n",
       "      <td>0.000000</td>\n",
       "      <td>0.000000</td>\n",
       "      <td>0.000000</td>\n",
       "      <td>0.000000</td>\n",
       "    </tr>\n",
       "    <tr>\n",
       "      <th>666</th>\n",
       "      <td>205031088</td>\n",
       "      <td>22726.0</td>\n",
       "      <td>32979.0</td>\n",
       "      <td>27364.0</td>\n",
       "      <td>32022.0</td>\n",
       "      <td>21230.0</td>\n",
       "      <td>-0.017617</td>\n",
       "      <td>20856.0</td>\n",
       "      <td>20121.177202</td>\n",
       "      <td>20014.837302</td>\n",
       "      <td>19309.651324</td>\n",
       "      <td>18544.268772</td>\n",
       "      <td>17717.343315</td>\n",
       "      <td>16828.535690</td>\n",
       "    </tr>\n",
       "    <tr>\n",
       "      <th>709</th>\n",
       "      <td>206051131</td>\n",
       "      <td>132566.0</td>\n",
       "      <td>224340.0</td>\n",
       "      <td>116157.0</td>\n",
       "      <td>87256.0</td>\n",
       "      <td>70348.0</td>\n",
       "      <td>-0.221108</td>\n",
       "      <td>54793.5</td>\n",
       "      <td>30562.946303</td>\n",
       "      <td>28535.633451</td>\n",
       "      <td>15916.724299</td>\n",
       "      <td>7998.268220</td>\n",
       "      <td>3521.802069</td>\n",
       "      <td>1304.336896</td>\n",
       "    </tr>\n",
       "  </tbody>\n",
       "</table>\n",
       "</div>"
      ],
      "text/plain": [
       "           SA2   2014-15   2015-16   2016-17  2017-18  2018-19  growthrate  \\\n",
       "658  205021080       NaN       NaN   23098.0  22659.0  23162.0    0.001382   \n",
       "661  205021083       NaN       NaN       NaN      NaN      NaN    0.000000   \n",
       "666  205031088   22726.0   32979.0   27364.0  32022.0  21230.0   -0.017617   \n",
       "709  206051131  132566.0  224340.0  116157.0  87256.0  70348.0   -0.221108   \n",
       "\n",
       "        2019          2020          2021          2022          2023  \\\n",
       "658  23194.0  23258.088421  23267.728247  23332.020389  23404.548904   \n",
       "661      0.0      0.000000      0.000000      0.000000      0.000000   \n",
       "666  20856.0  20121.177202  20014.837302  19309.651324  18544.268772   \n",
       "709  54793.5  30562.946303  28535.633451  15916.724299   7998.268220   \n",
       "\n",
       "             2024          2025  \n",
       "658  23486.397124  23578.798382  \n",
       "661      0.000000      0.000000  \n",
       "666  17717.343315  16828.535690  \n",
       "709   3521.802069   1304.336896  "
      ]
     },
     "execution_count": 7,
     "metadata": {},
     "output_type": "execute_result"
    }
   ],
   "source": [
    "# these are abit odd\n",
    "dff[dff['2023'] < 30000]"
   ]
  }
 ],
 "metadata": {
  "kernelspec": {
   "display_name": "Python 3.8.10 64-bit",
   "language": "python",
   "name": "python3"
  },
  "language_info": {
   "codemirror_mode": {
    "name": "ipython",
    "version": 3
   },
   "file_extension": ".py",
   "mimetype": "text/x-python",
   "name": "python",
   "nbconvert_exporter": "python",
   "pygments_lexer": "ipython3",
   "version": "3.8.10"
  },
  "orig_nbformat": 4,
  "vscode": {
   "interpreter": {
    "hash": "916dbcbb3f70747c44a77c7bcd40155683ae19c65e1c03b4aa3499c5328201f1"
   }
  }
 },
 "nbformat": 4,
 "nbformat_minor": 2
}
