{
 "cells": [
  {
   "cell_type": "code",
   "execution_count": 44,
   "metadata": {},
   "outputs": [],
   "source": [
    "import pandas as pd\n",
    "import seaborn as sns\n",
    "import matplotlib.pyplot as plt\n",
    "from numpy import log\n",
    "\n",
    "\n",
    "df = pd.read_csv('../data/curated/ques2data.csv')"
   ]
  },
  {
   "cell_type": "code",
   "execution_count": 45,
   "metadata": {},
   "outputs": [
    {
     "data": {
      "text/plain": [
       "array(['1 bedroom flat', '2 bedroom flat', '3 bedroom flat',\n",
       "       '2 bedroom house', '3 bedroom house', '4 bedroom house',\n",
       "       'All properties', nan], dtype=object)"
      ]
     },
     "execution_count": 45,
     "metadata": {},
     "output_type": "execute_result"
    }
   ],
   "source": [
    "df['Type'].unique()"
   ]
  },
  {
   "cell_type": "code",
   "execution_count": 46,
   "metadata": {},
   "outputs": [
    {
     "data": {
      "text/plain": [
       "array([2016, 2017, 2018, 2019, 2020, 2021, 2022, 2023, 2024, 2025])"
      ]
     },
     "execution_count": 46,
     "metadata": {},
     "output_type": "execute_result"
    }
   ],
   "source": [
    "df['Year'].unique()"
   ]
  },
  {
   "cell_type": "code",
   "execution_count": 47,
   "metadata": {},
   "outputs": [
    {
     "data": {
      "text/plain": [
       "Index(['suburb', 'Year', 'population', 'income', 'Type', 'Median_Price'], dtype='object')"
      ]
     },
     "execution_count": 47,
     "metadata": {},
     "output_type": "execute_result"
    }
   ],
   "source": [
    "df.columns"
   ]
  },
  {
   "cell_type": "code",
   "execution_count": 48,
   "metadata": {},
   "outputs": [],
   "source": [
    "df = df[df['Type']=='All properties']"
   ]
  },
  {
   "cell_type": "code",
   "execution_count": 49,
   "metadata": {},
   "outputs": [],
   "source": [
    "df.loc[:, 'Median_Price'] = df['Median_Price'].apply(pd.to_numeric, errors='coerce')"
   ]
  },
  {
   "cell_type": "code",
   "execution_count": 50,
   "metadata": {},
   "outputs": [
    {
     "data": {
      "text/html": [
       "<div>\n",
       "<style scoped>\n",
       "    .dataframe tbody tr th:only-of-type {\n",
       "        vertical-align: middle;\n",
       "    }\n",
       "\n",
       "    .dataframe tbody tr th {\n",
       "        vertical-align: top;\n",
       "    }\n",
       "\n",
       "    .dataframe thead th {\n",
       "        text-align: right;\n",
       "    }\n",
       "</style>\n",
       "<table border=\"1\" class=\"dataframe\">\n",
       "  <thead>\n",
       "    <tr style=\"text-align: right;\">\n",
       "      <th></th>\n",
       "      <th>suburb</th>\n",
       "      <th>Year</th>\n",
       "      <th>population</th>\n",
       "      <th>income</th>\n",
       "      <th>Type</th>\n",
       "      <th>Median_Price</th>\n",
       "    </tr>\n",
       "  </thead>\n",
       "  <tbody>\n",
       "    <tr>\n",
       "      <th>6</th>\n",
       "      <td>Abbotsford</td>\n",
       "      <td>2016</td>\n",
       "      <td>8843.391594</td>\n",
       "      <td>72463.341789</td>\n",
       "      <td>All properties</td>\n",
       "      <td>450</td>\n",
       "    </tr>\n",
       "    <tr>\n",
       "      <th>13</th>\n",
       "      <td>Abbotsford</td>\n",
       "      <td>2017</td>\n",
       "      <td>9360.969572</td>\n",
       "      <td>75929.483052</td>\n",
       "      <td>All properties</td>\n",
       "      <td>450</td>\n",
       "    </tr>\n",
       "    <tr>\n",
       "      <th>20</th>\n",
       "      <td>Abbotsford</td>\n",
       "      <td>2018</td>\n",
       "      <td>9595.265665</td>\n",
       "      <td>78784.652725</td>\n",
       "      <td>All properties</td>\n",
       "      <td>475</td>\n",
       "    </tr>\n",
       "    <tr>\n",
       "      <th>27</th>\n",
       "      <td>Abbotsford</td>\n",
       "      <td>2019</td>\n",
       "      <td>9661.113233</td>\n",
       "      <td>81883.887314</td>\n",
       "      <td>All properties</td>\n",
       "      <td>495</td>\n",
       "    </tr>\n",
       "    <tr>\n",
       "      <th>34</th>\n",
       "      <td>Abbotsford</td>\n",
       "      <td>2020</td>\n",
       "      <td>9738.337037</td>\n",
       "      <td>86715.715407</td>\n",
       "      <td>All properties</td>\n",
       "      <td>490</td>\n",
       "    </tr>\n",
       "    <tr>\n",
       "      <th>...</th>\n",
       "      <td>...</td>\n",
       "      <td>...</td>\n",
       "      <td>...</td>\n",
       "      <td>...</td>\n",
       "      <td>...</td>\n",
       "      <td>...</td>\n",
       "    </tr>\n",
       "    <tr>\n",
       "      <th>10351</th>\n",
       "      <td>Golden Square</td>\n",
       "      <td>2020</td>\n",
       "      <td>NaN</td>\n",
       "      <td>NaN</td>\n",
       "      <td>All properties</td>\n",
       "      <td>320</td>\n",
       "    </tr>\n",
       "    <tr>\n",
       "      <th>10358</th>\n",
       "      <td>Moe</td>\n",
       "      <td>2020</td>\n",
       "      <td>NaN</td>\n",
       "      <td>NaN</td>\n",
       "      <td>All properties</td>\n",
       "      <td>248</td>\n",
       "    </tr>\n",
       "    <tr>\n",
       "      <th>10365</th>\n",
       "      <td>Ocean Grove</td>\n",
       "      <td>2020</td>\n",
       "      <td>NaN</td>\n",
       "      <td>NaN</td>\n",
       "      <td>All properties</td>\n",
       "      <td>420</td>\n",
       "    </tr>\n",
       "    <tr>\n",
       "      <th>10372</th>\n",
       "      <td>Sale</td>\n",
       "      <td>2020</td>\n",
       "      <td>NaN</td>\n",
       "      <td>NaN</td>\n",
       "      <td>All properties</td>\n",
       "      <td>295</td>\n",
       "    </tr>\n",
       "    <tr>\n",
       "      <th>10379</th>\n",
       "      <td>Mt Eliza</td>\n",
       "      <td>2020</td>\n",
       "      <td>NaN</td>\n",
       "      <td>NaN</td>\n",
       "      <td>All properties</td>\n",
       "      <td>485</td>\n",
       "    </tr>\n",
       "  </tbody>\n",
       "</table>\n",
       "<p>1140 rows × 6 columns</p>\n",
       "</div>"
      ],
      "text/plain": [
       "              suburb  Year   population        income            Type  \\\n",
       "6         Abbotsford  2016  8843.391594  72463.341789  All properties   \n",
       "13        Abbotsford  2017  9360.969572  75929.483052  All properties   \n",
       "20        Abbotsford  2018  9595.265665  78784.652725  All properties   \n",
       "27        Abbotsford  2019  9661.113233  81883.887314  All properties   \n",
       "34        Abbotsford  2020  9738.337037  86715.715407  All properties   \n",
       "...              ...   ...          ...           ...             ...   \n",
       "10351  Golden Square  2020          NaN           NaN  All properties   \n",
       "10358            Moe  2020          NaN           NaN  All properties   \n",
       "10365    Ocean Grove  2020          NaN           NaN  All properties   \n",
       "10372           Sale  2020          NaN           NaN  All properties   \n",
       "10379       Mt Eliza  2020          NaN           NaN  All properties   \n",
       "\n",
       "       Median_Price  \n",
       "6               450  \n",
       "13              450  \n",
       "20              475  \n",
       "27              495  \n",
       "34              490  \n",
       "...             ...  \n",
       "10351           320  \n",
       "10358           248  \n",
       "10365           420  \n",
       "10372           295  \n",
       "10379           485  \n",
       "\n",
       "[1140 rows x 6 columns]"
      ]
     },
     "execution_count": 50,
     "metadata": {},
     "output_type": "execute_result"
    }
   ],
   "source": [
    "df"
   ]
  },
  {
   "cell_type": "code",
   "execution_count": 51,
   "metadata": {},
   "outputs": [
    {
     "data": {
      "text/plain": [
       "6        450\n",
       "13       450\n",
       "20       475\n",
       "27       495\n",
       "34       490\n",
       "        ... \n",
       "10351    320\n",
       "10358    248\n",
       "10365    420\n",
       "10372    295\n",
       "10379    485\n",
       "Name: Median_Price, Length: 1140, dtype: int64"
      ]
     },
     "execution_count": 51,
     "metadata": {},
     "output_type": "execute_result"
    }
   ],
   "source": [
    "df['Median_Price']"
   ]
  },
  {
   "cell_type": "code",
   "execution_count": 52,
   "metadata": {},
   "outputs": [
    {
     "data": {
      "text/plain": [
       "<AxesSubplot:xlabel='income', ylabel='Median_Price'>"
      ]
     },
     "execution_count": 52,
     "metadata": {},
     "output_type": "execute_result"
    },
    {
     "data": {
      "image/png": "[encoded data removed]",
      "text/plain": [
       "<Figure size 432x288 with 1 Axes>"
      ]
     },
     "metadata": {
      "needs_background": "light"
     },
     "output_type": "display_data"
    }
   ],
   "source": [
    "sns.scatterplot(data=df,x='income', y='Median_Price')"
   ]
  },
  {
   "cell_type": "code",
   "execution_count": 53,
   "metadata": {},
   "outputs": [
    {
     "data": {
      "text/html": [
       "<div>\n",
       "<style scoped>\n",
       "    .dataframe tbody tr th:only-of-type {\n",
       "        vertical-align: middle;\n",
       "    }\n",
       "\n",
       "    .dataframe tbody tr th {\n",
       "        vertical-align: top;\n",
       "    }\n",
       "\n",
       "    .dataframe thead th {\n",
       "        text-align: right;\n",
       "    }\n",
       "</style>\n",
       "<table border=\"1\" class=\"dataframe\">\n",
       "  <thead>\n",
       "    <tr style=\"text-align: right;\">\n",
       "      <th></th>\n",
       "      <th>suburb</th>\n",
       "      <th>Year</th>\n",
       "      <th>population</th>\n",
       "      <th>income</th>\n",
       "      <th>Type</th>\n",
       "      <th>Median_Price</th>\n",
       "    </tr>\n",
       "  </thead>\n",
       "  <tbody>\n",
       "    <tr>\n",
       "      <th>6</th>\n",
       "      <td>Abbotsford</td>\n",
       "      <td>2016</td>\n",
       "      <td>8843.391594</td>\n",
       "      <td>72463.341789</td>\n",
       "      <td>All properties</td>\n",
       "      <td>450</td>\n",
       "    </tr>\n",
       "    <tr>\n",
       "      <th>13</th>\n",
       "      <td>Abbotsford</td>\n",
       "      <td>2017</td>\n",
       "      <td>9360.969572</td>\n",
       "      <td>75929.483052</td>\n",
       "      <td>All properties</td>\n",
       "      <td>450</td>\n",
       "    </tr>\n",
       "    <tr>\n",
       "      <th>20</th>\n",
       "      <td>Abbotsford</td>\n",
       "      <td>2018</td>\n",
       "      <td>9595.265665</td>\n",
       "      <td>78784.652725</td>\n",
       "      <td>All properties</td>\n",
       "      <td>475</td>\n",
       "    </tr>\n",
       "    <tr>\n",
       "      <th>27</th>\n",
       "      <td>Abbotsford</td>\n",
       "      <td>2019</td>\n",
       "      <td>9661.113233</td>\n",
       "      <td>81883.887314</td>\n",
       "      <td>All properties</td>\n",
       "      <td>495</td>\n",
       "    </tr>\n",
       "    <tr>\n",
       "      <th>34</th>\n",
       "      <td>Abbotsford</td>\n",
       "      <td>2020</td>\n",
       "      <td>9738.337037</td>\n",
       "      <td>86715.715407</td>\n",
       "      <td>All properties</td>\n",
       "      <td>490</td>\n",
       "    </tr>\n",
       "    <tr>\n",
       "      <th>...</th>\n",
       "      <td>...</td>\n",
       "      <td>...</td>\n",
       "      <td>...</td>\n",
       "      <td>...</td>\n",
       "      <td>...</td>\n",
       "      <td>...</td>\n",
       "    </tr>\n",
       "    <tr>\n",
       "      <th>10351</th>\n",
       "      <td>Golden Square</td>\n",
       "      <td>2020</td>\n",
       "      <td>NaN</td>\n",
       "      <td>NaN</td>\n",
       "      <td>All properties</td>\n",
       "      <td>320</td>\n",
       "    </tr>\n",
       "    <tr>\n",
       "      <th>10358</th>\n",
       "      <td>Moe</td>\n",
       "      <td>2020</td>\n",
       "      <td>NaN</td>\n",
       "      <td>NaN</td>\n",
       "      <td>All properties</td>\n",
       "      <td>248</td>\n",
       "    </tr>\n",
       "    <tr>\n",
       "      <th>10365</th>\n",
       "      <td>Ocean Grove</td>\n",
       "      <td>2020</td>\n",
       "      <td>NaN</td>\n",
       "      <td>NaN</td>\n",
       "      <td>All properties</td>\n",
       "      <td>420</td>\n",
       "    </tr>\n",
       "    <tr>\n",
       "      <th>10372</th>\n",
       "      <td>Sale</td>\n",
       "      <td>2020</td>\n",
       "      <td>NaN</td>\n",
       "      <td>NaN</td>\n",
       "      <td>All properties</td>\n",
       "      <td>295</td>\n",
       "    </tr>\n",
       "    <tr>\n",
       "      <th>10379</th>\n",
       "      <td>Mt Eliza</td>\n",
       "      <td>2020</td>\n",
       "      <td>NaN</td>\n",
       "      <td>NaN</td>\n",
       "      <td>All properties</td>\n",
       "      <td>485</td>\n",
       "    </tr>\n",
       "  </tbody>\n",
       "</table>\n",
       "<p>1140 rows × 6 columns</p>\n",
       "</div>"
      ],
      "text/plain": [
       "              suburb  Year   population        income            Type  \\\n",
       "6         Abbotsford  2016  8843.391594  72463.341789  All properties   \n",
       "13        Abbotsford  2017  9360.969572  75929.483052  All properties   \n",
       "20        Abbotsford  2018  9595.265665  78784.652725  All properties   \n",
       "27        Abbotsford  2019  9661.113233  81883.887314  All properties   \n",
       "34        Abbotsford  2020  9738.337037  86715.715407  All properties   \n",
       "...              ...   ...          ...           ...             ...   \n",
       "10351  Golden Square  2020          NaN           NaN  All properties   \n",
       "10358            Moe  2020          NaN           NaN  All properties   \n",
       "10365    Ocean Grove  2020          NaN           NaN  All properties   \n",
       "10372           Sale  2020          NaN           NaN  All properties   \n",
       "10379       Mt Eliza  2020          NaN           NaN  All properties   \n",
       "\n",
       "       Median_Price  \n",
       "6               450  \n",
       "13              450  \n",
       "20              475  \n",
       "27              495  \n",
       "34              490  \n",
       "...             ...  \n",
       "10351           320  \n",
       "10358           248  \n",
       "10365           420  \n",
       "10372           295  \n",
       "10379           485  \n",
       "\n",
       "[1140 rows x 6 columns]"
      ]
     },
     "execution_count": 53,
     "metadata": {},
     "output_type": "execute_result"
    }
   ],
   "source": [
    "df"
   ]
  },
  {
   "cell_type": "code",
   "execution_count": 54,
   "metadata": {},
   "outputs": [
    {
     "data": {
      "text/html": [
       "<div>\n",
       "<style scoped>\n",
       "    .dataframe tbody tr th:only-of-type {\n",
       "        vertical-align: middle;\n",
       "    }\n",
       "\n",
       "    .dataframe tbody tr th {\n",
       "        vertical-align: top;\n",
       "    }\n",
       "\n",
       "    .dataframe thead th {\n",
       "        text-align: right;\n",
       "    }\n",
       "</style>\n",
       "<table border=\"1\" class=\"dataframe\">\n",
       "  <thead>\n",
       "    <tr style=\"text-align: right;\">\n",
       "      <th></th>\n",
       "      <th>suburb</th>\n",
       "      <th>Year</th>\n",
       "      <th>population</th>\n",
       "      <th>income</th>\n",
       "      <th>Type</th>\n",
       "      <th>Median_Price</th>\n",
       "    </tr>\n",
       "  </thead>\n",
       "  <tbody>\n",
       "  </tbody>\n",
       "</table>\n",
       "</div>"
      ],
      "text/plain": [
       "Empty DataFrame\n",
       "Columns: [suburb, Year, population, income, Type, Median_Price]\n",
       "Index: []"
      ]
     },
     "execution_count": 54,
     "metadata": {},
     "output_type": "execute_result"
    }
   ],
   "source": [
    "df[df['Type']=='All Properties']"
   ]
  },
  {
   "cell_type": "code",
   "execution_count": 55,
   "metadata": {},
   "outputs": [],
   "source": [
    "df['annual_price_change'] = df.groupby(['suburb','Type'])['Median_Price'].apply(pd.Series.pct_change)\n",
    "df['annual_population_change'] = df.groupby(['suburb','Type'])['population'].apply(pd.Series.pct_change)\n",
    "df['annual_income_change'] = df.groupby(['suburb','Type'])['income'].apply(pd.Series.pct_change)"
   ]
  },
  {
   "cell_type": "code",
   "execution_count": 56,
   "metadata": {},
   "outputs": [
    {
     "data": {
      "text/plain": [
       "<AxesSubplot:xlabel='annual_population_change', ylabel='annual_price_change'>"
      ]
     },
     "execution_count": 56,
     "metadata": {},
     "output_type": "execute_result"
    },
    {
     "data": {
      "image/png": "[encoded data removed]",
      "text/plain": [
       "<Figure size 432x288 with 1 Axes>"
      ]
     },
     "metadata": {
      "needs_background": "light"
     },
     "output_type": "display_data"
    }
   ],
   "source": [
    "sns.scatterplot(data=df,x='annual_population_change', y='annual_price_change')"
   ]
  }
 ],
 "metadata": {
  "kernelspec": {
   "display_name": "Python 3.10.6 64-bit",
   "language": "python",
   "name": "python3"
  },
  "language_info": {
   "codemirror_mode": {
    "name": "ipython",
    "version": 3
   },
   "file_extension": ".py",
   "mimetype": "text/x-python",
   "name": "python",
   "nbconvert_exporter": "python",
   "pygments_lexer": "ipython3",
   "version": "3.10.6"
  },
  "orig_nbformat": 4,
  "vscode": {
   "interpreter": {
    "hash": "916dbcbb3f70747c44a77c7bcd40155683ae19c65e1c03b4aa3499c5328201f1"
   }
  }
 },
 "nbformat": 4,
 "nbformat_minor": 2
}
