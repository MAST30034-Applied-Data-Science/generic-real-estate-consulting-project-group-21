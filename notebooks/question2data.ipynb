{
 "cells": [
  {
   "cell_type": "code",
   "execution_count": 1,
   "metadata": {},
   "outputs": [],
   "source": [
    "import csv\n",
    "import pandas as pd"
   ]
  },
  {
   "cell_type": "code",
   "execution_count": 2,
   "metadata": {},
   "outputs": [
    {
     "data": {
      "text/plain": [
       "Index(['Unnamed: 0', 'Unnamed: 1', 'Mar 2016', 'Mar 2016.1', 'Jun 2016',\n",
       "       'Jun 2016.1', 'Sep 2016', 'Sep 2016.1', 'Dec 2016', 'Dec 2016.1',\n",
       "       'Mar 2017', 'Mar 2017.1', 'Jun 2017', 'Jun 2017.1', 'Sep 2017',\n",
       "       'Sep 2017.1', 'Dec 2017', 'Dec 2017.1', 'Mar 2018', 'Mar 2018.1',\n",
       "       'Jun 2018', 'Jun 2018.1', 'Sep 2018', 'Sep 2018.1', 'Dec 2018',\n",
       "       'Dec 2018.1', 'Mar 2019', 'Mar 2019.1', 'Jun 2019', 'Jun 2019.1',\n",
       "       'Sep 2019', 'Sep 2019.1', 'Dec 2019', 'Dec 2019.1', 'Mar 2020',\n",
       "       'Mar 2020.1', 'Jun 2020', 'Jun 2020.1', 'Sep 2020', 'Sep 2020.1',\n",
       "       'Dec 2020', 'Dec 2020.1', 'Mar 2021', 'Mar 2021.1', 'Unnamed: 44'],\n",
       "      dtype='object')"
      ]
     },
     "execution_count": 2,
     "metadata": {},
     "output_type": "execute_result"
    }
   ],
   "source": [
    "df = pd.read_csv('../data/curated/moving_annual_rent.csv')\n",
    "df.columns"
   ]
  }
 ],
 "metadata": {
  "kernelspec": {
   "display_name": "Python 3.8.10 64-bit",
   "language": "python",
   "name": "python3"
  },
  "language_info": {
   "codemirror_mode": {
    "name": "ipython",
    "version": 3
   },
   "file_extension": ".py",
   "mimetype": "text/x-python",
   "name": "python",
   "nbconvert_exporter": "python",
   "pygments_lexer": "ipython3",
   "version": "3.8.10"
  },
  "orig_nbformat": 4,
  "vscode": {
   "interpreter": {
    "hash": "916dbcbb3f70747c44a77c7bcd40155683ae19c65e1c03b4aa3499c5328201f1"
   }
  }
 },
 "nbformat": 4,
 "nbformat_minor": 2
}
