{
 "cells": [
  {
   "cell_type": "code",
   "execution_count": null,
   "metadata": {},
   "outputs": [],
   "source": [
    "digraph mygraph {\n",
    "  fontname=\"Helvetica,Arial,sans-serif\"\n",
    "  node [fontname=\"Helvetica,Arial,sans-serif\"]\n",
    "  edge [fontname=\"Helvetica,Arial,sans-serif\"]\n",
    "  node [shape=box];\n",
    "  'popu_incomepredict.ipynb';\n",
    "  'popu_incomepredict.ipynb' -> 'transformSA2toSub.ipynb';\n",
    "  'transformSA2toSub.ipynb';\n",
    "  'transformSA2toSub.ipynb' -> 'joinpopu-income.ipynb';\n",
    "  'historical_data.ipynb';\n",
    "  'historical_data.ipynb' -> 'joinpopu-income.ipynb';\n",
    "  'joinpopu-income.ipynb';\n",
    "  'joinpopu-income.ipynb' -> 'dataforQ3.py and engineer-metrics.py';\n",
    "  'Crime_Rate.ipynb'\n",
    "  'Crime_Rate.ipynb' -> 'dataforQ3.py and engineer-metrics.py';\n",
    "  'preprocessing.ipynb'\n",
    "  'preprocessing.ipynb' -> 'dataforQ3.py and engineer-metrics.py';\n",
    "  'dataforQ3.py and engineer-metrics.py';\n",
    "  'dataforQ3.py and engineer-metrics.py' -> 'question-one-modelling.ipynb';\n",
    "  'dataforQ3.py and engineer-metrics.py' -> 'question-one-analysis.ipynb';\n",
    "  'dataforQ3.py and engineer-metrics.py' -> 'question-two-modelling.ipynb';\n",
    "  'dataforQ3.py and engineer-metrics.py' -> 'question-two-analysis.ipynb';\n",
    "  'dataforQ3.py and engineer-metrics.py' -> 'Q3.ipynb';\n",
    "  'dataforQ3.py and engineer-metrics.py' -> 'visualise-on-map.ipynb';\n",
    "  'dataforQ3.py and engineer-metrics.py' -> 'summary_notebook.ipynb';\n",
    "  'repo-linter.py';\n",
    "}\n",
    "\n",
    "  \n"
   ]
  },
  {
   "cell_type": "markdown",
   "metadata": {},
   "source": [
    "adding_ICSEA.ipynb where to put that? i dont know"
   ]
  }
 ],
 "metadata": {
  "kernelspec": {
   "display_name": "Python 3.8.10 64-bit",
   "language": "python",
   "name": "python3"
  },
  "language_info": {
   "name": "python",
   "version": "3.8.10"
  },
  "orig_nbformat": 4,
  "vscode": {
   "interpreter": {
    "hash": "916dbcbb3f70747c44a77c7bcd40155683ae19c65e1c03b4aa3499c5328201f1"
   }
  }
 },
 "nbformat": 4,
 "nbformat_minor": 2
}
