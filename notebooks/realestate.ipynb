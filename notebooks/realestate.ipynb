{
 "cells": [
  {
   "cell_type": "markdown",
   "id": "909fcd4d-10d4-43ea-b1db-6fdcda3c6c61",
   "metadata": {},
   "source": [
    "1.只有周租金，只留数字\n",
    "2.有周租金、月租金，只取周租金"
   ]
  },
  {
   "cell_type": "code",
   "execution_count": 1,
   "id": "2f2fca9c-d8fc-4765-857e-baad9727a1b8",
   "metadata": {},
   "outputs": [],
   "source": [
    "import numpy as np\n",
    "import pandas as pd\n",
    "import re\n",
    "import matplotlib.pyplot as plt\n",
    "from scipy.spatial.distance import cdist\n",
    "import warnings\n",
    "warnings.filterwarnings('ignore')"
   ]
  },
  {
   "cell_type": "code",
   "execution_count": 2,
   "id": "78cf0672-6dba-40c6-b032-43e37eb09332",
   "metadata": {},
   "outputs": [],
   "source": [
    "df = pd.read_csv('realestate.csv')"
   ]
  },
  {
   "cell_type": "code",
   "execution_count": 3,
   "id": "f85e457b-014c-408b-8e08-1f20616ab11e",
   "metadata": {},
   "outputs": [
    {
     "data": {
      "text/html": [
       "<div>\n",
       "<style scoped>\n",
       "    .dataframe tbody tr th:only-of-type {\n",
       "        vertical-align: middle;\n",
       "    }\n",
       "\n",
       "    .dataframe tbody tr th {\n",
       "        vertical-align: top;\n",
       "    }\n",
       "\n",
       "    .dataframe thead th {\n",
       "        text-align: right;\n",
       "    }\n",
       "</style>\n",
       "<table border=\"1\" class=\"dataframe\">\n",
       "  <thead>\n",
       "    <tr style=\"text-align: right;\">\n",
       "      <th></th>\n",
       "      <th>id</th>\n",
       "      <th>address</th>\n",
       "      <th>suburb</th>\n",
       "      <th>postcode</th>\n",
       "      <th>price</th>\n",
       "      <th>propertyType</th>\n",
       "      <th>bedrooms</th>\n",
       "      <th>bathrooms</th>\n",
       "      <th>parkingSpaces</th>\n",
       "      <th>studies</th>\n",
       "      <th>furnished</th>\n",
       "      <th>latitude</th>\n",
       "      <th>longitude</th>\n",
       "    </tr>\n",
       "  </thead>\n",
       "  <tbody>\n",
       "    <tr>\n",
       "      <th>0</th>\n",
       "      <td>435045151</td>\n",
       "      <td>2109/33 MacKenzie St</td>\n",
       "      <td>Melbourne</td>\n",
       "      <td>3000</td>\n",
       "      <td>$560 per week</td>\n",
       "      <td>Apartment</td>\n",
       "      <td>2</td>\n",
       "      <td>1</td>\n",
       "      <td>0</td>\n",
       "      <td>0</td>\n",
       "      <td>N</td>\n",
       "      <td>-37.80768181</td>\n",
       "      <td>144.96683064</td>\n",
       "    </tr>\n",
       "    <tr>\n",
       "      <th>1</th>\n",
       "      <td>435045047</td>\n",
       "      <td>2108/11 Rose Lane</td>\n",
       "      <td>Melbourne</td>\n",
       "      <td>3000</td>\n",
       "      <td>$580 per week</td>\n",
       "      <td>Apartment</td>\n",
       "      <td>2</td>\n",
       "      <td>1</td>\n",
       "      <td>0</td>\n",
       "      <td>0</td>\n",
       "      <td>Y</td>\n",
       "      <td>-37.81545214</td>\n",
       "      <td>144.95408105</td>\n",
       "    </tr>\n",
       "    <tr>\n",
       "      <th>2</th>\n",
       "      <td>435144851</td>\n",
       "      <td>3210/9-23 Mackenzie Street</td>\n",
       "      <td>Melbourne</td>\n",
       "      <td>3000</td>\n",
       "      <td>$450 per week</td>\n",
       "      <td>Apartment</td>\n",
       "      <td>1</td>\n",
       "      <td>1</td>\n",
       "      <td>0</td>\n",
       "      <td>0</td>\n",
       "      <td>N</td>\n",
       "      <td>-37.80753655</td>\n",
       "      <td>144.96732789</td>\n",
       "    </tr>\n",
       "    <tr>\n",
       "      <th>3</th>\n",
       "      <td>435144711</td>\n",
       "      <td>300/668 Bourke Street</td>\n",
       "      <td>Melbourne</td>\n",
       "      <td>3000</td>\n",
       "      <td>$550 per week</td>\n",
       "      <td>Apartment</td>\n",
       "      <td>2</td>\n",
       "      <td>2</td>\n",
       "      <td>1</td>\n",
       "      <td>0</td>\n",
       "      <td>N</td>\n",
       "      <td>-37.8166019</td>\n",
       "      <td>144.95420038</td>\n",
       "    </tr>\n",
       "    <tr>\n",
       "      <th>4</th>\n",
       "      <td>435044255</td>\n",
       "      <td>2108/11 Rose Lane</td>\n",
       "      <td>Melbourne</td>\n",
       "      <td>3000</td>\n",
       "      <td>$600 per week</td>\n",
       "      <td>Apartment</td>\n",
       "      <td>2</td>\n",
       "      <td>1</td>\n",
       "      <td>0</td>\n",
       "      <td>0</td>\n",
       "      <td>Y</td>\n",
       "      <td>-37.81545214</td>\n",
       "      <td>144.95408105</td>\n",
       "    </tr>\n",
       "  </tbody>\n",
       "</table>\n",
       "</div>"
      ],
      "text/plain": [
       "          id                     address     suburb  postcode          price  \\\n",
       "0  435045151        2109/33 MacKenzie St  Melbourne      3000  $560 per week   \n",
       "1  435045047           2108/11 Rose Lane  Melbourne      3000  $580 per week   \n",
       "2  435144851  3210/9-23 Mackenzie Street  Melbourne      3000  $450 per week   \n",
       "3  435144711       300/668 Bourke Street  Melbourne      3000  $550 per week   \n",
       "4  435044255           2108/11 Rose Lane  Melbourne      3000  $600 per week   \n",
       "\n",
       "  propertyType  bedrooms  bathrooms  parkingSpaces  studies furnished  \\\n",
       "0    Apartment         2          1              0        0         N   \n",
       "1    Apartment         2          1              0        0         Y   \n",
       "2    Apartment         1          1              0        0         N   \n",
       "3    Apartment         2          2              1        0         N   \n",
       "4    Apartment         2          1              0        0         Y   \n",
       "\n",
       "       latitude     longitude  \n",
       "0  -37.80768181  144.96683064  \n",
       "1  -37.81545214  144.95408105  \n",
       "2  -37.80753655  144.96732789  \n",
       "3   -37.8166019  144.95420038  \n",
       "4  -37.81545214  144.95408105  "
      ]
     },
     "execution_count": 3,
     "metadata": {},
     "output_type": "execute_result"
    }
   ],
   "source": [
    "df.head()"
   ]
  },
  {
   "cell_type": "code",
   "execution_count": 4,
   "id": "7f41481b-2199-42ac-ad2f-78dedc144fbe",
   "metadata": {},
   "outputs": [
    {
     "name": "stdout",
     "output_type": "stream",
     "text": [
      "<class 'pandas.core.frame.DataFrame'>\n",
      "RangeIndex: 11143 entries, 0 to 11142\n",
      "Data columns (total 13 columns):\n",
      " #   Column         Non-Null Count  Dtype \n",
      "---  ------         --------------  ----- \n",
      " 0   id             11143 non-null  int64 \n",
      " 1   address        11095 non-null  object\n",
      " 2   suburb         11143 non-null  object\n",
      " 3   postcode       11143 non-null  int64 \n",
      " 4   price          11143 non-null  object\n",
      " 5   propertyType   11143 non-null  object\n",
      " 6   bedrooms       11143 non-null  int64 \n",
      " 7   bathrooms      11143 non-null  int64 \n",
      " 8   parkingSpaces  11143 non-null  int64 \n",
      " 9   studies        11143 non-null  int64 \n",
      " 10  furnished      11143 non-null  object\n",
      " 11  latitude       11143 non-null  object\n",
      " 12  longitude      11143 non-null  object\n",
      "dtypes: int64(6), object(7)\n",
      "memory usage: 1.1+ MB\n"
     ]
    }
   ],
   "source": [
    "df.info()"
   ]
  },
  {
   "cell_type": "code",
   "execution_count": 5,
   "id": "4adb3652-6956-4b09-a8e9-e749da5f47ad",
   "metadata": {},
   "outputs": [
    {
     "data": {
      "text/plain": [
       "(11143, 13)"
      ]
     },
     "execution_count": 5,
     "metadata": {},
     "output_type": "execute_result"
    }
   ],
   "source": [
    "df.shape"
   ]
  },
  {
   "cell_type": "code",
   "execution_count": 6,
   "id": "3df0204d-8799-46cc-bffc-6631dbca5cd6",
   "metadata": {},
   "outputs": [
    {
     "data": {
      "text/plain": [
       "10"
      ]
     },
     "execution_count": 6,
     "metadata": {},
     "output_type": "execute_result"
    }
   ],
   "source": [
    "# check 'id' for dublicate data\n",
    "df.duplicated('id').sum()"
   ]
  },
  {
   "cell_type": "code",
   "execution_count": 7,
   "id": "24fb5525-883c-4fad-8395-ed7740ca88a7",
   "metadata": {},
   "outputs": [
    {
     "data": {
      "text/plain": [
       "(11133, 13)"
      ]
     },
     "execution_count": 7,
     "metadata": {},
     "output_type": "execute_result"
    }
   ],
   "source": [
    "df.drop_duplicates('id',inplace=True)\n",
    "df.shape"
   ]
  },
  {
   "cell_type": "code",
   "execution_count": 8,
   "id": "0302d959-868e-4b2e-94ee-a5d7525fbcbb",
   "metadata": {},
   "outputs": [
    {
     "data": {
      "text/plain": [
       "id                0\n",
       "address          48\n",
       "suburb            0\n",
       "postcode          0\n",
       "price             0\n",
       "propertyType      0\n",
       "bedrooms          0\n",
       "bathrooms         0\n",
       "parkingSpaces     0\n",
       "studies           0\n",
       "furnished         0\n",
       "latitude          0\n",
       "longitude         0\n",
       "dtype: int64"
      ]
     },
     "execution_count": 8,
     "metadata": {},
     "output_type": "execute_result"
    }
   ],
   "source": [
    "df.isnull().sum()"
   ]
  },
  {
   "cell_type": "code",
   "execution_count": 9,
   "id": "b57ead77-c066-4dd4-9f49-ce1e577c4927",
   "metadata": {},
   "outputs": [],
   "source": [
    "# address - 48 items missing, remove\n",
    "df = df.dropna()"
   ]
  },
  {
   "cell_type": "code",
   "execution_count": 10,
   "id": "127bd4bb-e419-41a9-831b-81e5f1655fc1",
   "metadata": {},
   "outputs": [
    {
     "data": {
      "text/plain": [
       "(11085, 13)"
      ]
     },
     "execution_count": 10,
     "metadata": {},
     "output_type": "execute_result"
    }
   ],
   "source": [
    "df.shape"
   ]
  },
  {
   "cell_type": "code",
   "execution_count": 11,
   "id": "24db5dd7-2001-4e1e-9de1-11b28a7dfb51",
   "metadata": {},
   "outputs": [
    {
     "data": {
      "text/plain": [
       "(11001, 13)"
      ]
     },
     "execution_count": 11,
     "metadata": {},
     "output_type": "execute_result"
    }
   ],
   "source": [
    "# latitude and longitude have missing values and shown by 'none'; remove\n",
    "df = df.drop(df[(df['latitude']=='None')|(df['longitude']=='None')].index)\n",
    "df.shape"
   ]
  },
  {
   "cell_type": "code",
   "execution_count": 12,
   "id": "f8b8ab72-98d4-4896-92f5-6b24faa751b8",
   "metadata": {},
   "outputs": [],
   "source": [
    "# process with regular expressions \n",
    "def fun(txt):\n",
    "    txt = txt.lower() #Change Uppercase to Lower case \n",
    "    txt = re.sub(' ','',txt) #remove spaces \n",
    "    txt = re.sub(',','',txt) #remove comma ','，some numbers like 1,200, the comma needs to be removed for matching\n",
    "    txt = re.sub('\\.(\\d+)','',txt) #process price data, remove decimal places - 250.00-->250\n",
    "    txt = re.sub('\\.','',txt) #remove'.'，p.w. also refers to perweek\n",
    "    res = re.findall('/w|p/?w|week',txt) # extract key words like perweek,/week,week,pw,/pw,p/w...\n",
    "    \n",
    "    # no matching string containing key words like perweek,/week... (not containing matching words)\n",
    "    if len(res)==0: \n",
    "        return 0\n",
    "    \n",
    "    rent = re.findall('\\$(\\d+)',txt) #Extract the rental amount, which may contain both weekly and monthly rents, and return a matching string\n",
    "    \n",
    "    # if no matching string is returned, then there is no rent data in the certain price; fill it with zeros for now. （not containing rent data不含租金数据）\n",
    "    if len(rent)==0:\n",
    "        return 0\n",
    "    \n",
    "    # take the minimum value when having both weekly rent and monthly rent\n",
    "    rent = [int(rent[i]) for i in range(len(rent))]\n",
    "    return min(rent)"
   ]
  },
  {
   "cell_type": "code",
   "execution_count": 13,
   "id": "a6b05918-162c-484b-8008-e42a8fe6af0f",
   "metadata": {},
   "outputs": [],
   "source": [
    "df['price'] = df['price'].apply(fun)"
   ]
  },
  {
   "cell_type": "code",
   "execution_count": 14,
   "id": "5a7267a0-e02e-4959-8880-a8716abcf287",
   "metadata": {},
   "outputs": [
    {
     "data": {
      "text/plain": [
       "count    10478.000000\n",
       "mean       530.038939\n",
       "std        268.820472\n",
       "min        140.000000\n",
       "25%        400.000000\n",
       "50%        465.000000\n",
       "75%        590.000000\n",
       "max       6000.000000\n",
       "Name: price, dtype: float64"
      ]
     },
     "execution_count": 14,
     "metadata": {},
     "output_type": "execute_result"
    }
   ],
   "source": [
    "# remove the data whose week rent is lower than $100\n",
    "df_new = df[df['price']>=100]\n",
    "df_new['price'].describe()"
   ]
  },
  {
   "cell_type": "code",
   "execution_count": 15,
   "id": "0626c898-619a-443c-bd5c-df1f358ac7b1",
   "metadata": {},
   "outputs": [
    {
     "data": {
      "image/png": "[encoded data removed]",
      "text/plain": [
       "<Figure size 432x288 with 1 Axes>"
      ]
     },
     "metadata": {
      "needs_background": "light"
     },
     "output_type": "display_data"
    }
   ],
   "source": [
    "plt.hist(df_new['price'],bins=100)\n",
    "plt.show()"
   ]
  },
  {
   "cell_type": "code",
   "execution_count": null,
   "id": "9c62cbba-0d2b-4eb1-adbe-9cab5fff1908",
   "metadata": {},
   "outputs": [],
   "source": []
  },
  {
   "cell_type": "code",
   "execution_count": 16,
   "id": "4e5c12ba-8716-46dd-95cf-86732454b3e3",
   "metadata": {},
   "outputs": [
    {
     "data": {
      "text/html": [
       "<div>\n",
       "<style scoped>\n",
       "    .dataframe tbody tr th:only-of-type {\n",
       "        vertical-align: middle;\n",
       "    }\n",
       "\n",
       "    .dataframe tbody tr th {\n",
       "        vertical-align: top;\n",
       "    }\n",
       "\n",
       "    .dataframe thead th {\n",
       "        text-align: right;\n",
       "    }\n",
       "</style>\n",
       "<table border=\"1\" class=\"dataframe\">\n",
       "  <thead>\n",
       "    <tr style=\"text-align: right;\">\n",
       "      <th></th>\n",
       "      <th>Education_Sector</th>\n",
       "      <th>Entity_Type</th>\n",
       "      <th>SCHOOL_NO</th>\n",
       "      <th>School_Name</th>\n",
       "      <th>School_Type</th>\n",
       "      <th>School_Status</th>\n",
       "      <th>Address_Line_1</th>\n",
       "      <th>Address_Line_2</th>\n",
       "      <th>Address_Town</th>\n",
       "      <th>Address_State</th>\n",
       "      <th>...</th>\n",
       "      <th>Postal_Address_Line_1</th>\n",
       "      <th>Postal_Address_Line_2</th>\n",
       "      <th>Postal_Town</th>\n",
       "      <th>Postal_State</th>\n",
       "      <th>Postal_Postcode</th>\n",
       "      <th>Full_Phone_No</th>\n",
       "      <th>LGA_ID</th>\n",
       "      <th>LGA_Name</th>\n",
       "      <th>X</th>\n",
       "      <th>Y</th>\n",
       "    </tr>\n",
       "  </thead>\n",
       "  <tbody>\n",
       "    <tr>\n",
       "      <th>0</th>\n",
       "      <td>Government</td>\n",
       "      <td>1</td>\n",
       "      <td>1</td>\n",
       "      <td>Alberton Primary School</td>\n",
       "      <td>Primary</td>\n",
       "      <td>O</td>\n",
       "      <td>21 Thomson Street</td>\n",
       "      <td>NaN</td>\n",
       "      <td>Alberton</td>\n",
       "      <td>VIC</td>\n",
       "      <td>...</td>\n",
       "      <td>21 Thomson Street</td>\n",
       "      <td>NaN</td>\n",
       "      <td>ALBERTON</td>\n",
       "      <td>VIC</td>\n",
       "      <td>3971</td>\n",
       "      <td>03 5183 2412</td>\n",
       "      <td>681</td>\n",
       "      <td>Wellington (S)</td>\n",
       "      <td>146.66660</td>\n",
       "      <td>-38.61771</td>\n",
       "    </tr>\n",
       "    <tr>\n",
       "      <th>1</th>\n",
       "      <td>Government</td>\n",
       "      <td>1</td>\n",
       "      <td>3</td>\n",
       "      <td>Allansford and District Primary School</td>\n",
       "      <td>Primary</td>\n",
       "      <td>O</td>\n",
       "      <td>Frank Street</td>\n",
       "      <td>NaN</td>\n",
       "      <td>Allansford</td>\n",
       "      <td>VIC</td>\n",
       "      <td>...</td>\n",
       "      <td>Frank Street</td>\n",
       "      <td>NaN</td>\n",
       "      <td>ALLANSFORD</td>\n",
       "      <td>VIC</td>\n",
       "      <td>3277</td>\n",
       "      <td>03 5565 1382</td>\n",
       "      <td>673</td>\n",
       "      <td>Warrnambool (C)</td>\n",
       "      <td>142.59039</td>\n",
       "      <td>-38.38628</td>\n",
       "    </tr>\n",
       "    <tr>\n",
       "      <th>2</th>\n",
       "      <td>Government</td>\n",
       "      <td>1</td>\n",
       "      <td>4</td>\n",
       "      <td>Avoca Primary School</td>\n",
       "      <td>Primary</td>\n",
       "      <td>O</td>\n",
       "      <td>118 Barnett Street</td>\n",
       "      <td>NaN</td>\n",
       "      <td>Avoca</td>\n",
       "      <td>VIC</td>\n",
       "      <td>...</td>\n",
       "      <td>P O Box 12</td>\n",
       "      <td>NaN</td>\n",
       "      <td>AVOCA</td>\n",
       "      <td>VIC</td>\n",
       "      <td>3467</td>\n",
       "      <td>03 5465 3176</td>\n",
       "      <td>599</td>\n",
       "      <td>Pyrenees (S)</td>\n",
       "      <td>143.47565</td>\n",
       "      <td>-37.08450</td>\n",
       "    </tr>\n",
       "    <tr>\n",
       "      <th>3</th>\n",
       "      <td>Government</td>\n",
       "      <td>1</td>\n",
       "      <td>8</td>\n",
       "      <td>Avenel Primary School</td>\n",
       "      <td>Primary</td>\n",
       "      <td>O</td>\n",
       "      <td>40 Anderson Street</td>\n",
       "      <td>NaN</td>\n",
       "      <td>Avenel</td>\n",
       "      <td>VIC</td>\n",
       "      <td>...</td>\n",
       "      <td>40 Anderson Street</td>\n",
       "      <td>NaN</td>\n",
       "      <td>AVENEL</td>\n",
       "      <td>VIC</td>\n",
       "      <td>3664</td>\n",
       "      <td>03 5796 2264</td>\n",
       "      <td>643</td>\n",
       "      <td>Strathbogie (S)</td>\n",
       "      <td>145.23472</td>\n",
       "      <td>-36.90137</td>\n",
       "    </tr>\n",
       "    <tr>\n",
       "      <th>4</th>\n",
       "      <td>Government</td>\n",
       "      <td>1</td>\n",
       "      <td>12</td>\n",
       "      <td>Warrandyte Primary School</td>\n",
       "      <td>Primary</td>\n",
       "      <td>O</td>\n",
       "      <td>5-11 Forbes Street</td>\n",
       "      <td>NaN</td>\n",
       "      <td>Warrandyte</td>\n",
       "      <td>VIC</td>\n",
       "      <td>...</td>\n",
       "      <td>5-11 Forbes Street</td>\n",
       "      <td>NaN</td>\n",
       "      <td>WARRANDYTE</td>\n",
       "      <td>VIC</td>\n",
       "      <td>3113</td>\n",
       "      <td>03 9844 3537</td>\n",
       "      <td>421</td>\n",
       "      <td>Manningham (C)</td>\n",
       "      <td>145.21398</td>\n",
       "      <td>-37.74268</td>\n",
       "    </tr>\n",
       "    <tr>\n",
       "      <th>...</th>\n",
       "      <td>...</td>\n",
       "      <td>...</td>\n",
       "      <td>...</td>\n",
       "      <td>...</td>\n",
       "      <td>...</td>\n",
       "      <td>...</td>\n",
       "      <td>...</td>\n",
       "      <td>...</td>\n",
       "      <td>...</td>\n",
       "      <td>...</td>\n",
       "      <td>...</td>\n",
       "      <td>...</td>\n",
       "      <td>...</td>\n",
       "      <td>...</td>\n",
       "      <td>...</td>\n",
       "      <td>...</td>\n",
       "      <td>...</td>\n",
       "      <td>...</td>\n",
       "      <td>...</td>\n",
       "      <td>...</td>\n",
       "      <td>...</td>\n",
       "    </tr>\n",
       "    <tr>\n",
       "      <th>2294</th>\n",
       "      <td>Independent</td>\n",
       "      <td>2</td>\n",
       "      <td>2243</td>\n",
       "      <td>Lysterfield Lake College</td>\n",
       "      <td>Primary</td>\n",
       "      <td>O</td>\n",
       "      <td>20 ABeckett Road</td>\n",
       "      <td>NaN</td>\n",
       "      <td>NARRE WARREN NORTH</td>\n",
       "      <td>VIC</td>\n",
       "      <td>...</td>\n",
       "      <td>20 ABeckett Road</td>\n",
       "      <td>NaN</td>\n",
       "      <td>NARRE WARREN NORTH</td>\n",
       "      <td>VIC</td>\n",
       "      <td>3804</td>\n",
       "      <td>03-</td>\n",
       "      <td>161</td>\n",
       "      <td>Casey (C)</td>\n",
       "      <td>145.31604</td>\n",
       "      <td>-37.97748</td>\n",
       "    </tr>\n",
       "    <tr>\n",
       "      <th>2295</th>\n",
       "      <td>Independent</td>\n",
       "      <td>2</td>\n",
       "      <td>2244</td>\n",
       "      <td>Plenty River College</td>\n",
       "      <td>Secondary</td>\n",
       "      <td>O</td>\n",
       "      <td>Unit 5, 9 Danaher Drive</td>\n",
       "      <td>NaN</td>\n",
       "      <td>SOUTH MORANG</td>\n",
       "      <td>VIC</td>\n",
       "      <td>...</td>\n",
       "      <td>Unit 5, 9 Danaher Drive</td>\n",
       "      <td>NaN</td>\n",
       "      <td>SOUTH MORANG</td>\n",
       "      <td>VIC</td>\n",
       "      <td>3752</td>\n",
       "      <td>03 9435 9060</td>\n",
       "      <td>707</td>\n",
       "      <td>Whittlesea (C)</td>\n",
       "      <td>145.08148</td>\n",
       "      <td>-37.64875</td>\n",
       "    </tr>\n",
       "    <tr>\n",
       "      <th>2296</th>\n",
       "      <td>Catholic</td>\n",
       "      <td>2</td>\n",
       "      <td>2245</td>\n",
       "      <td>Holy Cross Catholic Primary School</td>\n",
       "      <td>Primary</td>\n",
       "      <td>O</td>\n",
       "      <td>2-14 Carlingford Rd</td>\n",
       "      <td>NaN</td>\n",
       "      <td>MICKLEHAM</td>\n",
       "      <td>VIC</td>\n",
       "      <td>...</td>\n",
       "      <td>2-14 Carlingford Rd</td>\n",
       "      <td>NaN</td>\n",
       "      <td>MICKLEHAM</td>\n",
       "      <td>VIC</td>\n",
       "      <td>3064</td>\n",
       "      <td>03 9216 4200</td>\n",
       "      <td>327</td>\n",
       "      <td>Hume (C)</td>\n",
       "      <td>144.90520</td>\n",
       "      <td>-37.53046</td>\n",
       "    </tr>\n",
       "    <tr>\n",
       "      <th>2297</th>\n",
       "      <td>Independent</td>\n",
       "      <td>2</td>\n",
       "      <td>2246</td>\n",
       "      <td>Sidrah Gardens School</td>\n",
       "      <td>Primary</td>\n",
       "      <td>O</td>\n",
       "      <td>434-442 Belgrave-Hallam Road</td>\n",
       "      <td>NaN</td>\n",
       "      <td>NARRE WARREN NORTH</td>\n",
       "      <td>VIC</td>\n",
       "      <td>...</td>\n",
       "      <td>434-442 Belgrave-Hallam Road</td>\n",
       "      <td>NaN</td>\n",
       "      <td>NARRE WARREN NORTH</td>\n",
       "      <td>VIC</td>\n",
       "      <td>3804</td>\n",
       "      <td>03-</td>\n",
       "      <td>161</td>\n",
       "      <td>Casey (C)</td>\n",
       "      <td>145.31589</td>\n",
       "      <td>-37.97324</td>\n",
       "    </tr>\n",
       "    <tr>\n",
       "      <th>2298</th>\n",
       "      <td>Independent</td>\n",
       "      <td>2</td>\n",
       "      <td>2247</td>\n",
       "      <td>Mountain District Community College</td>\n",
       "      <td>Secondary</td>\n",
       "      <td>O</td>\n",
       "      <td>13-15 The Avenue</td>\n",
       "      <td>NaN</td>\n",
       "      <td>FERNTREE GULLY</td>\n",
       "      <td>VIC</td>\n",
       "      <td>...</td>\n",
       "      <td>13-15 The Avenue</td>\n",
       "      <td>NaN</td>\n",
       "      <td>FERNTREE GULLY</td>\n",
       "      <td>VIC</td>\n",
       "      <td>3156</td>\n",
       "      <td>03 9758 7859</td>\n",
       "      <td>367</td>\n",
       "      <td>Knox (C)</td>\n",
       "      <td>145.29327</td>\n",
       "      <td>-37.88319</td>\n",
       "    </tr>\n",
       "  </tbody>\n",
       "</table>\n",
       "<p>2299 rows × 21 columns</p>\n",
       "</div>"
      ],
      "text/plain": [
       "     Education_Sector  Entity_Type  SCHOOL_NO  \\\n",
       "0          Government            1          1   \n",
       "1          Government            1          3   \n",
       "2          Government            1          4   \n",
       "3          Government            1          8   \n",
       "4          Government            1         12   \n",
       "...               ...          ...        ...   \n",
       "2294      Independent            2       2243   \n",
       "2295      Independent            2       2244   \n",
       "2296         Catholic            2       2245   \n",
       "2297      Independent            2       2246   \n",
       "2298      Independent            2       2247   \n",
       "\n",
       "                                 School_Name School_Type School_Status  \\\n",
       "0                    Alberton Primary School     Primary             O   \n",
       "1     Allansford and District Primary School     Primary             O   \n",
       "2                       Avoca Primary School     Primary             O   \n",
       "3                      Avenel Primary School     Primary             O   \n",
       "4                  Warrandyte Primary School     Primary             O   \n",
       "...                                      ...         ...           ...   \n",
       "2294                Lysterfield Lake College     Primary             O   \n",
       "2295                    Plenty River College   Secondary             O   \n",
       "2296      Holy Cross Catholic Primary School     Primary             O   \n",
       "2297                   Sidrah Gardens School     Primary             O   \n",
       "2298     Mountain District Community College   Secondary             O   \n",
       "\n",
       "                    Address_Line_1 Address_Line_2        Address_Town  \\\n",
       "0                21 Thomson Street            NaN            Alberton   \n",
       "1                     Frank Street            NaN          Allansford   \n",
       "2               118 Barnett Street            NaN               Avoca   \n",
       "3               40 Anderson Street            NaN              Avenel   \n",
       "4               5-11 Forbes Street            NaN          Warrandyte   \n",
       "...                            ...            ...                 ...   \n",
       "2294             20 ABeckett Road            NaN  NARRE WARREN NORTH   \n",
       "2295       Unit 5, 9 Danaher Drive            NaN        SOUTH MORANG   \n",
       "2296           2-14 Carlingford Rd            NaN           MICKLEHAM   \n",
       "2297  434-442 Belgrave-Hallam Road            NaN  NARRE WARREN NORTH   \n",
       "2298              13-15 The Avenue            NaN      FERNTREE GULLY   \n",
       "\n",
       "     Address_State  ...         Postal_Address_Line_1 Postal_Address_Line_2  \\\n",
       "0              VIC  ...             21 Thomson Street                   NaN   \n",
       "1              VIC  ...                  Frank Street                   NaN   \n",
       "2              VIC  ...                    P O Box 12                   NaN   \n",
       "3              VIC  ...            40 Anderson Street                   NaN   \n",
       "4              VIC  ...            5-11 Forbes Street                   NaN   \n",
       "...            ...  ...                           ...                   ...   \n",
       "2294           VIC  ...             20 ABeckett Road                   NaN   \n",
       "2295           VIC  ...       Unit 5, 9 Danaher Drive                   NaN   \n",
       "2296           VIC  ...           2-14 Carlingford Rd                   NaN   \n",
       "2297           VIC  ...  434-442 Belgrave-Hallam Road                   NaN   \n",
       "2298           VIC  ...              13-15 The Avenue                   NaN   \n",
       "\n",
       "             Postal_Town Postal_State Postal_Postcode  Full_Phone_No LGA_ID  \\\n",
       "0               ALBERTON          VIC            3971   03 5183 2412    681   \n",
       "1             ALLANSFORD          VIC            3277   03 5565 1382    673   \n",
       "2                  AVOCA          VIC            3467   03 5465 3176    599   \n",
       "3                 AVENEL          VIC            3664   03 5796 2264    643   \n",
       "4             WARRANDYTE          VIC            3113   03 9844 3537    421   \n",
       "...                  ...          ...             ...            ...    ...   \n",
       "2294  NARRE WARREN NORTH          VIC            3804            03-    161   \n",
       "2295        SOUTH MORANG          VIC            3752   03 9435 9060    707   \n",
       "2296           MICKLEHAM          VIC            3064   03 9216 4200    327   \n",
       "2297  NARRE WARREN NORTH          VIC            3804            03-    161   \n",
       "2298      FERNTREE GULLY          VIC            3156   03 9758 7859    367   \n",
       "\n",
       "             LGA_Name          X         Y  \n",
       "0      Wellington (S)  146.66660 -38.61771  \n",
       "1     Warrnambool (C)  142.59039 -38.38628  \n",
       "2        Pyrenees (S)  143.47565 -37.08450  \n",
       "3     Strathbogie (S)  145.23472 -36.90137  \n",
       "4      Manningham (C)  145.21398 -37.74268  \n",
       "...               ...        ...       ...  \n",
       "2294        Casey (C)  145.31604 -37.97748  \n",
       "2295   Whittlesea (C)  145.08148 -37.64875  \n",
       "2296         Hume (C)  144.90520 -37.53046  \n",
       "2297        Casey (C)  145.31589 -37.97324  \n",
       "2298         Knox (C)  145.29327 -37.88319  \n",
       "\n",
       "[2299 rows x 21 columns]"
      ]
     },
     "execution_count": 16,
     "metadata": {},
     "output_type": "execute_result"
    }
   ],
   "source": [
    "df_school = pd.read_csv('SchoolLocations2022.csv',encoding='latin-1')\n",
    "df_school"
   ]
  },
  {
   "cell_type": "code",
   "execution_count": 17,
   "id": "a651648b-631a-4e9d-9815-d6ea9bcd30ce",
   "metadata": {},
   "outputs": [
    {
     "data": {
      "text/plain": [
       "Primary      1577\n",
       "Secondary     353\n",
       "Pri/Sec       246\n",
       "Special       117\n",
       "Language        4\n",
       "Camp            2\n",
       "Name: School_Type, dtype: int64"
      ]
     },
     "execution_count": 17,
     "metadata": {},
     "output_type": "execute_result"
    }
   ],
   "source": [
    "df_school['School_Type'].value_counts()"
   ]
  },
  {
   "cell_type": "code",
   "execution_count": 18,
   "id": "71cb3ccd-6ca8-4ecb-8aff-c0269b40371e",
   "metadata": {},
   "outputs": [
    {
     "data": {
      "text/plain": [
       "0"
      ]
     },
     "execution_count": 18,
     "metadata": {},
     "output_type": "execute_result"
    }
   ],
   "source": [
    "df_school.duplicated().sum()"
   ]
  },
  {
   "cell_type": "code",
   "execution_count": 19,
   "id": "f9de0008-98e1-4ec7-9da4-275e4fd985bc",
   "metadata": {},
   "outputs": [
    {
     "data": {
      "text/plain": [
       "School_Type    0\n",
       "Y              1\n",
       "X              1\n",
       "dtype: int64"
      ]
     },
     "execution_count": 19,
     "metadata": {},
     "output_type": "execute_result"
    }
   ],
   "source": [
    "house_loc = df_new[['latitude', 'longitude']].astype('float64')\n",
    "sch_loc = df_school[['School_Type','Y','X']]  \n",
    "sch_loc.isnull().sum()"
   ]
  },
  {
   "cell_type": "code",
   "execution_count": 20,
   "id": "493240bc-c3e5-4885-a131-b9c69fbc6894",
   "metadata": {},
   "outputs": [],
   "source": [
    "sch_loc = sch_loc.dropna()"
   ]
  },
  {
   "cell_type": "code",
   "execution_count": 21,
   "id": "814f3307-89e2-4646-9ee0-629f70cbaab3",
   "metadata": {},
   "outputs": [
    {
     "data": {
      "text/plain": [
       "Primary      1577\n",
       "Secondary     352\n",
       "Pri/Sec       246\n",
       "Special       117\n",
       "Language        4\n",
       "Camp            2\n",
       "Name: School_Type, dtype: int64"
      ]
     },
     "execution_count": 21,
     "metadata": {},
     "output_type": "execute_result"
    }
   ],
   "source": [
    "sch_loc['School_Type'].value_counts()"
   ]
  },
  {
   "cell_type": "code",
   "execution_count": 22,
   "id": "98762881-be0e-40a4-97ec-96912984ae33",
   "metadata": {},
   "outputs": [],
   "source": [
    "pri_loc = sch_loc[(sch_loc['School_Type']=='Primary')|(sch_loc['School_Type']=='Pri/Sec')][['Y','X']]\n",
    "sec_loc = sch_loc[(sch_loc['School_Type']=='Secondary')|(sch_loc['School_Type']=='Pri/Sec')][['Y','X']]\n",
    "other_loc = sch_loc[(sch_loc['School_Type']=='Special')|(sch_loc['School_Type']=='Language')|(sch_loc['School_Type']=='Camp')][['Y','X']]"
   ]
  },
  {
   "cell_type": "code",
   "execution_count": 23,
   "id": "a4d8d6a1-85ba-4191-a40c-0f3e2c02f07d",
   "metadata": {},
   "outputs": [],
   "source": [
    "# pri_min_dist: minimal distance to primary school\n",
    "pri_dist = cdist(house_loc,pri_loc)\n",
    "pri_min_dist = pri_dist.min(axis=1)\n",
    "\n",
    "# sec_min_dist: minimal distance to secondary school\n",
    "sec_dist = cdist(house_loc,sec_loc)\n",
    "sec_min_dist = sec_dist.min(axis=1)\n",
    "\n",
    "# other_min_dist: minimal distance to other school: special,language,camp\n",
    "other_dist = cdist(house_loc,other_loc)\n",
    "other_min_dist = other_dist.min(axis=1)"
   ]
  },
  {
   "cell_type": "code",
   "execution_count": 24,
   "id": "1e834a9e-69a4-4d1f-8524-dfe58818ac8e",
   "metadata": {},
   "outputs": [
    {
     "data": {
      "text/plain": [
       "count    10478.000000\n",
       "mean         0.006918\n",
       "std          0.025765\n",
       "min          0.000247\n",
       "25%          0.003806\n",
       "50%          0.005951\n",
       "75%          0.008593\n",
       "max          2.604375\n",
       "dtype: float64"
      ]
     },
     "execution_count": 24,
     "metadata": {},
     "output_type": "execute_result"
    }
   ],
   "source": [
    "pd.Series(pri_min_dist).describe()"
   ]
  },
  {
   "cell_type": "code",
   "execution_count": 25,
   "id": "368b99da-5537-43b2-84e1-0a71975c7408",
   "metadata": {},
   "outputs": [
    {
     "data": {
      "text/plain": [
       "count    10478.000000\n",
       "mean         0.010408\n",
       "std          0.026611\n",
       "min          0.000285\n",
       "25%          0.005304\n",
       "50%          0.008351\n",
       "75%          0.012804\n",
       "max          2.604375\n",
       "dtype: float64"
      ]
     },
     "execution_count": 25,
     "metadata": {},
     "output_type": "execute_result"
    }
   ],
   "source": [
    "pd.Series(sec_min_dist).describe()"
   ]
  },
  {
   "cell_type": "code",
   "execution_count": 26,
   "id": "64862429-a467-4ee7-b329-b524bbeb79df",
   "metadata": {},
   "outputs": [
    {
     "data": {
      "text/plain": [
       "count    10478.000000\n",
       "mean         0.022753\n",
       "std          0.040748\n",
       "min          0.000479\n",
       "25%          0.009913\n",
       "50%          0.017205\n",
       "75%          0.026812\n",
       "max          3.621274\n",
       "dtype: float64"
      ]
     },
     "execution_count": 26,
     "metadata": {},
     "output_type": "execute_result"
    }
   ],
   "source": [
    "pd.Series(other_min_dist).describe()"
   ]
  },
  {
   "cell_type": "code",
   "execution_count": 27,
   "id": "54324a7b-a404-408e-9a40-4df448446f13",
   "metadata": {},
   "outputs": [],
   "source": [
    "df_new['min_pri_distance'] = pd.Series(pri_min_dist)\n",
    "df_new['min_sec_distance'] = pd.Series(sec_min_dist)\n",
    "df_new['min_other_distance'] = pd.Series(other_min_dist)"
   ]
  },
  {
   "cell_type": "code",
   "execution_count": 28,
   "id": "e1cea355-4985-4f85-b192-dbfe60dba01a",
   "metadata": {},
   "outputs": [
    {
     "data": {
      "text/html": [
       "<div>\n",
       "<style scoped>\n",
       "    .dataframe tbody tr th:only-of-type {\n",
       "        vertical-align: middle;\n",
       "    }\n",
       "\n",
       "    .dataframe tbody tr th {\n",
       "        vertical-align: top;\n",
       "    }\n",
       "\n",
       "    .dataframe thead th {\n",
       "        text-align: right;\n",
       "    }\n",
       "</style>\n",
       "<table border=\"1\" class=\"dataframe\">\n",
       "  <thead>\n",
       "    <tr style=\"text-align: right;\">\n",
       "      <th></th>\n",
       "      <th>id</th>\n",
       "      <th>address</th>\n",
       "      <th>suburb</th>\n",
       "      <th>postcode</th>\n",
       "      <th>price</th>\n",
       "      <th>propertyType</th>\n",
       "      <th>bedrooms</th>\n",
       "      <th>bathrooms</th>\n",
       "      <th>parkingSpaces</th>\n",
       "      <th>studies</th>\n",
       "      <th>furnished</th>\n",
       "      <th>latitude</th>\n",
       "      <th>longitude</th>\n",
       "      <th>min_pri_distance</th>\n",
       "      <th>min_sec_distance</th>\n",
       "      <th>min_other_distance</th>\n",
       "    </tr>\n",
       "  </thead>\n",
       "  <tbody>\n",
       "    <tr>\n",
       "      <th>0</th>\n",
       "      <td>435045151</td>\n",
       "      <td>2109/33 MacKenzie St</td>\n",
       "      <td>Melbourne</td>\n",
       "      <td>3000</td>\n",
       "      <td>560</td>\n",
       "      <td>Apartment</td>\n",
       "      <td>2</td>\n",
       "      <td>1</td>\n",
       "      <td>0</td>\n",
       "      <td>0</td>\n",
       "      <td>N</td>\n",
       "      <td>-37.80768181</td>\n",
       "      <td>144.96683064</td>\n",
       "      <td>0.006237</td>\n",
       "      <td>0.005366</td>\n",
       "      <td>0.012002</td>\n",
       "    </tr>\n",
       "    <tr>\n",
       "      <th>1</th>\n",
       "      <td>435045047</td>\n",
       "      <td>2108/11 Rose Lane</td>\n",
       "      <td>Melbourne</td>\n",
       "      <td>3000</td>\n",
       "      <td>580</td>\n",
       "      <td>Apartment</td>\n",
       "      <td>2</td>\n",
       "      <td>1</td>\n",
       "      <td>0</td>\n",
       "      <td>0</td>\n",
       "      <td>Y</td>\n",
       "      <td>-37.81545214</td>\n",
       "      <td>144.95408105</td>\n",
       "      <td>0.013806</td>\n",
       "      <td>0.002584</td>\n",
       "      <td>0.002338</td>\n",
       "    </tr>\n",
       "    <tr>\n",
       "      <th>2</th>\n",
       "      <td>435144851</td>\n",
       "      <td>3210/9-23 Mackenzie Street</td>\n",
       "      <td>Melbourne</td>\n",
       "      <td>3000</td>\n",
       "      <td>450</td>\n",
       "      <td>Apartment</td>\n",
       "      <td>1</td>\n",
       "      <td>1</td>\n",
       "      <td>0</td>\n",
       "      <td>0</td>\n",
       "      <td>N</td>\n",
       "      <td>-37.80753655</td>\n",
       "      <td>144.96732789</td>\n",
       "      <td>0.005905</td>\n",
       "      <td>0.005145</td>\n",
       "      <td>0.012461</td>\n",
       "    </tr>\n",
       "    <tr>\n",
       "      <th>3</th>\n",
       "      <td>435144711</td>\n",
       "      <td>300/668 Bourke Street</td>\n",
       "      <td>Melbourne</td>\n",
       "      <td>3000</td>\n",
       "      <td>550</td>\n",
       "      <td>Apartment</td>\n",
       "      <td>2</td>\n",
       "      <td>2</td>\n",
       "      <td>1</td>\n",
       "      <td>0</td>\n",
       "      <td>N</td>\n",
       "      <td>-37.8166019</td>\n",
       "      <td>144.95420038</td>\n",
       "      <td>0.012767</td>\n",
       "      <td>0.003718</td>\n",
       "      <td>0.001951</td>\n",
       "    </tr>\n",
       "    <tr>\n",
       "      <th>4</th>\n",
       "      <td>435044255</td>\n",
       "      <td>2108/11 Rose Lane</td>\n",
       "      <td>Melbourne</td>\n",
       "      <td>3000</td>\n",
       "      <td>600</td>\n",
       "      <td>Apartment</td>\n",
       "      <td>2</td>\n",
       "      <td>1</td>\n",
       "      <td>0</td>\n",
       "      <td>0</td>\n",
       "      <td>Y</td>\n",
       "      <td>-37.81545214</td>\n",
       "      <td>144.95408105</td>\n",
       "      <td>0.013806</td>\n",
       "      <td>0.002584</td>\n",
       "      <td>0.002338</td>\n",
       "    </tr>\n",
       "  </tbody>\n",
       "</table>\n",
       "</div>"
      ],
      "text/plain": [
       "          id                     address     suburb  postcode  price  \\\n",
       "0  435045151        2109/33 MacKenzie St  Melbourne      3000    560   \n",
       "1  435045047           2108/11 Rose Lane  Melbourne      3000    580   \n",
       "2  435144851  3210/9-23 Mackenzie Street  Melbourne      3000    450   \n",
       "3  435144711       300/668 Bourke Street  Melbourne      3000    550   \n",
       "4  435044255           2108/11 Rose Lane  Melbourne      3000    600   \n",
       "\n",
       "  propertyType  bedrooms  bathrooms  parkingSpaces  studies furnished  \\\n",
       "0    Apartment         2          1              0        0         N   \n",
       "1    Apartment         2          1              0        0         Y   \n",
       "2    Apartment         1          1              0        0         N   \n",
       "3    Apartment         2          2              1        0         N   \n",
       "4    Apartment         2          1              0        0         Y   \n",
       "\n",
       "       latitude     longitude  min_pri_distance  min_sec_distance  \\\n",
       "0  -37.80768181  144.96683064          0.006237          0.005366   \n",
       "1  -37.81545214  144.95408105          0.013806          0.002584   \n",
       "2  -37.80753655  144.96732789          0.005905          0.005145   \n",
       "3   -37.8166019  144.95420038          0.012767          0.003718   \n",
       "4  -37.81545214  144.95408105          0.013806          0.002584   \n",
       "\n",
       "   min_other_distance  \n",
       "0            0.012002  \n",
       "1            0.002338  \n",
       "2            0.012461  \n",
       "3            0.001951  \n",
       "4            0.002338  "
      ]
     },
     "execution_count": 28,
     "metadata": {},
     "output_type": "execute_result"
    }
   ],
   "source": [
    "df_new.head()"
   ]
  },
  {
   "cell_type": "code",
   "execution_count": 29,
   "id": "c3360ac8-4987-41e7-a8a4-8dc62e053cfa",
   "metadata": {},
   "outputs": [],
   "source": [
    "df_new.to_csv('new_realestate.csv')"
   ]
  },
  {
   "cell_type": "code",
   "execution_count": null,
   "id": "d014a4dc-f08d-4bd9-a2b6-81b492304bcc",
   "metadata": {},
   "outputs": [],
   "source": []
  }
 ],
 "metadata": {
  "kernelspec": {
   "display_name": "Python 3 (ipykernel)",
   "language": "python",
   "name": "python3"
  },
  "language_info": {
   "codemirror_mode": {
    "name": "ipython",
    "version": 3
   },
   "file_extension": ".py",
   "mimetype": "text/x-python",
   "name": "python",
   "nbconvert_exporter": "python",
   "pygments_lexer": "ipython3",
   "version": "3.9.7"
  }
 },
 "nbformat": 4,
 "nbformat_minor": 5
}
