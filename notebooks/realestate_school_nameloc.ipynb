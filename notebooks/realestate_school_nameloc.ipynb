{
 "cells": [
  {
   "cell_type": "markdown",
   "id": "909fcd4d-10d4-43ea-b1db-6fdcda3c6c61",
   "metadata": {},
   "source": [
    "1.只有周租金，只留数字\n",
    "2.有周租金、月租金，只取周租金"
   ]
  },
  {
   "cell_type": "code",
   "execution_count": 2,
   "id": "2f2fca9c-d8fc-4765-857e-baad9727a1b8",
   "metadata": {},
   "outputs": [],
   "source": [
    "import numpy as np\n",
    "import pandas as pd\n",
    "import re\n",
    "import matplotlib.pyplot as plt\n",
    "from scipy.spatial.distance import cdist\n",
    "import warnings\n",
    "warnings.filterwarnings('ignore')"
   ]
  },
  {
   "cell_type": "code",
   "execution_count": 3,
   "id": "78cf0672-6dba-40c6-b032-43e37eb09332",
   "metadata": {},
   "outputs": [],
   "source": [
    "df = pd.read_csv('realestate.csv')"
   ]
  },
  {
   "cell_type": "code",
   "execution_count": 4,
   "id": "f85e457b-014c-408b-8e08-1f20616ab11e",
   "metadata": {},
   "outputs": [
    {
     "data": {
      "text/html": [
       "<div>\n",
       "<style scoped>\n",
       "    .dataframe tbody tr th:only-of-type {\n",
       "        vertical-align: middle;\n",
       "    }\n",
       "\n",
       "    .dataframe tbody tr th {\n",
       "        vertical-align: top;\n",
       "    }\n",
       "\n",
       "    .dataframe thead th {\n",
       "        text-align: right;\n",
       "    }\n",
       "</style>\n",
       "<table border=\"1\" class=\"dataframe\">\n",
       "  <thead>\n",
       "    <tr style=\"text-align: right;\">\n",
       "      <th></th>\n",
       "      <th>id</th>\n",
       "      <th>address</th>\n",
       "      <th>suburb</th>\n",
       "      <th>postcode</th>\n",
       "      <th>price</th>\n",
       "      <th>propertyType</th>\n",
       "      <th>bedrooms</th>\n",
       "      <th>bathrooms</th>\n",
       "      <th>parkingSpaces</th>\n",
       "      <th>studies</th>\n",
       "      <th>furnished</th>\n",
       "      <th>latitude</th>\n",
       "      <th>longitude</th>\n",
       "    </tr>\n",
       "  </thead>\n",
       "  <tbody>\n",
       "    <tr>\n",
       "      <th>0</th>\n",
       "      <td>435045151</td>\n",
       "      <td>2109/33 MacKenzie St</td>\n",
       "      <td>Melbourne</td>\n",
       "      <td>3000</td>\n",
       "      <td>$560 per week</td>\n",
       "      <td>Apartment</td>\n",
       "      <td>2</td>\n",
       "      <td>1</td>\n",
       "      <td>0</td>\n",
       "      <td>0</td>\n",
       "      <td>N</td>\n",
       "      <td>-37.80768181</td>\n",
       "      <td>144.96683064</td>\n",
       "    </tr>\n",
       "    <tr>\n",
       "      <th>1</th>\n",
       "      <td>435045047</td>\n",
       "      <td>2108/11 Rose Lane</td>\n",
       "      <td>Melbourne</td>\n",
       "      <td>3000</td>\n",
       "      <td>$580 per week</td>\n",
       "      <td>Apartment</td>\n",
       "      <td>2</td>\n",
       "      <td>1</td>\n",
       "      <td>0</td>\n",
       "      <td>0</td>\n",
       "      <td>Y</td>\n",
       "      <td>-37.81545214</td>\n",
       "      <td>144.95408105</td>\n",
       "    </tr>\n",
       "    <tr>\n",
       "      <th>2</th>\n",
       "      <td>435144851</td>\n",
       "      <td>3210/9-23 Mackenzie Street</td>\n",
       "      <td>Melbourne</td>\n",
       "      <td>3000</td>\n",
       "      <td>$450 per week</td>\n",
       "      <td>Apartment</td>\n",
       "      <td>1</td>\n",
       "      <td>1</td>\n",
       "      <td>0</td>\n",
       "      <td>0</td>\n",
       "      <td>N</td>\n",
       "      <td>-37.80753655</td>\n",
       "      <td>144.96732789</td>\n",
       "    </tr>\n",
       "    <tr>\n",
       "      <th>3</th>\n",
       "      <td>435144711</td>\n",
       "      <td>300/668 Bourke Street</td>\n",
       "      <td>Melbourne</td>\n",
       "      <td>3000</td>\n",
       "      <td>$550 per week</td>\n",
       "      <td>Apartment</td>\n",
       "      <td>2</td>\n",
       "      <td>2</td>\n",
       "      <td>1</td>\n",
       "      <td>0</td>\n",
       "      <td>N</td>\n",
       "      <td>-37.8166019</td>\n",
       "      <td>144.95420038</td>\n",
       "    </tr>\n",
       "    <tr>\n",
       "      <th>4</th>\n",
       "      <td>435044255</td>\n",
       "      <td>2108/11 Rose Lane</td>\n",
       "      <td>Melbourne</td>\n",
       "      <td>3000</td>\n",
       "      <td>$600 per week</td>\n",
       "      <td>Apartment</td>\n",
       "      <td>2</td>\n",
       "      <td>1</td>\n",
       "      <td>0</td>\n",
       "      <td>0</td>\n",
       "      <td>Y</td>\n",
       "      <td>-37.81545214</td>\n",
       "      <td>144.95408105</td>\n",
       "    </tr>\n",
       "  </tbody>\n",
       "</table>\n",
       "</div>"
      ],
      "text/plain": [
       "          id                     address     suburb  postcode          price  \\\n",
       "0  435045151        2109/33 MacKenzie St  Melbourne      3000  $560 per week   \n",
       "1  435045047           2108/11 Rose Lane  Melbourne      3000  $580 per week   \n",
       "2  435144851  3210/9-23 Mackenzie Street  Melbourne      3000  $450 per week   \n",
       "3  435144711       300/668 Bourke Street  Melbourne      3000  $550 per week   \n",
       "4  435044255           2108/11 Rose Lane  Melbourne      3000  $600 per week   \n",
       "\n",
       "  propertyType  bedrooms  bathrooms  parkingSpaces  studies furnished  \\\n",
       "0    Apartment         2          1              0        0         N   \n",
       "1    Apartment         2          1              0        0         Y   \n",
       "2    Apartment         1          1              0        0         N   \n",
       "3    Apartment         2          2              1        0         N   \n",
       "4    Apartment         2          1              0        0         Y   \n",
       "\n",
       "       latitude     longitude  \n",
       "0  -37.80768181  144.96683064  \n",
       "1  -37.81545214  144.95408105  \n",
       "2  -37.80753655  144.96732789  \n",
       "3   -37.8166019  144.95420038  \n",
       "4  -37.81545214  144.95408105  "
      ]
     },
     "execution_count": 4,
     "metadata": {},
     "output_type": "execute_result"
    }
   ],
   "source": [
    "df.head()"
   ]
  },
  {
   "cell_type": "code",
   "execution_count": 5,
   "id": "7f41481b-2199-42ac-ad2f-78dedc144fbe",
   "metadata": {},
   "outputs": [
    {
     "name": "stdout",
     "output_type": "stream",
     "text": [
      "<class 'pandas.core.frame.DataFrame'>\n",
      "RangeIndex: 11143 entries, 0 to 11142\n",
      "Data columns (total 13 columns):\n",
      " #   Column         Non-Null Count  Dtype \n",
      "---  ------         --------------  ----- \n",
      " 0   id             11143 non-null  int64 \n",
      " 1   address        11095 non-null  object\n",
      " 2   suburb         11143 non-null  object\n",
      " 3   postcode       11143 non-null  int64 \n",
      " 4   price          11143 non-null  object\n",
      " 5   propertyType   11143 non-null  object\n",
      " 6   bedrooms       11143 non-null  int64 \n",
      " 7   bathrooms      11143 non-null  int64 \n",
      " 8   parkingSpaces  11143 non-null  int64 \n",
      " 9   studies        11143 non-null  int64 \n",
      " 10  furnished      11143 non-null  object\n",
      " 11  latitude       11143 non-null  object\n",
      " 12  longitude      11143 non-null  object\n",
      "dtypes: int64(6), object(7)\n",
      "memory usage: 1.1+ MB\n"
     ]
    }
   ],
   "source": [
    "df.info()"
   ]
  },
  {
   "cell_type": "code",
   "execution_count": 6,
   "id": "4adb3652-6956-4b09-a8e9-e749da5f47ad",
   "metadata": {},
   "outputs": [
    {
     "data": {
      "text/plain": [
       "(11143, 13)"
      ]
     },
     "execution_count": 6,
     "metadata": {},
     "output_type": "execute_result"
    }
   ],
   "source": [
    "df.shape"
   ]
  },
  {
   "cell_type": "code",
   "execution_count": 7,
   "id": "3df0204d-8799-46cc-bffc-6631dbca5cd6",
   "metadata": {},
   "outputs": [
    {
     "data": {
      "text/plain": [
       "10"
      ]
     },
     "execution_count": 7,
     "metadata": {},
     "output_type": "execute_result"
    }
   ],
   "source": [
    "# check 'id' for dublicate data\n",
    "df.duplicated('id').sum()"
   ]
  },
  {
   "cell_type": "code",
   "execution_count": 8,
   "id": "24fb5525-883c-4fad-8395-ed7740ca88a7",
   "metadata": {},
   "outputs": [
    {
     "data": {
      "text/plain": [
       "(11133, 13)"
      ]
     },
     "execution_count": 8,
     "metadata": {},
     "output_type": "execute_result"
    }
   ],
   "source": [
    "df.drop_duplicates('id',inplace=True)\n",
    "df.shape"
   ]
  },
  {
   "cell_type": "code",
   "execution_count": 9,
   "id": "0302d959-868e-4b2e-94ee-a5d7525fbcbb",
   "metadata": {},
   "outputs": [
    {
     "data": {
      "text/plain": [
       "id                0\n",
       "address          48\n",
       "suburb            0\n",
       "postcode          0\n",
       "price             0\n",
       "propertyType      0\n",
       "bedrooms          0\n",
       "bathrooms         0\n",
       "parkingSpaces     0\n",
       "studies           0\n",
       "furnished         0\n",
       "latitude          0\n",
       "longitude         0\n",
       "dtype: int64"
      ]
     },
     "execution_count": 9,
     "metadata": {},
     "output_type": "execute_result"
    }
   ],
   "source": [
    "df.isnull().sum()"
   ]
  },
  {
   "cell_type": "code",
   "execution_count": 10,
   "id": "b57ead77-c066-4dd4-9f49-ce1e577c4927",
   "metadata": {},
   "outputs": [],
   "source": [
    "# address - 48 items missing, remove\n",
    "df = df.dropna()"
   ]
  },
  {
   "cell_type": "code",
   "execution_count": 11,
   "id": "127bd4bb-e419-41a9-831b-81e5f1655fc1",
   "metadata": {},
   "outputs": [
    {
     "data": {
      "text/plain": [
       "(11085, 13)"
      ]
     },
     "execution_count": 11,
     "metadata": {},
     "output_type": "execute_result"
    }
   ],
   "source": [
    "df.shape"
   ]
  },
  {
   "cell_type": "code",
   "execution_count": 12,
   "id": "24db5dd7-2001-4e1e-9de1-11b28a7dfb51",
   "metadata": {},
   "outputs": [
    {
     "data": {
      "text/plain": [
       "(11001, 13)"
      ]
     },
     "execution_count": 12,
     "metadata": {},
     "output_type": "execute_result"
    }
   ],
   "source": [
    "# latitude and longitude have missing values and shown by 'none'; remove\n",
    "df = df.drop(df[(df['latitude']=='None')|(df['longitude']=='None')].index)\n",
    "df.shape"
   ]
  },
  {
   "cell_type": "code",
   "execution_count": 13,
   "id": "f8b8ab72-98d4-4896-92f5-6b24faa751b8",
   "metadata": {},
   "outputs": [],
   "source": [
    "# process with regular expressions \n",
    "def fun(txt):\n",
    "    txt = txt.lower() #Change Uppercase to Lower case \n",
    "    txt = re.sub(' ','',txt) #remove spaces \n",
    "    txt = re.sub(',','',txt) #remove comma ','，some numbers like 1,200, the comma needs to be removed for matching\n",
    "    txt = re.sub('\\.(\\d+)','',txt) #process price data, remove decimal places - 250.00-->250\n",
    "    txt = re.sub('\\.','',txt) #remove'.'，p.w. also refers to perweek\n",
    "    res = re.findall('/w|p/?w|week',txt) # extract key words like perweek,/week,week,pw,/pw,p/w...\n",
    "    \n",
    "    # no matching string containing key words like perweek,/week... (not containing matching words)\n",
    "    if len(res)==0: \n",
    "        return 0\n",
    "    \n",
    "    rent = re.findall('\\$(\\d+)',txt) #Extract the rental amount, which may contain both weekly and monthly rents, and return a matching string\n",
    "    \n",
    "    # if no matching string is returned, then there is no rent data in the certain price; fill it with zeros for now. （not containing rent data不含租金数据）\n",
    "    if len(rent)==0:\n",
    "        return 0\n",
    "    \n",
    "    # take the minimum value when having both weekly rent and monthly rent\n",
    "    rent = [int(rent[i]) for i in range(len(rent))]\n",
    "    return min(rent)"
   ]
  },
  {
   "cell_type": "code",
   "execution_count": 14,
   "id": "a6b05918-162c-484b-8008-e42a8fe6af0f",
   "metadata": {},
   "outputs": [],
   "source": [
    "df['price'] = df['price'].apply(fun)"
   ]
  },
  {
   "cell_type": "code",
   "execution_count": 15,
   "id": "5a7267a0-e02e-4959-8880-a8716abcf287",
   "metadata": {},
   "outputs": [
    {
     "data": {
      "text/plain": [
       "count    10428.000000\n",
       "mean       519.573168\n",
       "std        211.443684\n",
       "min        150.000000\n",
       "25%        400.000000\n",
       "50%        465.000000\n",
       "75%        590.000000\n",
       "max       2000.000000\n",
       "Name: price, dtype: float64"
      ]
     },
     "execution_count": 15,
     "metadata": {},
     "output_type": "execute_result"
    }
   ],
   "source": [
    "# remove the data whose week rent is lower than $150 and over $2000\n",
    "df_new = df[(df['price']>=150) & (df['price']<=2000)]\n",
    "df_new['price'].describe()"
   ]
  },
  {
   "cell_type": "code",
   "execution_count": 16,
   "id": "0626c898-619a-443c-bd5c-df1f358ac7b1",
   "metadata": {},
   "outputs": [
    {
     "data": {
      "image/png": "[encoded data removed]",
      "text/plain": [
       "<Figure size 432x288 with 1 Axes>"
      ]
     },
     "metadata": {
      "needs_background": "light"
     },
     "output_type": "display_data"
    }
   ],
   "source": [
    "plt.hist(df_new['price'],bins=100)\n",
    "plt.show()"
   ]
  },
  {
   "cell_type": "code",
   "execution_count": null,
   "id": "9c62cbba-0d2b-4eb1-adbe-9cab5fff1908",
   "metadata": {},
   "outputs": [],
   "source": []
  },
  {
   "cell_type": "code",
   "execution_count": 18,
   "id": "4e5c12ba-8716-46dd-95cf-86732454b3e3",
   "metadata": {},
   "outputs": [
    {
     "data": {
      "text/html": [
       "<div>\n",
       "<style scoped>\n",
       "    .dataframe tbody tr th:only-of-type {\n",
       "        vertical-align: middle;\n",
       "    }\n",
       "\n",
       "    .dataframe tbody tr th {\n",
       "        vertical-align: top;\n",
       "    }\n",
       "\n",
       "    .dataframe thead th {\n",
       "        text-align: right;\n",
       "    }\n",
       "</style>\n",
       "<table border=\"1\" class=\"dataframe\">\n",
       "  <thead>\n",
       "    <tr style=\"text-align: right;\">\n",
       "      <th></th>\n",
       "      <th>Education_Sector</th>\n",
       "      <th>Entity_Type</th>\n",
       "      <th>SCHOOL_NO</th>\n",
       "      <th>School_Name</th>\n",
       "      <th>School_Type</th>\n",
       "      <th>School_Status</th>\n",
       "      <th>Address_Line_1</th>\n",
       "      <th>Address_Line_2</th>\n",
       "      <th>Address_Town</th>\n",
       "      <th>Address_State</th>\n",
       "      <th>...</th>\n",
       "      <th>Postal_Address_Line_1</th>\n",
       "      <th>Postal_Address_Line_2</th>\n",
       "      <th>Postal_Town</th>\n",
       "      <th>Postal_State</th>\n",
       "      <th>Postal_Postcode</th>\n",
       "      <th>Full_Phone_No</th>\n",
       "      <th>LGA_ID</th>\n",
       "      <th>LGA_Name</th>\n",
       "      <th>X</th>\n",
       "      <th>Y</th>\n",
       "    </tr>\n",
       "  </thead>\n",
       "  <tbody>\n",
       "    <tr>\n",
       "      <th>0</th>\n",
       "      <td>Government</td>\n",
       "      <td>1</td>\n",
       "      <td>1</td>\n",
       "      <td>Alberton Primary School</td>\n",
       "      <td>Primary</td>\n",
       "      <td>O</td>\n",
       "      <td>21 Thomson Street</td>\n",
       "      <td>NaN</td>\n",
       "      <td>Alberton</td>\n",
       "      <td>VIC</td>\n",
       "      <td>...</td>\n",
       "      <td>21 Thomson Street</td>\n",
       "      <td>NaN</td>\n",
       "      <td>ALBERTON</td>\n",
       "      <td>VIC</td>\n",
       "      <td>3971</td>\n",
       "      <td>03 5183 2412</td>\n",
       "      <td>681</td>\n",
       "      <td>Wellington (S)</td>\n",
       "      <td>146.66660</td>\n",
       "      <td>-38.61771</td>\n",
       "    </tr>\n",
       "    <tr>\n",
       "      <th>1</th>\n",
       "      <td>Government</td>\n",
       "      <td>1</td>\n",
       "      <td>3</td>\n",
       "      <td>Allansford and District Primary School</td>\n",
       "      <td>Primary</td>\n",
       "      <td>O</td>\n",
       "      <td>Frank Street</td>\n",
       "      <td>NaN</td>\n",
       "      <td>Allansford</td>\n",
       "      <td>VIC</td>\n",
       "      <td>...</td>\n",
       "      <td>Frank Street</td>\n",
       "      <td>NaN</td>\n",
       "      <td>ALLANSFORD</td>\n",
       "      <td>VIC</td>\n",
       "      <td>3277</td>\n",
       "      <td>03 5565 1382</td>\n",
       "      <td>673</td>\n",
       "      <td>Warrnambool (C)</td>\n",
       "      <td>142.59039</td>\n",
       "      <td>-38.38628</td>\n",
       "    </tr>\n",
       "    <tr>\n",
       "      <th>2</th>\n",
       "      <td>Government</td>\n",
       "      <td>1</td>\n",
       "      <td>4</td>\n",
       "      <td>Avoca Primary School</td>\n",
       "      <td>Primary</td>\n",
       "      <td>O</td>\n",
       "      <td>118 Barnett Street</td>\n",
       "      <td>NaN</td>\n",
       "      <td>Avoca</td>\n",
       "      <td>VIC</td>\n",
       "      <td>...</td>\n",
       "      <td>P O Box 12</td>\n",
       "      <td>NaN</td>\n",
       "      <td>AVOCA</td>\n",
       "      <td>VIC</td>\n",
       "      <td>3467</td>\n",
       "      <td>03 5465 3176</td>\n",
       "      <td>599</td>\n",
       "      <td>Pyrenees (S)</td>\n",
       "      <td>143.47565</td>\n",
       "      <td>-37.08450</td>\n",
       "    </tr>\n",
       "    <tr>\n",
       "      <th>3</th>\n",
       "      <td>Government</td>\n",
       "      <td>1</td>\n",
       "      <td>8</td>\n",
       "      <td>Avenel Primary School</td>\n",
       "      <td>Primary</td>\n",
       "      <td>O</td>\n",
       "      <td>40 Anderson Street</td>\n",
       "      <td>NaN</td>\n",
       "      <td>Avenel</td>\n",
       "      <td>VIC</td>\n",
       "      <td>...</td>\n",
       "      <td>40 Anderson Street</td>\n",
       "      <td>NaN</td>\n",
       "      <td>AVENEL</td>\n",
       "      <td>VIC</td>\n",
       "      <td>3664</td>\n",
       "      <td>03 5796 2264</td>\n",
       "      <td>643</td>\n",
       "      <td>Strathbogie (S)</td>\n",
       "      <td>145.23472</td>\n",
       "      <td>-36.90137</td>\n",
       "    </tr>\n",
       "    <tr>\n",
       "      <th>4</th>\n",
       "      <td>Government</td>\n",
       "      <td>1</td>\n",
       "      <td>12</td>\n",
       "      <td>Warrandyte Primary School</td>\n",
       "      <td>Primary</td>\n",
       "      <td>O</td>\n",
       "      <td>5-11 Forbes Street</td>\n",
       "      <td>NaN</td>\n",
       "      <td>Warrandyte</td>\n",
       "      <td>VIC</td>\n",
       "      <td>...</td>\n",
       "      <td>5-11 Forbes Street</td>\n",
       "      <td>NaN</td>\n",
       "      <td>WARRANDYTE</td>\n",
       "      <td>VIC</td>\n",
       "      <td>3113</td>\n",
       "      <td>03 9844 3537</td>\n",
       "      <td>421</td>\n",
       "      <td>Manningham (C)</td>\n",
       "      <td>145.21398</td>\n",
       "      <td>-37.74268</td>\n",
       "    </tr>\n",
       "    <tr>\n",
       "      <th>...</th>\n",
       "      <td>...</td>\n",
       "      <td>...</td>\n",
       "      <td>...</td>\n",
       "      <td>...</td>\n",
       "      <td>...</td>\n",
       "      <td>...</td>\n",
       "      <td>...</td>\n",
       "      <td>...</td>\n",
       "      <td>...</td>\n",
       "      <td>...</td>\n",
       "      <td>...</td>\n",
       "      <td>...</td>\n",
       "      <td>...</td>\n",
       "      <td>...</td>\n",
       "      <td>...</td>\n",
       "      <td>...</td>\n",
       "      <td>...</td>\n",
       "      <td>...</td>\n",
       "      <td>...</td>\n",
       "      <td>...</td>\n",
       "      <td>...</td>\n",
       "    </tr>\n",
       "    <tr>\n",
       "      <th>2294</th>\n",
       "      <td>Independent</td>\n",
       "      <td>2</td>\n",
       "      <td>2243</td>\n",
       "      <td>Lysterfield Lake College</td>\n",
       "      <td>Primary</td>\n",
       "      <td>O</td>\n",
       "      <td>20 ABeckett Road</td>\n",
       "      <td>NaN</td>\n",
       "      <td>NARRE WARREN NORTH</td>\n",
       "      <td>VIC</td>\n",
       "      <td>...</td>\n",
       "      <td>20 ABeckett Road</td>\n",
       "      <td>NaN</td>\n",
       "      <td>NARRE WARREN NORTH</td>\n",
       "      <td>VIC</td>\n",
       "      <td>3804</td>\n",
       "      <td>03-</td>\n",
       "      <td>161</td>\n",
       "      <td>Casey (C)</td>\n",
       "      <td>145.31604</td>\n",
       "      <td>-37.97748</td>\n",
       "    </tr>\n",
       "    <tr>\n",
       "      <th>2295</th>\n",
       "      <td>Independent</td>\n",
       "      <td>2</td>\n",
       "      <td>2244</td>\n",
       "      <td>Plenty River College</td>\n",
       "      <td>Secondary</td>\n",
       "      <td>O</td>\n",
       "      <td>Unit 5, 9 Danaher Drive</td>\n",
       "      <td>NaN</td>\n",
       "      <td>SOUTH MORANG</td>\n",
       "      <td>VIC</td>\n",
       "      <td>...</td>\n",
       "      <td>Unit 5, 9 Danaher Drive</td>\n",
       "      <td>NaN</td>\n",
       "      <td>SOUTH MORANG</td>\n",
       "      <td>VIC</td>\n",
       "      <td>3752</td>\n",
       "      <td>03 9435 9060</td>\n",
       "      <td>707</td>\n",
       "      <td>Whittlesea (C)</td>\n",
       "      <td>145.08148</td>\n",
       "      <td>-37.64875</td>\n",
       "    </tr>\n",
       "    <tr>\n",
       "      <th>2296</th>\n",
       "      <td>Catholic</td>\n",
       "      <td>2</td>\n",
       "      <td>2245</td>\n",
       "      <td>Holy Cross Catholic Primary School</td>\n",
       "      <td>Primary</td>\n",
       "      <td>O</td>\n",
       "      <td>2-14 Carlingford Rd</td>\n",
       "      <td>NaN</td>\n",
       "      <td>MICKLEHAM</td>\n",
       "      <td>VIC</td>\n",
       "      <td>...</td>\n",
       "      <td>2-14 Carlingford Rd</td>\n",
       "      <td>NaN</td>\n",
       "      <td>MICKLEHAM</td>\n",
       "      <td>VIC</td>\n",
       "      <td>3064</td>\n",
       "      <td>03 9216 4200</td>\n",
       "      <td>327</td>\n",
       "      <td>Hume (C)</td>\n",
       "      <td>144.90520</td>\n",
       "      <td>-37.53046</td>\n",
       "    </tr>\n",
       "    <tr>\n",
       "      <th>2297</th>\n",
       "      <td>Independent</td>\n",
       "      <td>2</td>\n",
       "      <td>2246</td>\n",
       "      <td>Sidrah Gardens School</td>\n",
       "      <td>Primary</td>\n",
       "      <td>O</td>\n",
       "      <td>434-442 Belgrave-Hallam Road</td>\n",
       "      <td>NaN</td>\n",
       "      <td>NARRE WARREN NORTH</td>\n",
       "      <td>VIC</td>\n",
       "      <td>...</td>\n",
       "      <td>434-442 Belgrave-Hallam Road</td>\n",
       "      <td>NaN</td>\n",
       "      <td>NARRE WARREN NORTH</td>\n",
       "      <td>VIC</td>\n",
       "      <td>3804</td>\n",
       "      <td>03-</td>\n",
       "      <td>161</td>\n",
       "      <td>Casey (C)</td>\n",
       "      <td>145.31589</td>\n",
       "      <td>-37.97324</td>\n",
       "    </tr>\n",
       "    <tr>\n",
       "      <th>2298</th>\n",
       "      <td>Independent</td>\n",
       "      <td>2</td>\n",
       "      <td>2247</td>\n",
       "      <td>Mountain District Community College</td>\n",
       "      <td>Secondary</td>\n",
       "      <td>O</td>\n",
       "      <td>13-15 The Avenue</td>\n",
       "      <td>NaN</td>\n",
       "      <td>FERNTREE GULLY</td>\n",
       "      <td>VIC</td>\n",
       "      <td>...</td>\n",
       "      <td>13-15 The Avenue</td>\n",
       "      <td>NaN</td>\n",
       "      <td>FERNTREE GULLY</td>\n",
       "      <td>VIC</td>\n",
       "      <td>3156</td>\n",
       "      <td>03 9758 7859</td>\n",
       "      <td>367</td>\n",
       "      <td>Knox (C)</td>\n",
       "      <td>145.29327</td>\n",
       "      <td>-37.88319</td>\n",
       "    </tr>\n",
       "  </tbody>\n",
       "</table>\n",
       "<p>2299 rows × 21 columns</p>\n",
       "</div>"
      ],
      "text/plain": [
       "     Education_Sector  Entity_Type  SCHOOL_NO  \\\n",
       "0          Government            1          1   \n",
       "1          Government            1          3   \n",
       "2          Government            1          4   \n",
       "3          Government            1          8   \n",
       "4          Government            1         12   \n",
       "...               ...          ...        ...   \n",
       "2294      Independent            2       2243   \n",
       "2295      Independent            2       2244   \n",
       "2296         Catholic            2       2245   \n",
       "2297      Independent            2       2246   \n",
       "2298      Independent            2       2247   \n",
       "\n",
       "                                 School_Name School_Type School_Status  \\\n",
       "0                    Alberton Primary School     Primary             O   \n",
       "1     Allansford and District Primary School     Primary             O   \n",
       "2                       Avoca Primary School     Primary             O   \n",
       "3                      Avenel Primary School     Primary             O   \n",
       "4                  Warrandyte Primary School     Primary             O   \n",
       "...                                      ...         ...           ...   \n",
       "2294                Lysterfield Lake College     Primary             O   \n",
       "2295                    Plenty River College   Secondary             O   \n",
       "2296      Holy Cross Catholic Primary School     Primary             O   \n",
       "2297                   Sidrah Gardens School     Primary             O   \n",
       "2298     Mountain District Community College   Secondary             O   \n",
       "\n",
       "                    Address_Line_1 Address_Line_2        Address_Town  \\\n",
       "0                21 Thomson Street            NaN            Alberton   \n",
       "1                     Frank Street            NaN          Allansford   \n",
       "2               118 Barnett Street            NaN               Avoca   \n",
       "3               40 Anderson Street            NaN              Avenel   \n",
       "4               5-11 Forbes Street            NaN          Warrandyte   \n",
       "...                            ...            ...                 ...   \n",
       "2294             20 ABeckett Road            NaN  NARRE WARREN NORTH   \n",
       "2295       Unit 5, 9 Danaher Drive            NaN        SOUTH MORANG   \n",
       "2296           2-14 Carlingford Rd            NaN           MICKLEHAM   \n",
       "2297  434-442 Belgrave-Hallam Road            NaN  NARRE WARREN NORTH   \n",
       "2298              13-15 The Avenue            NaN      FERNTREE GULLY   \n",
       "\n",
       "     Address_State  ...         Postal_Address_Line_1 Postal_Address_Line_2  \\\n",
       "0              VIC  ...             21 Thomson Street                   NaN   \n",
       "1              VIC  ...                  Frank Street                   NaN   \n",
       "2              VIC  ...                    P O Box 12                   NaN   \n",
       "3              VIC  ...            40 Anderson Street                   NaN   \n",
       "4              VIC  ...            5-11 Forbes Street                   NaN   \n",
       "...            ...  ...                           ...                   ...   \n",
       "2294           VIC  ...             20 ABeckett Road                   NaN   \n",
       "2295           VIC  ...       Unit 5, 9 Danaher Drive                   NaN   \n",
       "2296           VIC  ...           2-14 Carlingford Rd                   NaN   \n",
       "2297           VIC  ...  434-442 Belgrave-Hallam Road                   NaN   \n",
       "2298           VIC  ...              13-15 The Avenue                   NaN   \n",
       "\n",
       "             Postal_Town Postal_State Postal_Postcode  Full_Phone_No LGA_ID  \\\n",
       "0               ALBERTON          VIC            3971   03 5183 2412    681   \n",
       "1             ALLANSFORD          VIC            3277   03 5565 1382    673   \n",
       "2                  AVOCA          VIC            3467   03 5465 3176    599   \n",
       "3                 AVENEL          VIC            3664   03 5796 2264    643   \n",
       "4             WARRANDYTE          VIC            3113   03 9844 3537    421   \n",
       "...                  ...          ...             ...            ...    ...   \n",
       "2294  NARRE WARREN NORTH          VIC            3804            03-    161   \n",
       "2295        SOUTH MORANG          VIC            3752   03 9435 9060    707   \n",
       "2296           MICKLEHAM          VIC            3064   03 9216 4200    327   \n",
       "2297  NARRE WARREN NORTH          VIC            3804            03-    161   \n",
       "2298      FERNTREE GULLY          VIC            3156   03 9758 7859    367   \n",
       "\n",
       "             LGA_Name          X         Y  \n",
       "0      Wellington (S)  146.66660 -38.61771  \n",
       "1     Warrnambool (C)  142.59039 -38.38628  \n",
       "2        Pyrenees (S)  143.47565 -37.08450  \n",
       "3     Strathbogie (S)  145.23472 -36.90137  \n",
       "4      Manningham (C)  145.21398 -37.74268  \n",
       "...               ...        ...       ...  \n",
       "2294        Casey (C)  145.31604 -37.97748  \n",
       "2295   Whittlesea (C)  145.08148 -37.64875  \n",
       "2296         Hume (C)  144.90520 -37.53046  \n",
       "2297        Casey (C)  145.31589 -37.97324  \n",
       "2298         Knox (C)  145.29327 -37.88319  \n",
       "\n",
       "[2299 rows x 21 columns]"
      ]
     },
     "execution_count": 18,
     "metadata": {},
     "output_type": "execute_result"
    }
   ],
   "source": [
    "df_school = pd.read_csv('SchoolLocations2022.csv',encoding='latin-1')\n",
    "df_school"
   ]
  },
  {
   "cell_type": "code",
   "execution_count": 19,
   "id": "a651648b-631a-4e9d-9815-d6ea9bcd30ce",
   "metadata": {},
   "outputs": [
    {
     "data": {
      "text/plain": [
       "Primary      1577\n",
       "Secondary     353\n",
       "Pri/Sec       246\n",
       "Special       117\n",
       "Language        4\n",
       "Camp            2\n",
       "Name: School_Type, dtype: int64"
      ]
     },
     "execution_count": 19,
     "metadata": {},
     "output_type": "execute_result"
    }
   ],
   "source": [
    "df_school['School_Type'].value_counts()"
   ]
  },
  {
   "cell_type": "code",
   "execution_count": 20,
   "id": "71cb3ccd-6ca8-4ecb-8aff-c0269b40371e",
   "metadata": {},
   "outputs": [
    {
     "data": {
      "text/plain": [
       "0"
      ]
     },
     "execution_count": 20,
     "metadata": {},
     "output_type": "execute_result"
    }
   ],
   "source": [
    "df_school.duplicated().sum()"
   ]
  },
  {
   "cell_type": "code",
   "execution_count": 21,
   "id": "f9de0008-98e1-4ec7-9da4-275e4fd985bc",
   "metadata": {},
   "outputs": [
    {
     "data": {
      "text/plain": [
       "School_Type    0\n",
       "Y              1\n",
       "X              1\n",
       "dtype: int64"
      ]
     },
     "execution_count": 21,
     "metadata": {},
     "output_type": "execute_result"
    }
   ],
   "source": [
    "house_loc = df_new[['latitude', 'longitude']].astype('float64')\n",
    "sch_loc = df_school[['School_Type','Y','X']]  \n",
    "sch_loc.isnull().sum()"
   ]
  },
  {
   "cell_type": "code",
   "execution_count": 22,
   "id": "493240bc-c3e5-4885-a131-b9c69fbc6894",
   "metadata": {},
   "outputs": [],
   "source": [
    "sch_loc = sch_loc.dropna()"
   ]
  },
  {
   "cell_type": "code",
   "execution_count": 23,
   "id": "814f3307-89e2-4646-9ee0-629f70cbaab3",
   "metadata": {},
   "outputs": [
    {
     "data": {
      "text/plain": [
       "Primary      1577\n",
       "Secondary     352\n",
       "Pri/Sec       246\n",
       "Special       117\n",
       "Language        4\n",
       "Camp            2\n",
       "Name: School_Type, dtype: int64"
      ]
     },
     "execution_count": 23,
     "metadata": {},
     "output_type": "execute_result"
    }
   ],
   "source": [
    "sch_loc['School_Type'].value_counts()"
   ]
  },
  {
   "cell_type": "code",
   "execution_count": 46,
   "id": "98762881-be0e-40a4-97ec-96912984ae33",
   "metadata": {},
   "outputs": [],
   "source": [
    "pri_loc = sch_loc[(sch_loc['School_Type']=='Primary')|(sch_loc['School_Type']=='Pri/Sec')][['Y','X']]\n",
    "sec_loc = sch_loc[(sch_loc['School_Type']=='Secondary')|(sch_loc['School_Type']=='Pri/Sec')][['Y','X']]\n",
    "other_loc = sch_loc[(sch_loc['School_Type']=='Special')|(sch_loc['School_Type']=='Language')|(sch_loc['School_Type']=='Camp')][['Y','X']]"
   ]
  },
  {
   "cell_type": "code",
   "execution_count": 96,
   "id": "e0a85b08-40a6-45c4-a94c-c1ef896b12b5",
   "metadata": {},
   "outputs": [],
   "source": [
    "# pri_min_dist: minimal distance to primary school\n",
    "pri_dist = cdist(house_loc,pri_loc)\n",
    "pri_min_dist = pri_dist.min(axis=1)\n",
    "\n",
    "# sec_min_dist: minimal distance to secondary school\n",
    "sec_dist = cdist(house_loc,sec_loc)\n",
    "sec_min_dist = sec_dist.min(axis=1)\n",
    "\n",
    "# other_min_dist: minimal distance to other school: special,language,camp\n",
    "other_dist = cdist(house_loc,other_loc)\n",
    "other_min_dist = other_dist.min(axis=1)"
   ]
  },
  {
   "cell_type": "code",
   "execution_count": 97,
   "id": "8f026570-b61d-4a34-83ce-592bc7ae6fcc",
   "metadata": {},
   "outputs": [
    {
     "data": {
      "text/plain": [
       "((10428, 1823), (10428, 598), (10428, 123))"
      ]
     },
     "execution_count": 97,
     "metadata": {},
     "output_type": "execute_result"
    }
   ],
   "source": [
    "pri_dist.shape,sec_dist.shape,other_dist.shape"
   ]
  },
  {
   "cell_type": "code",
   "execution_count": 98,
   "id": "fcc698ea-0e8e-450f-9cdb-9faabe6c8309",
   "metadata": {},
   "outputs": [],
   "source": [
    "## 如何确定学校的名称。这里以pri_dist为例。确定离得最近的primary school。\n",
    "## 如果还要知道别的信息，直接在['School_Name']里面加column名称，\n",
    "## 加经纬度的column，可以知道其具体的值，['School_Name'，'Y','X']"
   ]
  },
  {
   "cell_type": "code",
   "execution_count": 118,
   "id": "7cb217eb-0af6-422b-b405-b4a0a4c9845a",
   "metadata": {},
   "outputs": [
    {
     "data": {
      "text/html": [
       "<div>\n",
       "<style scoped>\n",
       "    .dataframe tbody tr th:only-of-type {\n",
       "        vertical-align: middle;\n",
       "    }\n",
       "\n",
       "    .dataframe tbody tr th {\n",
       "        vertical-align: top;\n",
       "    }\n",
       "\n",
       "    .dataframe thead th {\n",
       "        text-align: right;\n",
       "    }\n",
       "</style>\n",
       "<table border=\"1\" class=\"dataframe\">\n",
       "  <thead>\n",
       "    <tr style=\"text-align: right;\">\n",
       "      <th></th>\n",
       "      <th>School_Name</th>\n",
       "      <th>School_Type</th>\n",
       "      <th>Y</th>\n",
       "      <th>X</th>\n",
       "    </tr>\n",
       "  </thead>\n",
       "  <tbody>\n",
       "    <tr>\n",
       "      <th>422</th>\n",
       "      <td>Carlton Gardens Primary School</td>\n",
       "      <td>Primary</td>\n",
       "      <td>-37.80205</td>\n",
       "      <td>144.96951</td>\n",
       "    </tr>\n",
       "    <tr>\n",
       "      <th>1218</th>\n",
       "      <td>Docklands Primary School</td>\n",
       "      <td>Primary</td>\n",
       "      <td>-37.81271</td>\n",
       "      <td>144.94055</td>\n",
       "    </tr>\n",
       "    <tr>\n",
       "      <th>422</th>\n",
       "      <td>Carlton Gardens Primary School</td>\n",
       "      <td>Primary</td>\n",
       "      <td>-37.80205</td>\n",
       "      <td>144.96951</td>\n",
       "    </tr>\n",
       "    <tr>\n",
       "      <th>1204</th>\n",
       "      <td>South Melbourne Primary School</td>\n",
       "      <td>Primary</td>\n",
       "      <td>-37.82935</td>\n",
       "      <td>144.95350</td>\n",
       "    </tr>\n",
       "    <tr>\n",
       "      <th>1218</th>\n",
       "      <td>Docklands Primary School</td>\n",
       "      <td>Primary</td>\n",
       "      <td>-37.81271</td>\n",
       "      <td>144.94055</td>\n",
       "    </tr>\n",
       "  </tbody>\n",
       "</table>\n",
       "</div>"
      ],
      "text/plain": [
       "                         School_Name School_Type         Y          X\n",
       "422   Carlton Gardens Primary School     Primary -37.80205  144.96951\n",
       "1218        Docklands Primary School     Primary -37.81271  144.94055\n",
       "422   Carlton Gardens Primary School     Primary -37.80205  144.96951\n",
       "1204  South Melbourne Primary School     Primary -37.82935  144.95350\n",
       "1218        Docklands Primary School     Primary -37.81271  144.94055"
      ]
     },
     "execution_count": 118,
     "metadata": {},
     "output_type": "execute_result"
    }
   ],
   "source": [
    "pri_index = pri_dist.argmin(axis=1)\n",
    "pri_school = df_school[(df_school['School_Type']=='Primary')|(df_school['School_Type']=='Pri/Sec')]\n",
    "pri_school_info = pri_school.iloc[pri_index][['School_Name','School_Type','Y','X']]\n",
    "pri_school_info.head()"
   ]
  },
  {
   "cell_type": "code",
   "execution_count": 119,
   "id": "232d87b8-49e4-438d-9931-27ed4cdbf77c",
   "metadata": {},
   "outputs": [
    {
     "data": {
      "text/html": [
       "<div>\n",
       "<style scoped>\n",
       "    .dataframe tbody tr th:only-of-type {\n",
       "        vertical-align: middle;\n",
       "    }\n",
       "\n",
       "    .dataframe tbody tr th {\n",
       "        vertical-align: top;\n",
       "    }\n",
       "\n",
       "    .dataframe thead th {\n",
       "        text-align: right;\n",
       "    }\n",
       "</style>\n",
       "<table border=\"1\" class=\"dataframe\">\n",
       "  <thead>\n",
       "    <tr style=\"text-align: right;\">\n",
       "      <th></th>\n",
       "      <th>Y</th>\n",
       "    </tr>\n",
       "  </thead>\n",
       "  <tbody>\n",
       "    <tr>\n",
       "      <th>422</th>\n",
       "      <td>-37.80205</td>\n",
       "    </tr>\n",
       "    <tr>\n",
       "      <th>1218</th>\n",
       "      <td>-37.81271</td>\n",
       "    </tr>\n",
       "    <tr>\n",
       "      <th>422</th>\n",
       "      <td>-37.80205</td>\n",
       "    </tr>\n",
       "    <tr>\n",
       "      <th>1204</th>\n",
       "      <td>-37.82935</td>\n",
       "    </tr>\n",
       "    <tr>\n",
       "      <th>1218</th>\n",
       "      <td>-37.81271</td>\n",
       "    </tr>\n",
       "  </tbody>\n",
       "</table>\n",
       "</div>"
      ],
      "text/plain": [
       "             Y\n",
       "422  -37.80205\n",
       "1218 -37.81271\n",
       "422  -37.80205\n",
       "1204 -37.82935\n",
       "1218 -37.81271"
      ]
     },
     "execution_count": 119,
     "metadata": {},
     "output_type": "execute_result"
    }
   ],
   "source": [
    "pri_school_latitude = pri_school.iloc[pri_index][['Y']]\n",
    "pri_school_latitude.head()"
   ]
  },
  {
   "cell_type": "code",
   "execution_count": 120,
   "id": "2e0e3e0e-f48d-4615-a71a-205d4cdb774b",
   "metadata": {},
   "outputs": [
    {
     "data": {
      "text/html": [
       "<div>\n",
       "<style scoped>\n",
       "    .dataframe tbody tr th:only-of-type {\n",
       "        vertical-align: middle;\n",
       "    }\n",
       "\n",
       "    .dataframe tbody tr th {\n",
       "        vertical-align: top;\n",
       "    }\n",
       "\n",
       "    .dataframe thead th {\n",
       "        text-align: right;\n",
       "    }\n",
       "</style>\n",
       "<table border=\"1\" class=\"dataframe\">\n",
       "  <thead>\n",
       "    <tr style=\"text-align: right;\">\n",
       "      <th></th>\n",
       "      <th>X</th>\n",
       "    </tr>\n",
       "  </thead>\n",
       "  <tbody>\n",
       "    <tr>\n",
       "      <th>422</th>\n",
       "      <td>144.96951</td>\n",
       "    </tr>\n",
       "    <tr>\n",
       "      <th>1218</th>\n",
       "      <td>144.94055</td>\n",
       "    </tr>\n",
       "    <tr>\n",
       "      <th>422</th>\n",
       "      <td>144.96951</td>\n",
       "    </tr>\n",
       "    <tr>\n",
       "      <th>1204</th>\n",
       "      <td>144.95350</td>\n",
       "    </tr>\n",
       "    <tr>\n",
       "      <th>1218</th>\n",
       "      <td>144.94055</td>\n",
       "    </tr>\n",
       "  </tbody>\n",
       "</table>\n",
       "</div>"
      ],
      "text/plain": [
       "              X\n",
       "422   144.96951\n",
       "1218  144.94055\n",
       "422   144.96951\n",
       "1204  144.95350\n",
       "1218  144.94055"
      ]
     },
     "execution_count": 120,
     "metadata": {},
     "output_type": "execute_result"
    }
   ],
   "source": [
    "pri_school_longitude = pri_school.iloc[pri_index][['X']]\n",
    "pri_school_longitude.head()"
   ]
  },
  {
   "cell_type": "code",
   "execution_count": 121,
   "id": "d35df41c-da08-4b72-af8c-d1fcd717fcc0",
   "metadata": {},
   "outputs": [
    {
     "data": {
      "text/html": [
       "<div>\n",
       "<style scoped>\n",
       "    .dataframe tbody tr th:only-of-type {\n",
       "        vertical-align: middle;\n",
       "    }\n",
       "\n",
       "    .dataframe tbody tr th {\n",
       "        vertical-align: top;\n",
       "    }\n",
       "\n",
       "    .dataframe thead th {\n",
       "        text-align: right;\n",
       "    }\n",
       "</style>\n",
       "<table border=\"1\" class=\"dataframe\">\n",
       "  <thead>\n",
       "    <tr style=\"text-align: right;\">\n",
       "      <th></th>\n",
       "      <th>School_Name</th>\n",
       "      <th>School_Type</th>\n",
       "      <th>Y</th>\n",
       "      <th>X</th>\n",
       "    </tr>\n",
       "  </thead>\n",
       "  <tbody>\n",
       "    <tr>\n",
       "      <th>2177</th>\n",
       "      <td>Mt Hira College</td>\n",
       "      <td>Pri/Sec</td>\n",
       "      <td>-38.01399</td>\n",
       "      <td>145.17547</td>\n",
       "    </tr>\n",
       "    <tr>\n",
       "      <th>2188</th>\n",
       "      <td>Antonine College</td>\n",
       "      <td>Pri/Sec</td>\n",
       "      <td>-37.74119</td>\n",
       "      <td>144.94274</td>\n",
       "    </tr>\n",
       "    <tr>\n",
       "      <th>2177</th>\n",
       "      <td>Mt Hira College</td>\n",
       "      <td>Pri/Sec</td>\n",
       "      <td>-38.01399</td>\n",
       "      <td>145.17547</td>\n",
       "    </tr>\n",
       "    <tr>\n",
       "      <th>2188</th>\n",
       "      <td>Antonine College</td>\n",
       "      <td>Pri/Sec</td>\n",
       "      <td>-37.74119</td>\n",
       "      <td>144.94274</td>\n",
       "    </tr>\n",
       "    <tr>\n",
       "      <th>2188</th>\n",
       "      <td>Antonine College</td>\n",
       "      <td>Pri/Sec</td>\n",
       "      <td>-37.74119</td>\n",
       "      <td>144.94274</td>\n",
       "    </tr>\n",
       "  </tbody>\n",
       "</table>\n",
       "</div>"
      ],
      "text/plain": [
       "           School_Name School_Type         Y          X\n",
       "2177   Mt Hira College     Pri/Sec -38.01399  145.17547\n",
       "2188  Antonine College     Pri/Sec -37.74119  144.94274\n",
       "2177   Mt Hira College     Pri/Sec -38.01399  145.17547\n",
       "2188  Antonine College     Pri/Sec -37.74119  144.94274\n",
       "2188  Antonine College     Pri/Sec -37.74119  144.94274"
      ]
     },
     "execution_count": 121,
     "metadata": {},
     "output_type": "execute_result"
    }
   ],
   "source": [
    "sec_index = sec_dist.argmin(axis=1)\n",
    "sec_school = df_school[(df_school['School_Type']=='Secondary')|(df_school['School_Type']=='Pri/Sec')]\n",
    "sec_school_info = sec_school.iloc[sec_index][['School_Name','School_Type','Y','X']]\n",
    "sec_school_info.head()"
   ]
  },
  {
   "cell_type": "code",
   "execution_count": 124,
   "id": "59dc3b15-4103-4063-bedc-af949cad8c25",
   "metadata": {},
   "outputs": [
    {
     "data": {
      "text/html": [
       "<div>\n",
       "<style scoped>\n",
       "    .dataframe tbody tr th:only-of-type {\n",
       "        vertical-align: middle;\n",
       "    }\n",
       "\n",
       "    .dataframe tbody tr th {\n",
       "        vertical-align: top;\n",
       "    }\n",
       "\n",
       "    .dataframe thead th {\n",
       "        text-align: right;\n",
       "    }\n",
       "</style>\n",
       "<table border=\"1\" class=\"dataframe\">\n",
       "  <thead>\n",
       "    <tr style=\"text-align: right;\">\n",
       "      <th></th>\n",
       "      <th>Y</th>\n",
       "    </tr>\n",
       "  </thead>\n",
       "  <tbody>\n",
       "    <tr>\n",
       "      <th>2177</th>\n",
       "      <td>-38.01399</td>\n",
       "    </tr>\n",
       "    <tr>\n",
       "      <th>2188</th>\n",
       "      <td>-37.74119</td>\n",
       "    </tr>\n",
       "    <tr>\n",
       "      <th>2177</th>\n",
       "      <td>-38.01399</td>\n",
       "    </tr>\n",
       "    <tr>\n",
       "      <th>2188</th>\n",
       "      <td>-37.74119</td>\n",
       "    </tr>\n",
       "    <tr>\n",
       "      <th>2188</th>\n",
       "      <td>-37.74119</td>\n",
       "    </tr>\n",
       "  </tbody>\n",
       "</table>\n",
       "</div>"
      ],
      "text/plain": [
       "             Y\n",
       "2177 -38.01399\n",
       "2188 -37.74119\n",
       "2177 -38.01399\n",
       "2188 -37.74119\n",
       "2188 -37.74119"
      ]
     },
     "execution_count": 124,
     "metadata": {},
     "output_type": "execute_result"
    }
   ],
   "source": [
    "sec_school_latitude = sec_school.iloc[sec_index][['Y']]\n",
    "sec_school_latitude.head()"
   ]
  },
  {
   "cell_type": "code",
   "execution_count": 125,
   "id": "3399d921-4137-438c-a4d8-311ebeea899e",
   "metadata": {},
   "outputs": [
    {
     "data": {
      "text/html": [
       "<div>\n",
       "<style scoped>\n",
       "    .dataframe tbody tr th:only-of-type {\n",
       "        vertical-align: middle;\n",
       "    }\n",
       "\n",
       "    .dataframe tbody tr th {\n",
       "        vertical-align: top;\n",
       "    }\n",
       "\n",
       "    .dataframe thead th {\n",
       "        text-align: right;\n",
       "    }\n",
       "</style>\n",
       "<table border=\"1\" class=\"dataframe\">\n",
       "  <thead>\n",
       "    <tr style=\"text-align: right;\">\n",
       "      <th></th>\n",
       "      <th>X</th>\n",
       "    </tr>\n",
       "  </thead>\n",
       "  <tbody>\n",
       "    <tr>\n",
       "      <th>2177</th>\n",
       "      <td>145.17547</td>\n",
       "    </tr>\n",
       "    <tr>\n",
       "      <th>2188</th>\n",
       "      <td>144.94274</td>\n",
       "    </tr>\n",
       "    <tr>\n",
       "      <th>2177</th>\n",
       "      <td>145.17547</td>\n",
       "    </tr>\n",
       "    <tr>\n",
       "      <th>2188</th>\n",
       "      <td>144.94274</td>\n",
       "    </tr>\n",
       "    <tr>\n",
       "      <th>2188</th>\n",
       "      <td>144.94274</td>\n",
       "    </tr>\n",
       "  </tbody>\n",
       "</table>\n",
       "</div>"
      ],
      "text/plain": [
       "              X\n",
       "2177  145.17547\n",
       "2188  144.94274\n",
       "2177  145.17547\n",
       "2188  144.94274\n",
       "2188  144.94274"
      ]
     },
     "execution_count": 125,
     "metadata": {},
     "output_type": "execute_result"
    }
   ],
   "source": [
    "sec_school_longitude = sec_school.iloc[sec_index][['X']]\n",
    "sec_school_longitude.head()"
   ]
  },
  {
   "cell_type": "code",
   "execution_count": 126,
   "id": "c992196c-c759-4886-98ea-c8c711f35645",
   "metadata": {},
   "outputs": [
    {
     "data": {
      "text/html": [
       "<div>\n",
       "<style scoped>\n",
       "    .dataframe tbody tr th:only-of-type {\n",
       "        vertical-align: middle;\n",
       "    }\n",
       "\n",
       "    .dataframe tbody tr th {\n",
       "        vertical-align: top;\n",
       "    }\n",
       "\n",
       "    .dataframe thead th {\n",
       "        text-align: right;\n",
       "    }\n",
       "</style>\n",
       "<table border=\"1\" class=\"dataframe\">\n",
       "  <thead>\n",
       "    <tr style=\"text-align: right;\">\n",
       "      <th></th>\n",
       "      <th>School_Name</th>\n",
       "      <th>School_Type</th>\n",
       "      <th>Y</th>\n",
       "      <th>X</th>\n",
       "    </tr>\n",
       "  </thead>\n",
       "  <tbody>\n",
       "    <tr>\n",
       "      <th>2263</th>\n",
       "      <td>River Nile School</td>\n",
       "      <td>Special</td>\n",
       "      <td>-37.80519</td>\n",
       "      <td>144.95509</td>\n",
       "    </tr>\n",
       "    <tr>\n",
       "      <th>2265</th>\n",
       "      <td>Hester Hornbrook Academy</td>\n",
       "      <td>Special</td>\n",
       "      <td>-37.81654</td>\n",
       "      <td>144.95615</td>\n",
       "    </tr>\n",
       "    <tr>\n",
       "      <th>2263</th>\n",
       "      <td>River Nile School</td>\n",
       "      <td>Special</td>\n",
       "      <td>-37.80519</td>\n",
       "      <td>144.95509</td>\n",
       "    </tr>\n",
       "    <tr>\n",
       "      <th>2265</th>\n",
       "      <td>Hester Hornbrook Academy</td>\n",
       "      <td>Special</td>\n",
       "      <td>-37.81654</td>\n",
       "      <td>144.95615</td>\n",
       "    </tr>\n",
       "    <tr>\n",
       "      <th>2265</th>\n",
       "      <td>Hester Hornbrook Academy</td>\n",
       "      <td>Special</td>\n",
       "      <td>-37.81654</td>\n",
       "      <td>144.95615</td>\n",
       "    </tr>\n",
       "  </tbody>\n",
       "</table>\n",
       "</div>"
      ],
      "text/plain": [
       "                   School_Name School_Type         Y          X\n",
       "2263         River Nile School     Special -37.80519  144.95509\n",
       "2265  Hester Hornbrook Academy     Special -37.81654  144.95615\n",
       "2263         River Nile School     Special -37.80519  144.95509\n",
       "2265  Hester Hornbrook Academy     Special -37.81654  144.95615\n",
       "2265  Hester Hornbrook Academy     Special -37.81654  144.95615"
      ]
     },
     "execution_count": 126,
     "metadata": {},
     "output_type": "execute_result"
    }
   ],
   "source": [
    "other_index = other_dist.argmin(axis=1)\n",
    "other_school = df_school[(df_school['School_Type']=='Special')|(df_school['School_Type']=='Language')|(df_school['School_Type']=='Camp')]\n",
    "other_school_info = other_school.iloc[other_index][['School_Name','School_Type','Y','X']]\n",
    "other_school_info.head()"
   ]
  },
  {
   "cell_type": "code",
   "execution_count": 127,
   "id": "341fa761-2aae-4d80-906b-3e8eb320282d",
   "metadata": {},
   "outputs": [
    {
     "data": {
      "text/html": [
       "<div>\n",
       "<style scoped>\n",
       "    .dataframe tbody tr th:only-of-type {\n",
       "        vertical-align: middle;\n",
       "    }\n",
       "\n",
       "    .dataframe tbody tr th {\n",
       "        vertical-align: top;\n",
       "    }\n",
       "\n",
       "    .dataframe thead th {\n",
       "        text-align: right;\n",
       "    }\n",
       "</style>\n",
       "<table border=\"1\" class=\"dataframe\">\n",
       "  <thead>\n",
       "    <tr style=\"text-align: right;\">\n",
       "      <th></th>\n",
       "      <th>Y</th>\n",
       "    </tr>\n",
       "  </thead>\n",
       "  <tbody>\n",
       "    <tr>\n",
       "      <th>2263</th>\n",
       "      <td>-37.80519</td>\n",
       "    </tr>\n",
       "    <tr>\n",
       "      <th>2265</th>\n",
       "      <td>-37.81654</td>\n",
       "    </tr>\n",
       "    <tr>\n",
       "      <th>2263</th>\n",
       "      <td>-37.80519</td>\n",
       "    </tr>\n",
       "    <tr>\n",
       "      <th>2265</th>\n",
       "      <td>-37.81654</td>\n",
       "    </tr>\n",
       "    <tr>\n",
       "      <th>2265</th>\n",
       "      <td>-37.81654</td>\n",
       "    </tr>\n",
       "  </tbody>\n",
       "</table>\n",
       "</div>"
      ],
      "text/plain": [
       "             Y\n",
       "2263 -37.80519\n",
       "2265 -37.81654\n",
       "2263 -37.80519\n",
       "2265 -37.81654\n",
       "2265 -37.81654"
      ]
     },
     "execution_count": 127,
     "metadata": {},
     "output_type": "execute_result"
    }
   ],
   "source": [
    "other_school_latitude = other_school.iloc[other_index][['Y']]\n",
    "other_school_latitude.head()"
   ]
  },
  {
   "cell_type": "code",
   "execution_count": 128,
   "id": "0a505988-cba1-43c6-a243-1ce4f7063524",
   "metadata": {},
   "outputs": [
    {
     "data": {
      "text/html": [
       "<div>\n",
       "<style scoped>\n",
       "    .dataframe tbody tr th:only-of-type {\n",
       "        vertical-align: middle;\n",
       "    }\n",
       "\n",
       "    .dataframe tbody tr th {\n",
       "        vertical-align: top;\n",
       "    }\n",
       "\n",
       "    .dataframe thead th {\n",
       "        text-align: right;\n",
       "    }\n",
       "</style>\n",
       "<table border=\"1\" class=\"dataframe\">\n",
       "  <thead>\n",
       "    <tr style=\"text-align: right;\">\n",
       "      <th></th>\n",
       "      <th>X</th>\n",
       "    </tr>\n",
       "  </thead>\n",
       "  <tbody>\n",
       "    <tr>\n",
       "      <th>2263</th>\n",
       "      <td>144.95509</td>\n",
       "    </tr>\n",
       "    <tr>\n",
       "      <th>2265</th>\n",
       "      <td>144.95615</td>\n",
       "    </tr>\n",
       "    <tr>\n",
       "      <th>2263</th>\n",
       "      <td>144.95509</td>\n",
       "    </tr>\n",
       "    <tr>\n",
       "      <th>2265</th>\n",
       "      <td>144.95615</td>\n",
       "    </tr>\n",
       "    <tr>\n",
       "      <th>2265</th>\n",
       "      <td>144.95615</td>\n",
       "    </tr>\n",
       "  </tbody>\n",
       "</table>\n",
       "</div>"
      ],
      "text/plain": [
       "              X\n",
       "2263  144.95509\n",
       "2265  144.95615\n",
       "2263  144.95509\n",
       "2265  144.95615\n",
       "2265  144.95615"
      ]
     },
     "execution_count": 128,
     "metadata": {},
     "output_type": "execute_result"
    }
   ],
   "source": [
    "other_school_longitude = other_school.iloc[other_index][['X']]\n",
    "other_school_longitude.head()"
   ]
  },
  {
   "cell_type": "code",
   "execution_count": 24,
   "id": "1e834a9e-69a4-4d1f-8524-dfe58818ac8e",
   "metadata": {},
   "outputs": [
    {
     "data": {
      "text/plain": [
       "count    10478.000000\n",
       "mean         0.006918\n",
       "std          0.025765\n",
       "min          0.000247\n",
       "25%          0.003806\n",
       "50%          0.005951\n",
       "75%          0.008593\n",
       "max          2.604375\n",
       "dtype: float64"
      ]
     },
     "execution_count": 24,
     "metadata": {},
     "output_type": "execute_result"
    }
   ],
   "source": [
    "pd.Series(pri_min_dist).describe()"
   ]
  },
  {
   "cell_type": "code",
   "execution_count": 25,
   "id": "368b99da-5537-43b2-84e1-0a71975c7408",
   "metadata": {},
   "outputs": [
    {
     "data": {
      "text/plain": [
       "count    10478.000000\n",
       "mean         0.010408\n",
       "std          0.026611\n",
       "min          0.000285\n",
       "25%          0.005304\n",
       "50%          0.008351\n",
       "75%          0.012804\n",
       "max          2.604375\n",
       "dtype: float64"
      ]
     },
     "execution_count": 25,
     "metadata": {},
     "output_type": "execute_result"
    }
   ],
   "source": [
    "pd.Series(sec_min_dist).describe()"
   ]
  },
  {
   "cell_type": "code",
   "execution_count": 26,
   "id": "64862429-a467-4ee7-b329-b524bbeb79df",
   "metadata": {},
   "outputs": [
    {
     "data": {
      "text/plain": [
       "count    10478.000000\n",
       "mean         0.022753\n",
       "std          0.040748\n",
       "min          0.000479\n",
       "25%          0.009913\n",
       "50%          0.017205\n",
       "75%          0.026812\n",
       "max          3.621274\n",
       "dtype: float64"
      ]
     },
     "execution_count": 26,
     "metadata": {},
     "output_type": "execute_result"
    }
   ],
   "source": [
    "pd.Series(other_min_dist).describe()"
   ]
  },
  {
   "cell_type": "code",
   "execution_count": 150,
   "id": "cd41cfb9-3f9d-4ff5-b30c-acf85c90d240",
   "metadata": {},
   "outputs": [
    {
     "data": {
      "text/html": [
       "<div>\n",
       "<style scoped>\n",
       "    .dataframe tbody tr th:only-of-type {\n",
       "        vertical-align: middle;\n",
       "    }\n",
       "\n",
       "    .dataframe tbody tr th {\n",
       "        vertical-align: top;\n",
       "    }\n",
       "\n",
       "    .dataframe thead th {\n",
       "        text-align: right;\n",
       "    }\n",
       "</style>\n",
       "<table border=\"1\" class=\"dataframe\">\n",
       "  <thead>\n",
       "    <tr style=\"text-align: right;\">\n",
       "      <th></th>\n",
       "      <th>id</th>\n",
       "      <th>address</th>\n",
       "      <th>suburb</th>\n",
       "      <th>postcode</th>\n",
       "      <th>price</th>\n",
       "      <th>propertyType</th>\n",
       "      <th>bedrooms</th>\n",
       "      <th>bathrooms</th>\n",
       "      <th>parkingSpaces</th>\n",
       "      <th>studies</th>\n",
       "      <th>furnished</th>\n",
       "      <th>latitude</th>\n",
       "      <th>longitude</th>\n",
       "      <th>min_pri_latitude</th>\n",
       "      <th>min_pri_longitude</th>\n",
       "      <th>min_sec_latitude</th>\n",
       "      <th>min_sec_longitude</th>\n",
       "      <th>min_other_latitude</th>\n",
       "      <th>min_other_longitude</th>\n",
       "    </tr>\n",
       "  </thead>\n",
       "  <tbody>\n",
       "    <tr>\n",
       "      <th>0</th>\n",
       "      <td>435045151</td>\n",
       "      <td>2109/33 MacKenzie St</td>\n",
       "      <td>Melbourne</td>\n",
       "      <td>3000</td>\n",
       "      <td>560</td>\n",
       "      <td>Apartment</td>\n",
       "      <td>2</td>\n",
       "      <td>1</td>\n",
       "      <td>0</td>\n",
       "      <td>0</td>\n",
       "      <td>N</td>\n",
       "      <td>-37.80768181</td>\n",
       "      <td>144.96683064</td>\n",
       "      <td>-37.80205</td>\n",
       "      <td>144.96951</td>\n",
       "      <td>-38.01399</td>\n",
       "      <td>145.17547</td>\n",
       "      <td>-37.80519</td>\n",
       "      <td>144.95509</td>\n",
       "    </tr>\n",
       "    <tr>\n",
       "      <th>1</th>\n",
       "      <td>435045047</td>\n",
       "      <td>2108/11 Rose Lane</td>\n",
       "      <td>Melbourne</td>\n",
       "      <td>3000</td>\n",
       "      <td>580</td>\n",
       "      <td>Apartment</td>\n",
       "      <td>2</td>\n",
       "      <td>1</td>\n",
       "      <td>0</td>\n",
       "      <td>0</td>\n",
       "      <td>Y</td>\n",
       "      <td>-37.81545214</td>\n",
       "      <td>144.95408105</td>\n",
       "      <td>-37.81271</td>\n",
       "      <td>144.94055</td>\n",
       "      <td>-37.74119</td>\n",
       "      <td>144.94274</td>\n",
       "      <td>-37.81654</td>\n",
       "      <td>144.95615</td>\n",
       "    </tr>\n",
       "    <tr>\n",
       "      <th>2</th>\n",
       "      <td>435144851</td>\n",
       "      <td>3210/9-23 Mackenzie Street</td>\n",
       "      <td>Melbourne</td>\n",
       "      <td>3000</td>\n",
       "      <td>450</td>\n",
       "      <td>Apartment</td>\n",
       "      <td>1</td>\n",
       "      <td>1</td>\n",
       "      <td>0</td>\n",
       "      <td>0</td>\n",
       "      <td>N</td>\n",
       "      <td>-37.80753655</td>\n",
       "      <td>144.96732789</td>\n",
       "      <td>-37.80205</td>\n",
       "      <td>144.96951</td>\n",
       "      <td>-38.01399</td>\n",
       "      <td>145.17547</td>\n",
       "      <td>-37.80519</td>\n",
       "      <td>144.95509</td>\n",
       "    </tr>\n",
       "    <tr>\n",
       "      <th>3</th>\n",
       "      <td>435144711</td>\n",
       "      <td>300/668 Bourke Street</td>\n",
       "      <td>Melbourne</td>\n",
       "      <td>3000</td>\n",
       "      <td>550</td>\n",
       "      <td>Apartment</td>\n",
       "      <td>2</td>\n",
       "      <td>2</td>\n",
       "      <td>1</td>\n",
       "      <td>0</td>\n",
       "      <td>N</td>\n",
       "      <td>-37.8166019</td>\n",
       "      <td>144.95420038</td>\n",
       "      <td>-37.82935</td>\n",
       "      <td>144.95350</td>\n",
       "      <td>-37.74119</td>\n",
       "      <td>144.94274</td>\n",
       "      <td>-37.81654</td>\n",
       "      <td>144.95615</td>\n",
       "    </tr>\n",
       "    <tr>\n",
       "      <th>4</th>\n",
       "      <td>435044255</td>\n",
       "      <td>2108/11 Rose Lane</td>\n",
       "      <td>Melbourne</td>\n",
       "      <td>3000</td>\n",
       "      <td>600</td>\n",
       "      <td>Apartment</td>\n",
       "      <td>2</td>\n",
       "      <td>1</td>\n",
       "      <td>0</td>\n",
       "      <td>0</td>\n",
       "      <td>Y</td>\n",
       "      <td>-37.81545214</td>\n",
       "      <td>144.95408105</td>\n",
       "      <td>-37.81271</td>\n",
       "      <td>144.94055</td>\n",
       "      <td>-37.74119</td>\n",
       "      <td>144.94274</td>\n",
       "      <td>-37.81654</td>\n",
       "      <td>144.95615</td>\n",
       "    </tr>\n",
       "  </tbody>\n",
       "</table>\n",
       "</div>"
      ],
      "text/plain": [
       "          id                     address     suburb  postcode  price  \\\n",
       "0  435045151        2109/33 MacKenzie St  Melbourne      3000    560   \n",
       "1  435045047           2108/11 Rose Lane  Melbourne      3000    580   \n",
       "2  435144851  3210/9-23 Mackenzie Street  Melbourne      3000    450   \n",
       "3  435144711       300/668 Bourke Street  Melbourne      3000    550   \n",
       "4  435044255           2108/11 Rose Lane  Melbourne      3000    600   \n",
       "\n",
       "  propertyType  bedrooms  bathrooms  parkingSpaces  studies furnished  \\\n",
       "0    Apartment         2          1              0        0         N   \n",
       "1    Apartment         2          1              0        0         Y   \n",
       "2    Apartment         1          1              0        0         N   \n",
       "3    Apartment         2          2              1        0         N   \n",
       "4    Apartment         2          1              0        0         Y   \n",
       "\n",
       "       latitude     longitude  min_pri_latitude  min_pri_longitude  \\\n",
       "0  -37.80768181  144.96683064         -37.80205          144.96951   \n",
       "1  -37.81545214  144.95408105         -37.81271          144.94055   \n",
       "2  -37.80753655  144.96732789         -37.80205          144.96951   \n",
       "3   -37.8166019  144.95420038         -37.82935          144.95350   \n",
       "4  -37.81545214  144.95408105         -37.81271          144.94055   \n",
       "\n",
       "   min_sec_latitude  min_sec_longitude  min_other_latitude  \\\n",
       "0         -38.01399          145.17547           -37.80519   \n",
       "1         -37.74119          144.94274           -37.81654   \n",
       "2         -38.01399          145.17547           -37.80519   \n",
       "3         -37.74119          144.94274           -37.81654   \n",
       "4         -37.74119          144.94274           -37.81654   \n",
       "\n",
       "   min_other_longitude  \n",
       "0            144.95509  \n",
       "1            144.95615  \n",
       "2            144.95509  \n",
       "3            144.95615  \n",
       "4            144.95615  "
      ]
     },
     "execution_count": 150,
     "metadata": {},
     "output_type": "execute_result"
    }
   ],
   "source": [
    "df_new['min_pri_latitude'] = pri_school_latitude.values\n",
    "df_new['min_pri_longitude'] = pri_school_longitude.values\n",
    "df_new['min_sec_latitude'] = sec_school_latitude.values\n",
    "df_new['min_sec_longitude'] = sec_school_longitude.values\n",
    "df_new['min_other_latitude'] = other_school_latitude.values\n",
    "df_new['min_other_longitude'] = other_school_longitude.values\n",
    "df_new.head()"
   ]
  },
  {
   "cell_type": "code",
   "execution_count": 153,
   "id": "e1cea355-4985-4f85-b192-dbfe60dba01a",
   "metadata": {},
   "outputs": [],
   "source": [
    "df_new.to_csv('realestate_school_coord.csv')"
   ]
  },
  {
   "cell_type": "code",
   "execution_count": null,
   "id": "1980a97d-c219-4582-869f-9a003056ea34",
   "metadata": {},
   "outputs": [],
   "source": []
  }
 ],
 "metadata": {
  "kernelspec": {
   "display_name": "Python 3 (ipykernel)",
   "language": "python",
   "name": "python3"
  },
  "language_info": {
   "codemirror_mode": {
    "name": "ipython",
    "version": 3
   },
   "file_extension": ".py",
   "mimetype": "text/x-python",
   "name": "python",
   "nbconvert_exporter": "python",
   "pygments_lexer": "ipython3",
   "version": "3.9.7"
  }
 },
 "nbformat": 4,
 "nbformat_minor": 5
}
