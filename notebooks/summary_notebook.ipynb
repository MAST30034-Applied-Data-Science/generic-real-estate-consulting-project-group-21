{
 "cells": [
  {
   "cell_type": "markdown",
   "metadata": {},
   "source": [
    "Q1: What are the most important internal and external features in predicting rental prices?\n",
    "\n",
    "Features: 'is_secondary_school_walkable', 'is_primary_school_walkable',\n",
    "'city', 'furnished','propertyType', 'bedrooms', 'bathrooms',\n",
    "'parkingSpaces', 'studies','closest_primary_distance',\n",
    "'closest_secondary_distance', 'closest_train_distance',\n",
    "'closest_tram_distance', 'cbd_distance', 'cbd_duration',\n",
    "'zlogCrimerate', 'closest_bus_distance', 'closest_park_distance',\n",
    "'min_pri_icsea', 'min_sec_icsea', 'log_closest_park_distance',\n",
    "'log_closest_tram_distance', 'log_closest_train_distance'\n",
    "\n",
    "Model: regression tree\n",
    "\n",
    "Result: Most important internal feature is Property type, most important external feature is school ICSEA\n",
    "\n"
   ]
  },
  {
   "cell_type": "markdown",
   "metadata": {},
   "source": [
    "Q2: What are the top 10 suburbs with the highest predicted growth rate?\n",
    "\n",
    "Assumption: Each suburb has a fundamental value, relative changes in population and income drive prices\n",
    "\n",
    "Features: suburb, income change rate, population change rate\n",
    "\n",
    "Model: Ordinary least squares\n",
    "\n",
    "Result: Roxburgh Park, Craigieburn, Carlton, Hoppers Crossing, West Melbourne, North Melbourne, Collingwood, Parkville, Clayton and Melbourne are the top 10 suburbs with highest growth rate\n"
   ]
  },
  {
   "cell_type": "markdown",
   "metadata": {},
   "source": [
    "Q3: What are the most liveable and affordable suburbs according to your chosen metrics?\n",
    "\n",
    "Preprocessing: we select suburbs with more than 10 properties. Target audience is young family, so we filter bedroom number bigger than 2, smaller than 4.\n",
    "\n",
    "Metrics:\\\n",
    "Affordable index：rental price per bedroom.\\\n",
    "Livability index: park walkability, school walkability, public transport walkability, crime number and school icsea, all with equal weights = 1.\n",
    "\n",
    "Result: Albert Park, Carlton North, Fitzroy North, Hawthorn and Canterbury are the top 5 liveable suburbs. Mambourin，Manor Lakes，Thornhill Park， Wyndham Vale and Rockbank are the top 5 affordable suburbs."
   ]
  }
 ],
 "metadata": {
  "kernelspec": {
   "display_name": "Python 3.8.10 64-bit",
   "language": "python",
   "name": "python3"
  },
  "language_info": {
   "codemirror_mode": {
    "name": "ipython",
    "version": 3
   },
   "file_extension": ".py",
   "mimetype": "text/x-python",
   "name": "python",
   "nbconvert_exporter": "python",
   "pygments_lexer": "ipython3",
   "version": "3.8.10"
  },
  "orig_nbformat": 4,
  "vscode": {
   "interpreter": {
    "hash": "916dbcbb3f70747c44a77c7bcd40155683ae19c65e1c03b4aa3499c5328201f1"
   }
  }
 },
 "nbformat": 4,
 "nbformat_minor": 2
}
