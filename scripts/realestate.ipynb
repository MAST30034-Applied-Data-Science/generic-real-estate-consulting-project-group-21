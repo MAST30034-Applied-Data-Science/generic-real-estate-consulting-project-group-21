{
 "cells": [
  {
   "cell_type": "markdown",
   "id": "909fcd4d-10d4-43ea-b1db-6fdcda3c6c61",
   "metadata": {},
   "source": [
    "1.只有周租金，只留数字\n",
    "2.有周租金、月租金，只取周租金"
   ]
  },
  {
   "cell_type": "code",
   "execution_count": 33,
   "id": "2f2fca9c-d8fc-4765-857e-baad9727a1b8",
   "metadata": {},
   "outputs": [],
   "source": [
    "import numpy as np\n",
    "import pandas as pd\n",
    "import re"
   ]
  },
  {
   "cell_type": "code",
   "execution_count": 34,
   "id": "78cf0672-6dba-40c6-b032-43e37eb09332",
   "metadata": {},
   "outputs": [],
   "source": [
    "df = pd.read_csv('realestate.csv')"
   ]
  },
  {
   "cell_type": "code",
   "execution_count": 35,
   "id": "f85e457b-014c-408b-8e08-1f20616ab11e",
   "metadata": {},
   "outputs": [
    {
     "data": {
      "text/html": [
       "<div>\n",
       "<style scoped>\n",
       "    .dataframe tbody tr th:only-of-type {\n",
       "        vertical-align: middle;\n",
       "    }\n",
       "\n",
       "    .dataframe tbody tr th {\n",
       "        vertical-align: top;\n",
       "    }\n",
       "\n",
       "    .dataframe thead th {\n",
       "        text-align: right;\n",
       "    }\n",
       "</style>\n",
       "<table border=\"1\" class=\"dataframe\">\n",
       "  <thead>\n",
       "    <tr style=\"text-align: right;\">\n",
       "      <th></th>\n",
       "      <th>id</th>\n",
       "      <th>address</th>\n",
       "      <th>suburb</th>\n",
       "      <th>postcode</th>\n",
       "      <th>price</th>\n",
       "      <th>propertyType</th>\n",
       "      <th>bedrooms</th>\n",
       "      <th>bathrooms</th>\n",
       "      <th>parkingSpaces</th>\n",
       "      <th>studies</th>\n",
       "      <th>furnished</th>\n",
       "      <th>latitude</th>\n",
       "      <th>longitude</th>\n",
       "    </tr>\n",
       "  </thead>\n",
       "  <tbody>\n",
       "    <tr>\n",
       "      <th>0</th>\n",
       "      <td>435045151</td>\n",
       "      <td>2109/33 MacKenzie St</td>\n",
       "      <td>Melbourne</td>\n",
       "      <td>3000</td>\n",
       "      <td>$560 per week</td>\n",
       "      <td>Apartment</td>\n",
       "      <td>2</td>\n",
       "      <td>1</td>\n",
       "      <td>0</td>\n",
       "      <td>0</td>\n",
       "      <td>N</td>\n",
       "      <td>-37.80768181</td>\n",
       "      <td>144.96683064</td>\n",
       "    </tr>\n",
       "    <tr>\n",
       "      <th>1</th>\n",
       "      <td>435045047</td>\n",
       "      <td>2108/11 Rose Lane</td>\n",
       "      <td>Melbourne</td>\n",
       "      <td>3000</td>\n",
       "      <td>$580 per week</td>\n",
       "      <td>Apartment</td>\n",
       "      <td>2</td>\n",
       "      <td>1</td>\n",
       "      <td>0</td>\n",
       "      <td>0</td>\n",
       "      <td>Y</td>\n",
       "      <td>-37.81545214</td>\n",
       "      <td>144.95408105</td>\n",
       "    </tr>\n",
       "    <tr>\n",
       "      <th>2</th>\n",
       "      <td>435144851</td>\n",
       "      <td>3210/9-23 Mackenzie Street</td>\n",
       "      <td>Melbourne</td>\n",
       "      <td>3000</td>\n",
       "      <td>$450 per week</td>\n",
       "      <td>Apartment</td>\n",
       "      <td>1</td>\n",
       "      <td>1</td>\n",
       "      <td>0</td>\n",
       "      <td>0</td>\n",
       "      <td>N</td>\n",
       "      <td>-37.80753655</td>\n",
       "      <td>144.96732789</td>\n",
       "    </tr>\n",
       "    <tr>\n",
       "      <th>3</th>\n",
       "      <td>435144711</td>\n",
       "      <td>300/668 Bourke Street</td>\n",
       "      <td>Melbourne</td>\n",
       "      <td>3000</td>\n",
       "      <td>$550 per week</td>\n",
       "      <td>Apartment</td>\n",
       "      <td>2</td>\n",
       "      <td>2</td>\n",
       "      <td>1</td>\n",
       "      <td>0</td>\n",
       "      <td>N</td>\n",
       "      <td>-37.8166019</td>\n",
       "      <td>144.95420038</td>\n",
       "    </tr>\n",
       "    <tr>\n",
       "      <th>4</th>\n",
       "      <td>435044255</td>\n",
       "      <td>2108/11 Rose Lane</td>\n",
       "      <td>Melbourne</td>\n",
       "      <td>3000</td>\n",
       "      <td>$600 per week</td>\n",
       "      <td>Apartment</td>\n",
       "      <td>2</td>\n",
       "      <td>1</td>\n",
       "      <td>0</td>\n",
       "      <td>0</td>\n",
       "      <td>Y</td>\n",
       "      <td>-37.81545214</td>\n",
       "      <td>144.95408105</td>\n",
       "    </tr>\n",
       "  </tbody>\n",
       "</table>\n",
       "</div>"
      ],
      "text/plain": [
       "          id                     address     suburb  postcode          price  \\\n",
       "0  435045151        2109/33 MacKenzie St  Melbourne      3000  $560 per week   \n",
       "1  435045047           2108/11 Rose Lane  Melbourne      3000  $580 per week   \n",
       "2  435144851  3210/9-23 Mackenzie Street  Melbourne      3000  $450 per week   \n",
       "3  435144711       300/668 Bourke Street  Melbourne      3000  $550 per week   \n",
       "4  435044255           2108/11 Rose Lane  Melbourne      3000  $600 per week   \n",
       "\n",
       "  propertyType  bedrooms  bathrooms  parkingSpaces  studies furnished  \\\n",
       "0    Apartment         2          1              0        0         N   \n",
       "1    Apartment         2          1              0        0         Y   \n",
       "2    Apartment         1          1              0        0         N   \n",
       "3    Apartment         2          2              1        0         N   \n",
       "4    Apartment         2          1              0        0         Y   \n",
       "\n",
       "       latitude     longitude  \n",
       "0  -37.80768181  144.96683064  \n",
       "1  -37.81545214  144.95408105  \n",
       "2  -37.80753655  144.96732789  \n",
       "3   -37.8166019  144.95420038  \n",
       "4  -37.81545214  144.95408105  "
      ]
     },
     "execution_count": 35,
     "metadata": {},
     "output_type": "execute_result"
    }
   ],
   "source": [
    "df.head()"
   ]
  },
  {
   "cell_type": "code",
   "execution_count": 36,
   "id": "7f41481b-2199-42ac-ad2f-78dedc144fbe",
   "metadata": {},
   "outputs": [
    {
     "name": "stdout",
     "output_type": "stream",
     "text": [
      "<class 'pandas.core.frame.DataFrame'>\n",
      "RangeIndex: 11143 entries, 0 to 11142\n",
      "Data columns (total 13 columns):\n",
      " #   Column         Non-Null Count  Dtype \n",
      "---  ------         --------------  ----- \n",
      " 0   id             11143 non-null  int64 \n",
      " 1   address        11095 non-null  object\n",
      " 2   suburb         11143 non-null  object\n",
      " 3   postcode       11143 non-null  int64 \n",
      " 4   price          11143 non-null  object\n",
      " 5   propertyType   11143 non-null  object\n",
      " 6   bedrooms       11143 non-null  int64 \n",
      " 7   bathrooms      11143 non-null  int64 \n",
      " 8   parkingSpaces  11143 non-null  int64 \n",
      " 9   studies        11143 non-null  int64 \n",
      " 10  furnished      11143 non-null  object\n",
      " 11  latitude       11143 non-null  object\n",
      " 12  longitude      11143 non-null  object\n",
      "dtypes: int64(6), object(7)\n",
      "memory usage: 1.1+ MB\n"
     ]
    }
   ],
   "source": [
    "df.info()"
   ]
  },
  {
   "cell_type": "code",
   "execution_count": 37,
   "id": "4adb3652-6956-4b09-a8e9-e749da5f47ad",
   "metadata": {},
   "outputs": [
    {
     "data": {
      "text/plain": [
       "(11143, 13)"
      ]
     },
     "execution_count": 37,
     "metadata": {},
     "output_type": "execute_result"
    }
   ],
   "source": [
    "df.shape"
   ]
  },
  {
   "cell_type": "code",
   "execution_count": 38,
   "id": "3df0204d-8799-46cc-bffc-6631dbca5cd6",
   "metadata": {},
   "outputs": [
    {
     "data": {
      "text/plain": [
       "10"
      ]
     },
     "execution_count": 38,
     "metadata": {},
     "output_type": "execute_result"
    }
   ],
   "source": [
    "# check 'id' for dublicate data\n",
    "df.duplicated('id').sum()"
   ]
  },
  {
   "cell_type": "code",
   "execution_count": 39,
   "id": "24fb5525-883c-4fad-8395-ed7740ca88a7",
   "metadata": {},
   "outputs": [
    {
     "data": {
      "text/plain": [
       "(11133, 13)"
      ]
     },
     "execution_count": 39,
     "metadata": {},
     "output_type": "execute_result"
    }
   ],
   "source": [
    "df.drop_duplicates('id',inplace=True)\n",
    "df.shape"
   ]
  },
  {
   "cell_type": "code",
   "execution_count": 40,
   "id": "0302d959-868e-4b2e-94ee-a5d7525fbcbb",
   "metadata": {},
   "outputs": [
    {
     "data": {
      "text/plain": [
       "id                0\n",
       "address          48\n",
       "suburb            0\n",
       "postcode          0\n",
       "price             0\n",
       "propertyType      0\n",
       "bedrooms          0\n",
       "bathrooms         0\n",
       "parkingSpaces     0\n",
       "studies           0\n",
       "furnished         0\n",
       "latitude          0\n",
       "longitude         0\n",
       "dtype: int64"
      ]
     },
     "execution_count": 40,
     "metadata": {},
     "output_type": "execute_result"
    }
   ],
   "source": [
    "df.isnull().sum()"
   ]
  },
  {
   "cell_type": "code",
   "execution_count": 41,
   "id": "b57ead77-c066-4dd4-9f49-ce1e577c4927",
   "metadata": {},
   "outputs": [],
   "source": [
    "# address - 48 items missing, remove\n",
    "df = df.dropna()"
   ]
  },
  {
   "cell_type": "code",
   "execution_count": 42,
   "id": "127bd4bb-e419-41a9-831b-81e5f1655fc1",
   "metadata": {},
   "outputs": [
    {
     "data": {
      "text/plain": [
       "(11085, 13)"
      ]
     },
     "execution_count": 42,
     "metadata": {},
     "output_type": "execute_result"
    }
   ],
   "source": [
    "df.shape"
   ]
  },
  {
   "cell_type": "code",
   "execution_count": 43,
   "id": "24db5dd7-2001-4e1e-9de1-11b28a7dfb51",
   "metadata": {},
   "outputs": [
    {
     "data": {
      "text/plain": [
       "(11001, 13)"
      ]
     },
     "execution_count": 43,
     "metadata": {},
     "output_type": "execute_result"
    }
   ],
   "source": [
    "# latitude and longitude have missing values and shown by 'none'; remove\n",
    "df = df.drop(df[(df['latitude']=='None')|(df['longitude']=='None')].index)\n",
    "df.shape"
   ]
  },
  {
   "cell_type": "code",
   "execution_count": 44,
   "id": "f8b8ab72-98d4-4896-92f5-6b24faa751b8",
   "metadata": {},
   "outputs": [],
   "source": [
    "# process with regular expressions \n",
    "def fun(txt):\n",
    "    txt = txt.lower() #Change Uppercase to Lower case \n",
    "    txt = re.sub(' ','',txt) #remove spaces \n",
    "    txt = re.sub(',','',txt) #remove comma ','，some numbers like 1,200, the comma needs to be removed for matching\n",
    "    txt = re.sub('\\.(\\d+)','',txt) #process price data, remove decimal places - 250.00-->250\n",
    "    txt = re.sub('\\.','',txt) #remove'.'，p.w. also refers to perweek\n",
    "    res = re.findall('/w|p/?w|week',txt) # extract key words like perweek,/week,week,pw,/pw,p/w...\n",
    "    \n",
    "    # no matching string containing key words like perweek,/week... (not containing matching words)\n",
    "    if len(res)==0: \n",
    "        return 0\n",
    "    \n",
    "    rent = re.findall('\\$(\\d+)',txt) #Extract the rental amount, which may contain both weekly and monthly rents, and return a matching string\n",
    "    \n",
    "    # if no matching string is returned, then there is no rent data in the certain price; fill it with zeros for now. （not containing rent data不含租金数据）\n",
    "    if len(rent)==0:\n",
    "        return 0\n",
    "    \n",
    "    # take the minimum value when having both weekly rent and monthly rent\n",
    "    rent = [int(rent[i]) for i in range(len(rent))]\n",
    "    return min(rent)"
   ]
  },
  {
   "cell_type": "code",
   "execution_count": 45,
   "id": "a6b05918-162c-484b-8008-e42a8fe6af0f",
   "metadata": {},
   "outputs": [
    {
     "data": {
      "text/plain": [
       "count    11001.000000\n",
       "mean       504.873557\n",
       "std        285.516341\n",
       "min          0.000000\n",
       "25%        385.000000\n",
       "50%        450.000000\n",
       "75%        580.000000\n",
       "max       6000.000000\n",
       "Name: price, dtype: float64"
      ]
     },
     "execution_count": 45,
     "metadata": {},
     "output_type": "execute_result"
    }
   ],
   "source": [
    "df['price'] = df['price'].apply(fun)\n",
    "df['price'].describe()"
   ]
  },
  {
   "cell_type": "code",
   "execution_count": 46,
   "id": "5a7267a0-e02e-4959-8880-a8716abcf287",
   "metadata": {},
   "outputs": [],
   "source": [
    "df_new = df[df['price']!=0]"
   ]
  },
  {
   "cell_type": "code",
   "execution_count": 47,
   "id": "5e80963e-db2f-4f84-bc20-7a01550d985e",
   "metadata": {},
   "outputs": [
    {
     "data": {
      "text/plain": [
       "(10484, 13)"
      ]
     },
     "execution_count": 47,
     "metadata": {},
     "output_type": "execute_result"
    }
   ],
   "source": [
    "df_new.shape"
   ]
  },
  {
   "cell_type": "code",
   "execution_count": 49,
   "id": "ceae2e37-709f-489b-a9f3-1e1c86470680",
   "metadata": {},
   "outputs": [],
   "source": [
    "df_new.to_csv('new_realestate.csv',index=False)"
   ]
  },
  {
   "cell_type": "code",
   "execution_count": null,
   "id": "60ed036a-e78e-44af-a9c1-dc96c8477047",
   "metadata": {},
   "outputs": [],
   "source": []
  }
 ],
 "metadata": {
  "kernelspec": {
   "display_name": "Python 3 (ipykernel)",
   "language": "python",
   "name": "python3"
  },
  "language_info": {
   "codemirror_mode": {
    "name": "ipython",
    "version": 3
   },
   "file_extension": ".py",
   "mimetype": "text/x-python",
   "name": "python",
   "nbconvert_exporter": "python",
   "pygments_lexer": "ipython3",
   "version": "3.9.7"
  }
 },
 "nbformat": 4,
 "nbformat_minor": 5
}
